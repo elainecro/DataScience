{
 "cells": [
  {
   "cell_type": "code",
   "execution_count": 11,
   "metadata": {},
   "outputs": [
    {
     "name": "stdout",
     "output_type": "stream",
     "text": [
      "Entre com a sua idade:33\n",
      "No próximo ano você terá: 34 anos\n"
     ]
    }
   ],
   "source": [
    "# código 1\n",
    "idade = int(input(\"Entre com a sua idade:\"))\n",
    "nova_idade = idade + 1\n",
    "print(\"No próximo ano você terá: {} anos\".format(nova_idade))"
   ]
  },
  {
   "cell_type": "code",
   "execution_count": 15,
   "metadata": {},
   "outputs": [
    {
     "name": "stdout",
     "output_type": "stream",
     "text": [
      "O retângulo de lado A = 35 e lado B = 14.33 é 501.667 \n"
     ]
    }
   ],
   "source": [
    "# código 2\n",
    "lado_a = 35\n",
    "lado_b = 14.33333\n",
    "area_do_retangulo = (lado_a) * (lado_b)\n",
    "print('O retângulo de lado A = %d e lado B = %.2f é %.3f '%(lado_a, lado_b, area_do_retangulo))"
   ]
  },
  {
   "cell_type": "code",
   "execution_count": 4,
   "metadata": {},
   "outputs": [
    {
     "name": "stdout",
     "output_type": "stream",
     "text": [
      "[1, 2, 'IGTI', 2, 3, 'Bootcamp']\n"
     ]
    }
   ],
   "source": [
    "# código 3\n",
    "lista_1 = [1,2,'IGTI']\n",
    "lista_2 = [2,3,\"Bootcamp\"]\n",
    "lista_3 = lista_1 + lista_2\n",
    "print(lista_3)"
   ]
  },
  {
   "cell_type": "code",
   "execution_count": 6,
   "metadata": {},
   "outputs": [
    {
     "name": "stdout",
     "output_type": "stream",
     "text": [
      "Entre com um valor inteiro de 0 a 30: 16\n",
      "Você alertou um dos números que eu estava pensando.\n",
      "Esse número é maior do que 20.\n",
      "Esse número é menor do que 20.\n",
      "Você é fera\n",
      "Obrigado por participar\n"
     ]
    }
   ],
   "source": [
    "# código 4\n",
    "chute = int(input('Entre com um valor inteiro de 0 a 30: '))\n",
    "adivinhacao = [ 5, 6, 10, 14, 16, 20, 30]\n",
    "\n",
    "if chute in adivinhacao:\n",
    "    print('Você alertou um dos números que eu estava pensando.')\n",
    "    \n",
    "    if (chute > 15):\n",
    "        print('Esse número é maior do que 20.')\n",
    "        \n",
    "    if (chute < 20):\n",
    "        print('Esse número é menor do que 20.')\n",
    "        \n",
    "    print('Você é fera')\n",
    "else:\n",
    "    print('Que pena, você errou. Pode tentar outra vez.')\n",
    "\n",
    "print('Obrigado por participar')"
   ]
  },
  {
   "cell_type": "code",
   "execution_count": 16,
   "metadata": {},
   "outputs": [
    {
     "name": "stdout",
     "output_type": "stream",
     "text": [
      "maça\n",
      "banana\n"
     ]
    }
   ],
   "source": [
    "# código 5\n",
    "frutas = [\"maça\", \"banana\", \"uva\", \"goiaba\"]\n",
    "frutas.append(\"laranja\")\n",
    "for x in frutas:\n",
    "    if x == \"uva\":\n",
    "        break\n",
    "    print(x)"
   ]
  },
  {
   "cell_type": "code",
   "execution_count": 21,
   "metadata": {},
   "outputs": [
    {
     "name": "stdout",
     "output_type": "stream",
     "text": [
      "4\n",
      "3\n",
      "2\n",
      "1\n",
      "0\n",
      "-1\n"
     ]
    }
   ],
   "source": [
    "# código 6\n",
    "n = 5\n",
    "while n >= 0:\n",
    "    n -= 1\n",
    "    print(n)"
   ]
  },
  {
   "cell_type": "code",
   "execution_count": null,
   "metadata": {},
   "outputs": [],
   "source": []
  }
 ],
 "metadata": {
  "kernelspec": {
   "display_name": "Python 3",
   "language": "python",
   "name": "python3"
  },
  "language_info": {
   "codemirror_mode": {
    "name": "ipython",
    "version": 3
   },
   "file_extension": ".py",
   "mimetype": "text/x-python",
   "name": "python",
   "nbconvert_exporter": "python",
   "pygments_lexer": "ipython3",
   "version": "3.7.3"
  }
 },
 "nbformat": 4,
 "nbformat_minor": 2
}
