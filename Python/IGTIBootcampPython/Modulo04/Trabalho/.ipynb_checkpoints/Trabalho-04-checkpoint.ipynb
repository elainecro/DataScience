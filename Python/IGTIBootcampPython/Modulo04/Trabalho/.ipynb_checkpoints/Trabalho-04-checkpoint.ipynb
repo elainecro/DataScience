{
 "cells": [
  {
   "cell_type": "code",
   "execution_count": 1,
   "metadata": {},
   "outputs": [],
   "source": [
    "import pandas as pd #biblioteca para manipulação de dados\n",
    "import numpy as np #biblioteca para utilizacao de vetores e matrizes\n",
    "import matplotlib.pyplot as plt #bibloteca para plotar graficos"
   ]
  },
  {
   "cell_type": "code",
   "execution_count": 38,
   "metadata": {},
   "outputs": [],
   "source": [
    "#lendo o csv que contem a base de dados e armazanando em um df\n",
    "df = pd.read_csv('datasets_diabetes.csv')"
   ]
  },
  {
   "cell_type": "code",
   "execution_count": 39,
   "metadata": {},
   "outputs": [
    {
     "data": {
      "text/html": [
       "<div>\n",
       "<style scoped>\n",
       "    .dataframe tbody tr th:only-of-type {\n",
       "        vertical-align: middle;\n",
       "    }\n",
       "\n",
       "    .dataframe tbody tr th {\n",
       "        vertical-align: top;\n",
       "    }\n",
       "\n",
       "    .dataframe thead th {\n",
       "        text-align: right;\n",
       "    }\n",
       "</style>\n",
       "<table border=\"1\" class=\"dataframe\">\n",
       "  <thead>\n",
       "    <tr style=\"text-align: right;\">\n",
       "      <th></th>\n",
       "      <th>Pregnancies</th>\n",
       "      <th>Glucose</th>\n",
       "      <th>BloodPressure</th>\n",
       "      <th>SkinThickness</th>\n",
       "      <th>Insulin</th>\n",
       "      <th>BMI</th>\n",
       "      <th>DiabetesPedigreeFunction</th>\n",
       "      <th>Age</th>\n",
       "      <th>Outcome</th>\n",
       "    </tr>\n",
       "  </thead>\n",
       "  <tbody>\n",
       "    <tr>\n",
       "      <th>0</th>\n",
       "      <td>6</td>\n",
       "      <td>148</td>\n",
       "      <td>72</td>\n",
       "      <td>35</td>\n",
       "      <td>0</td>\n",
       "      <td>33.6</td>\n",
       "      <td>0.627</td>\n",
       "      <td>50</td>\n",
       "      <td>1</td>\n",
       "    </tr>\n",
       "    <tr>\n",
       "      <th>1</th>\n",
       "      <td>1</td>\n",
       "      <td>85</td>\n",
       "      <td>66</td>\n",
       "      <td>29</td>\n",
       "      <td>0</td>\n",
       "      <td>26.6</td>\n",
       "      <td>0.351</td>\n",
       "      <td>31</td>\n",
       "      <td>0</td>\n",
       "    </tr>\n",
       "    <tr>\n",
       "      <th>2</th>\n",
       "      <td>8</td>\n",
       "      <td>183</td>\n",
       "      <td>64</td>\n",
       "      <td>0</td>\n",
       "      <td>0</td>\n",
       "      <td>23.3</td>\n",
       "      <td>0.672</td>\n",
       "      <td>32</td>\n",
       "      <td>1</td>\n",
       "    </tr>\n",
       "    <tr>\n",
       "      <th>3</th>\n",
       "      <td>1</td>\n",
       "      <td>89</td>\n",
       "      <td>66</td>\n",
       "      <td>23</td>\n",
       "      <td>94</td>\n",
       "      <td>28.1</td>\n",
       "      <td>0.167</td>\n",
       "      <td>21</td>\n",
       "      <td>0</td>\n",
       "    </tr>\n",
       "    <tr>\n",
       "      <th>4</th>\n",
       "      <td>0</td>\n",
       "      <td>137</td>\n",
       "      <td>40</td>\n",
       "      <td>35</td>\n",
       "      <td>168</td>\n",
       "      <td>43.1</td>\n",
       "      <td>2.288</td>\n",
       "      <td>33</td>\n",
       "      <td>1</td>\n",
       "    </tr>\n",
       "  </tbody>\n",
       "</table>\n",
       "</div>"
      ],
      "text/plain": [
       "   Pregnancies  Glucose  BloodPressure  SkinThickness  Insulin   BMI  \\\n",
       "0            6      148             72             35        0  33.6   \n",
       "1            1       85             66             29        0  26.6   \n",
       "2            8      183             64              0        0  23.3   \n",
       "3            1       89             66             23       94  28.1   \n",
       "4            0      137             40             35      168  43.1   \n",
       "\n",
       "   DiabetesPedigreeFunction  Age  Outcome  \n",
       "0                     0.627   50        1  \n",
       "1                     0.351   31        0  \n",
       "2                     0.672   32        1  \n",
       "3                     0.167   21        0  \n",
       "4                     2.288   33        1  "
      ]
     },
     "execution_count": 39,
     "metadata": {},
     "output_type": "execute_result"
    }
   ],
   "source": [
    "df.head()"
   ]
  },
  {
   "cell_type": "code",
   "execution_count": 40,
   "metadata": {},
   "outputs": [
    {
     "data": {
      "text/plain": [
       "(768, 9)"
      ]
     },
     "execution_count": 40,
     "metadata": {},
     "output_type": "execute_result"
    }
   ],
   "source": [
    "df.shape"
   ]
  },
  {
   "cell_type": "code",
   "execution_count": 41,
   "metadata": {},
   "outputs": [
    {
     "data": {
      "text/html": [
       "<div>\n",
       "<style scoped>\n",
       "    .dataframe tbody tr th:only-of-type {\n",
       "        vertical-align: middle;\n",
       "    }\n",
       "\n",
       "    .dataframe tbody tr th {\n",
       "        vertical-align: top;\n",
       "    }\n",
       "\n",
       "    .dataframe thead th {\n",
       "        text-align: right;\n",
       "    }\n",
       "</style>\n",
       "<table border=\"1\" class=\"dataframe\">\n",
       "  <thead>\n",
       "    <tr style=\"text-align: right;\">\n",
       "      <th></th>\n",
       "      <th>Pregnancies</th>\n",
       "      <th>Glucose</th>\n",
       "      <th>BloodPressure</th>\n",
       "      <th>SkinThickness</th>\n",
       "      <th>Insulin</th>\n",
       "      <th>BMI</th>\n",
       "      <th>DiabetesPedigreeFunction</th>\n",
       "      <th>Age</th>\n",
       "      <th>Outcome</th>\n",
       "    </tr>\n",
       "  </thead>\n",
       "  <tbody>\n",
       "    <tr>\n",
       "      <th>count</th>\n",
       "      <td>768.000000</td>\n",
       "      <td>768.000000</td>\n",
       "      <td>768.000000</td>\n",
       "      <td>768.000000</td>\n",
       "      <td>768.000000</td>\n",
       "      <td>768.000000</td>\n",
       "      <td>768.000000</td>\n",
       "      <td>768.000000</td>\n",
       "      <td>768.000000</td>\n",
       "    </tr>\n",
       "    <tr>\n",
       "      <th>mean</th>\n",
       "      <td>3.845052</td>\n",
       "      <td>120.894531</td>\n",
       "      <td>69.105469</td>\n",
       "      <td>20.536458</td>\n",
       "      <td>79.799479</td>\n",
       "      <td>31.992578</td>\n",
       "      <td>0.471876</td>\n",
       "      <td>33.240885</td>\n",
       "      <td>0.348958</td>\n",
       "    </tr>\n",
       "    <tr>\n",
       "      <th>std</th>\n",
       "      <td>3.369578</td>\n",
       "      <td>31.972618</td>\n",
       "      <td>19.355807</td>\n",
       "      <td>15.952218</td>\n",
       "      <td>115.244002</td>\n",
       "      <td>7.884160</td>\n",
       "      <td>0.331329</td>\n",
       "      <td>11.760232</td>\n",
       "      <td>0.476951</td>\n",
       "    </tr>\n",
       "    <tr>\n",
       "      <th>min</th>\n",
       "      <td>0.000000</td>\n",
       "      <td>0.000000</td>\n",
       "      <td>0.000000</td>\n",
       "      <td>0.000000</td>\n",
       "      <td>0.000000</td>\n",
       "      <td>0.000000</td>\n",
       "      <td>0.078000</td>\n",
       "      <td>21.000000</td>\n",
       "      <td>0.000000</td>\n",
       "    </tr>\n",
       "    <tr>\n",
       "      <th>25%</th>\n",
       "      <td>1.000000</td>\n",
       "      <td>99.000000</td>\n",
       "      <td>62.000000</td>\n",
       "      <td>0.000000</td>\n",
       "      <td>0.000000</td>\n",
       "      <td>27.300000</td>\n",
       "      <td>0.243750</td>\n",
       "      <td>24.000000</td>\n",
       "      <td>0.000000</td>\n",
       "    </tr>\n",
       "    <tr>\n",
       "      <th>50%</th>\n",
       "      <td>3.000000</td>\n",
       "      <td>117.000000</td>\n",
       "      <td>72.000000</td>\n",
       "      <td>23.000000</td>\n",
       "      <td>30.500000</td>\n",
       "      <td>32.000000</td>\n",
       "      <td>0.372500</td>\n",
       "      <td>29.000000</td>\n",
       "      <td>0.000000</td>\n",
       "    </tr>\n",
       "    <tr>\n",
       "      <th>75%</th>\n",
       "      <td>6.000000</td>\n",
       "      <td>140.250000</td>\n",
       "      <td>80.000000</td>\n",
       "      <td>32.000000</td>\n",
       "      <td>127.250000</td>\n",
       "      <td>36.600000</td>\n",
       "      <td>0.626250</td>\n",
       "      <td>41.000000</td>\n",
       "      <td>1.000000</td>\n",
       "    </tr>\n",
       "    <tr>\n",
       "      <th>max</th>\n",
       "      <td>17.000000</td>\n",
       "      <td>199.000000</td>\n",
       "      <td>122.000000</td>\n",
       "      <td>99.000000</td>\n",
       "      <td>846.000000</td>\n",
       "      <td>67.100000</td>\n",
       "      <td>2.420000</td>\n",
       "      <td>81.000000</td>\n",
       "      <td>1.000000</td>\n",
       "    </tr>\n",
       "  </tbody>\n",
       "</table>\n",
       "</div>"
      ],
      "text/plain": [
       "       Pregnancies     Glucose  BloodPressure  SkinThickness     Insulin  \\\n",
       "count   768.000000  768.000000     768.000000     768.000000  768.000000   \n",
       "mean      3.845052  120.894531      69.105469      20.536458   79.799479   \n",
       "std       3.369578   31.972618      19.355807      15.952218  115.244002   \n",
       "min       0.000000    0.000000       0.000000       0.000000    0.000000   \n",
       "25%       1.000000   99.000000      62.000000       0.000000    0.000000   \n",
       "50%       3.000000  117.000000      72.000000      23.000000   30.500000   \n",
       "75%       6.000000  140.250000      80.000000      32.000000  127.250000   \n",
       "max      17.000000  199.000000     122.000000      99.000000  846.000000   \n",
       "\n",
       "              BMI  DiabetesPedigreeFunction         Age     Outcome  \n",
       "count  768.000000                768.000000  768.000000  768.000000  \n",
       "mean    31.992578                  0.471876   33.240885    0.348958  \n",
       "std      7.884160                  0.331329   11.760232    0.476951  \n",
       "min      0.000000                  0.078000   21.000000    0.000000  \n",
       "25%     27.300000                  0.243750   24.000000    0.000000  \n",
       "50%     32.000000                  0.372500   29.000000    0.000000  \n",
       "75%     36.600000                  0.626250   41.000000    1.000000  \n",
       "max     67.100000                  2.420000   81.000000    1.000000  "
      ]
     },
     "execution_count": 41,
     "metadata": {},
     "output_type": "execute_result"
    }
   ],
   "source": [
    "df.describe()"
   ]
  },
  {
   "cell_type": "code",
   "execution_count": 42,
   "metadata": {},
   "outputs": [
    {
     "name": "stdout",
     "output_type": "stream",
     "text": [
      "<class 'pandas.core.frame.DataFrame'>\n",
      "RangeIndex: 768 entries, 0 to 767\n",
      "Data columns (total 9 columns):\n",
      "Pregnancies                 768 non-null int64\n",
      "Glucose                     768 non-null int64\n",
      "BloodPressure               768 non-null int64\n",
      "SkinThickness               768 non-null int64\n",
      "Insulin                     768 non-null int64\n",
      "BMI                         768 non-null float64\n",
      "DiabetesPedigreeFunction    768 non-null float64\n",
      "Age                         768 non-null int64\n",
      "Outcome                     768 non-null int64\n",
      "dtypes: float64(2), int64(7)\n",
      "memory usage: 54.1 KB\n"
     ]
    }
   ],
   "source": [
    "df.info()"
   ]
  },
  {
   "cell_type": "code",
   "execution_count": 43,
   "metadata": {},
   "outputs": [],
   "source": [
    "X = df.iloc[:,:-1].values\n",
    "y = df.iloc[:,8].values"
   ]
  },
  {
   "cell_type": "code",
   "execution_count": 71,
   "metadata": {},
   "outputs": [
    {
     "data": {
      "text/plain": [
       "268"
      ]
     },
     "execution_count": 71,
     "metadata": {},
     "output_type": "execute_result"
    }
   ],
   "source": [
    "uns = list(filter(lambda numero: numero == 1, y))\n",
    "count_uns = len(uns)\n",
    "count_uns"
   ]
  },
  {
   "cell_type": "code",
   "execution_count": 44,
   "metadata": {},
   "outputs": [],
   "source": [
    "# Train Test Split\n",
    "from sklearn.model_selection import train_test_split\n",
    "\n",
    "# aplicando a funcao train_test_split para separar os conjuntos de treino e teste segundo uma porcentagem de separação definida. \n",
    "train_data, test_data, train_labels, test_labels = train_test_split(X, y, test_size = 0.30, random_state = 42)"
   ]
  },
  {
   "cell_type": "code",
   "execution_count": 74,
   "metadata": {},
   "outputs": [
    {
     "data": {
      "text/plain": [
       "537"
      ]
     },
     "execution_count": 74,
     "metadata": {},
     "output_type": "execute_result"
    }
   ],
   "source": [
    "len(train_data)"
   ]
  },
  {
   "cell_type": "code",
   "execution_count": 45,
   "metadata": {},
   "outputs": [],
   "source": [
    "# Normalizando dados\n",
    "from sklearn.preprocessing import MinMaxScaler\n",
    "\n",
    "normaliza = MinMaxScaler()\n",
    "TreinoNormalizado = normaliza.fit_transform(train_data)\n",
    "TesteNormalizado = normaliza.fit_transform(test_data)"
   ]
  },
  {
   "cell_type": "markdown",
   "metadata": {},
   "source": [
    "### KNeighborsClassifier"
   ]
  },
  {
   "cell_type": "code",
   "execution_count": 90,
   "metadata": {
    "scrolled": true
   },
   "outputs": [
    {
     "data": {
      "text/plain": [
       "KNeighborsClassifier(algorithm='auto', leaf_size=30, metric='minkowski',\n",
       "           metric_params=None, n_jobs=None, n_neighbors=5, p=2,\n",
       "           weights='uniform')"
      ]
     },
     "execution_count": 90,
     "metadata": {},
     "output_type": "execute_result"
    }
   ],
   "source": [
    "# KNeighborsClassifier\n",
    "from sklearn.neighbors import KNeighborsClassifier\n",
    "classifier = KNeighborsClassifier(n_neighbors=5) #utiliza a construção por meio de 5 vizinhos\n",
    "classifier.fit(TreinoNormalizado, train_labels) # aplica a classificação"
   ]
  },
  {
   "cell_type": "code",
   "execution_count": 91,
   "metadata": {},
   "outputs": [],
   "source": [
    "#realiza a previsão\n",
    "predicoes = classifier.predict(TesteNormalizado)"
   ]
  },
  {
   "cell_type": "code",
   "execution_count": 92,
   "metadata": {},
   "outputs": [
    {
     "name": "stdout",
     "output_type": "stream",
     "text": [
      "[[131  20]\n",
      " [ 45  35]]\n",
      "              precision    recall  f1-score   support\n",
      "\n",
      "           0       0.74      0.87      0.80       151\n",
      "           1       0.64      0.44      0.52        80\n",
      "\n",
      "   micro avg       0.72      0.72      0.72       231\n",
      "   macro avg       0.69      0.65      0.66       231\n",
      "weighted avg       0.71      0.72      0.70       231\n",
      "\n"
     ]
    }
   ],
   "source": [
    "#constroi a matriz de confusão para comparar o modelo criado\n",
    "from sklearn.metrics import classification_report, confusion_matrix\n",
    "print(confusion_matrix(test_labels, predicoes))\n",
    "print(classification_report(test_labels, predicoes))"
   ]
  },
  {
   "cell_type": "code",
   "execution_count": 93,
   "metadata": {},
   "outputs": [
    {
     "data": {
      "text/plain": [
       "0.7186147186147186"
      ]
     },
     "execution_count": 93,
     "metadata": {},
     "output_type": "execute_result"
    }
   ],
   "source": [
    "from sklearn.metrics import accuracy_score\n",
    "accuracy_score(test_labels, predicoes)"
   ]
  },
  {
   "cell_type": "markdown",
   "metadata": {},
   "source": [
    "### DecisionTreeClassifier"
   ]
  },
  {
   "cell_type": "code",
   "execution_count": 78,
   "metadata": {},
   "outputs": [],
   "source": [
    "from sklearn.tree import DecisionTreeClassifier # importa o classificador árvore de decisão\n",
    "from sklearn import metrics #importa as métricas para avaliação"
   ]
  },
  {
   "cell_type": "code",
   "execution_count": 94,
   "metadata": {},
   "outputs": [],
   "source": [
    "# Cria o objeto de classificação através do \n",
    "clf = DecisionTreeClassifier()\n",
    "\n",
    "# Realiza o treinamento do classificador\n",
    "clf = clf.fit(TreinoNormalizado,train_labels)\n",
    "\n",
    "#Realiza a previsão de classificaçao \n",
    "predDecisionTree = clf.predict(TesteNormalizado)"
   ]
  },
  {
   "cell_type": "code",
   "execution_count": 95,
   "metadata": {},
   "outputs": [
    {
     "name": "stdout",
     "output_type": "stream",
     "text": [
      "[[121  30]\n",
      " [ 34  46]]\n",
      "              precision    recall  f1-score   support\n",
      "\n",
      "           0       0.78      0.80      0.79       151\n",
      "           1       0.61      0.57      0.59        80\n",
      "\n",
      "   micro avg       0.72      0.72      0.72       231\n",
      "   macro avg       0.69      0.69      0.69       231\n",
      "weighted avg       0.72      0.72      0.72       231\n",
      "\n"
     ]
    }
   ],
   "source": [
    "#constroi a matriz de confusão para comparar o modelo criado\n",
    "from sklearn.metrics import classification_report, confusion_matrix\n",
    "print(confusion_matrix(test_labels, predDecisionTree))\n",
    "print(classification_report(test_labels, predDecisionTree))"
   ]
  },
  {
   "cell_type": "markdown",
   "metadata": {},
   "source": [
    "### Floresta Randômica"
   ]
  },
  {
   "cell_type": "code",
   "execution_count": 55,
   "metadata": {},
   "outputs": [],
   "source": [
    "from sklearn.ensemble import RandomForestClassifier"
   ]
  },
  {
   "cell_type": "code",
   "execution_count": 96,
   "metadata": {},
   "outputs": [
    {
     "name": "stderr",
     "output_type": "stream",
     "text": [
      "D:\\Users\\elain\\Anaconda3\\lib\\site-packages\\sklearn\\ensemble\\forest.py:246: FutureWarning: The default value of n_estimators will change from 10 in version 0.20 to 100 in 0.22.\n",
      "  \"10 in version 0.20 to 100 in 0.22.\", FutureWarning)\n"
     ]
    }
   ],
   "source": [
    "clf = RandomForestClassifier(max_depth=2, random_state=0)\n",
    "clf.fit(TreinoNormalizado, train_labels)\n",
    "\n",
    "randomPreds = clf.predict(TesteNormalizado)"
   ]
  },
  {
   "cell_type": "code",
   "execution_count": 97,
   "metadata": {},
   "outputs": [
    {
     "name": "stdout",
     "output_type": "stream",
     "text": [
      "[[140  11]\n",
      " [ 49  31]]\n",
      "              precision    recall  f1-score   support\n",
      "\n",
      "           0       0.74      0.93      0.82       151\n",
      "           1       0.74      0.39      0.51        80\n",
      "\n",
      "   micro avg       0.74      0.74      0.74       231\n",
      "   macro avg       0.74      0.66      0.67       231\n",
      "weighted avg       0.74      0.74      0.71       231\n",
      "\n"
     ]
    }
   ],
   "source": [
    "#constroi a matriz de confusão para comparar o modelo criado\n",
    "from sklearn.metrics import classification_report, confusion_matrix\n",
    "print(confusion_matrix(test_labels, randomPreds))\n",
    "print(classification_report(test_labels, randomPreds))"
   ]
  },
  {
   "cell_type": "markdown",
   "metadata": {},
   "source": [
    "### SVM"
   ]
  },
  {
   "cell_type": "code",
   "execution_count": 59,
   "metadata": {},
   "outputs": [],
   "source": [
    "#biblioteca necessária para a construção do SVM\n",
    "from sklearn.svm import SVC"
   ]
  },
  {
   "cell_type": "code",
   "execution_count": 60,
   "metadata": {},
   "outputs": [],
   "source": [
    "#cria o objeto SVM\n",
    "clf = SVC()    "
   ]
  },
  {
   "cell_type": "code",
   "execution_count": 98,
   "metadata": {},
   "outputs": [
    {
     "data": {
      "text/plain": [
       "RandomForestClassifier(bootstrap=True, class_weight=None, criterion='gini',\n",
       "            max_depth=2, max_features='auto', max_leaf_nodes=None,\n",
       "            min_impurity_decrease=0.0, min_impurity_split=None,\n",
       "            min_samples_leaf=1, min_samples_split=2,\n",
       "            min_weight_fraction_leaf=0.0, n_estimators=10, n_jobs=None,\n",
       "            oob_score=False, random_state=0, verbose=0, warm_start=False)"
      ]
     },
     "execution_count": 98,
     "metadata": {},
     "output_type": "execute_result"
    }
   ],
   "source": [
    "#realiza a classificação via SVM\n",
    "clf.fit(TreinoNormalizado,train_labels)"
   ]
  },
  {
   "cell_type": "code",
   "execution_count": 99,
   "metadata": {},
   "outputs": [],
   "source": [
    "#Realiza a previsão de classificaçao \n",
    "y_pred = clf.predict(TesteNormalizado)"
   ]
  },
  {
   "cell_type": "code",
   "execution_count": 100,
   "metadata": {},
   "outputs": [
    {
     "name": "stdout",
     "output_type": "stream",
     "text": [
      "[[140  11]\n",
      " [ 49  31]]\n",
      "              precision    recall  f1-score   support\n",
      "\n",
      "           0       0.74      0.93      0.82       151\n",
      "           1       0.74      0.39      0.51        80\n",
      "\n",
      "   micro avg       0.74      0.74      0.74       231\n",
      "   macro avg       0.74      0.66      0.67       231\n",
      "weighted avg       0.74      0.74      0.71       231\n",
      "\n"
     ]
    }
   ],
   "source": [
    "#constroi a matriz de confusão para comparar o modelo criado\n",
    "from sklearn.metrics import classification_report, confusion_matrix\n",
    "print(confusion_matrix(test_labels, y_pred))\n",
    "print(classification_report(test_labels, y_pred))"
   ]
  },
  {
   "cell_type": "markdown",
   "metadata": {},
   "source": [
    "### Rede MLP"
   ]
  },
  {
   "cell_type": "code",
   "execution_count": 64,
   "metadata": {},
   "outputs": [],
   "source": [
    "#definição da biblioteca\n",
    "from sklearn.neural_network import MLPClassifier\n",
    "\n",
    "#define a configuração da rede\n",
    "clf = MLPClassifier(solver='lbfgs', alpha=1e-5, hidden_layer_sizes=(5, 5), random_state=1) #rede com escondidas com 5 neurônios cada "
   ]
  },
  {
   "cell_type": "code",
   "execution_count": 101,
   "metadata": {},
   "outputs": [],
   "source": [
    "#realiza o fit do modelo\n",
    "clf.fit(TreinoNormalizado,train_labels)\n",
    "\n",
    "#realiza a previsão\n",
    "y_pred=clf.predict(TesteNormalizado)"
   ]
  },
  {
   "cell_type": "code",
   "execution_count": 102,
   "metadata": {},
   "outputs": [
    {
     "name": "stdout",
     "output_type": "stream",
     "text": [
      "[[140  11]\n",
      " [ 49  31]]\n",
      "              precision    recall  f1-score   support\n",
      "\n",
      "           0       0.74      0.93      0.82       151\n",
      "           1       0.74      0.39      0.51        80\n",
      "\n",
      "   micro avg       0.74      0.74      0.74       231\n",
      "   macro avg       0.74      0.66      0.67       231\n",
      "weighted avg       0.74      0.74      0.71       231\n",
      "\n"
     ]
    }
   ],
   "source": [
    "#constroi a matriz de confusão para comparar o modelo criado\n",
    "from sklearn.metrics import classification_report, confusion_matrix\n",
    "print(confusion_matrix(test_labels, y_pred))\n",
    "print(classification_report(test_labels, y_pred))"
   ]
  },
  {
   "cell_type": "markdown",
   "metadata": {},
   "source": [
    "### Threads"
   ]
  },
  {
   "cell_type": "code",
   "execution_count": 67,
   "metadata": {},
   "outputs": [],
   "source": [
    "import threading\n",
    "import time\n",
    "from random import randint"
   ]
  },
  {
   "cell_type": "code",
   "execution_count": 85,
   "metadata": {},
   "outputs": [
    {
     "name": "stdout",
     "output_type": "stream",
     "text": [
      "n_1: 99\n",
      "n_2: 1\n",
      "n_1: 69\n",
      "n_1: 68\n",
      "n_1: 98\n",
      "n_1: 97\n",
      "n_2: 2\n",
      "n_2: 3\n",
      "n_2: 4\n",
      "n_1: 67\n",
      "n_1: 96\n",
      "n_1: 95\n",
      "n_2: 5\n",
      "n_1: 94\n",
      "n_1: 93\n",
      "n_1: 66\n",
      "n_1: 92\n",
      "n_2: 6\n",
      "n_1: 65\n",
      "n_1: 64\n",
      "n_1: 63\n",
      "n_1: 91\n",
      "n_2: 7\n",
      "n_2: 8\n",
      "n_2: 9\n",
      "n_2: 10\n",
      "n_1: 62\n",
      "n_1: 90\n",
      "n_1: 61\n",
      "n_2: 11n_1: 89\n",
      "n_2: 12\n",
      "\n",
      "n_1: 88\n",
      "n_2: 13\n",
      "n_1: 60\n",
      "n_2: 14n_1: 87\n",
      "n_1: 86\n",
      "\n",
      "n_1: 59\n",
      "n_1: 85\n",
      "n_1: 84n_2: 15\n",
      "n_2: 16\n",
      "n_2: 17\n",
      "n_2: 18\n",
      "\n",
      "n_1: 58\n",
      "n_2: 19n_1: 83\n",
      "\n",
      "n_1: 57\n",
      "n_1: 56\n",
      "n_1: 55\n",
      "n_1: 54\n",
      "n_1: 53\n",
      "n_2: 20\n",
      "n_1: 82\n",
      "n_1: 52\n",
      "n_2: 21\n",
      "n_2: 22\n",
      "n_1: 51\n",
      "n_1: 81\n",
      "n_2: 23\n",
      "n_1: 50\n",
      "n_1: 80n_2: 24\n",
      "\n",
      "n_1: 79\n",
      "n_1: 49\n",
      "n_1: 78n_2: 25\n",
      "\n",
      "n_1: 48\n",
      "n_1: 47\n",
      "n_2: 26n_1: 77\n",
      "\n",
      "n_2: 27\n",
      "n_1: 46\n",
      "n_1: 76n_2: 28\n",
      "\n",
      "n_1: 45\n",
      "n_2: 29n_1: 75\n",
      "n_1: 74\n",
      "\n",
      "n_2: 30\n",
      "n_2: 31\n",
      "n_1: 73n_2: 32\n",
      "\n",
      "n_1: 72\n",
      "n_1: 44\n",
      "n_1: 43\n",
      "n_1: 42\n",
      "n_1: 71\n",
      "n_2: 33\n",
      "n_1: 41\n",
      "n_1: 70\n",
      "n_2: 34\n",
      "n_2: 35\n",
      "n_2: 36\n",
      "n_1: 40\n",
      "n_1: 39\n",
      "n_2: 37n_1: 69\n",
      "n_2: 38\n",
      "\n",
      "n_2: 39\n",
      "n_1: 68\n",
      "n_1: 67\n",
      "n_1: 66\n",
      "n_1: 38\n",
      "n_1: 37\n",
      "n_2: 40\n",
      "n_1: 65\n",
      "n_1: 64\n",
      "n_1: 63\n",
      "n_1: 36\n",
      "n_1: 62\n",
      "n_1: 35\n",
      "n_1: 34\n",
      "n_1: 33\n",
      "n_2: 41\n",
      "n_1: 32\n",
      "n_1: 61\n",
      "n_1: 60\n",
      "n_1: 31\n",
      "n_2: 42\n",
      "n_2: 43\n",
      "n_2: 44\n",
      "n_2: 45\n",
      "n_1: 59\n",
      "n_1: 30\n",
      "n_2: 46\n",
      "n_2: 47\n",
      "n_1: 58\n",
      "n_1: 29\n",
      "n_1: 28\n",
      "n_1: 27\n",
      "n_1: 57\n",
      "n_1: 56\n",
      "n_1: 26\n",
      "n_1: 25\n",
      "n_2: 48\n",
      "n_2: 49\n",
      "n_1: 55\n",
      "n_1: 54\n",
      "n_1: 24\n",
      "n_1: 23\n",
      "n_2: 50\n",
      "n_2: 51\n",
      "n_2: 52n_1: 53\n",
      "n_1: 52\n",
      "\n",
      "n_1: 22\n",
      "n_1: 21\n",
      "n_1: 51\n",
      "n_1: 20\n",
      "n_2: 53\n",
      "n_1: 50\n",
      "n_1: 19\n",
      "n_1: 18\n",
      "n_1: 49n_2: 54\n",
      "\n",
      "n_1: 48\n",
      "n_1: 17\n",
      "n_2: 55\n",
      "n_1: 47\n",
      "n_1: 16\n",
      "n_1: 15\n",
      "n_2: 56\n",
      "n_1: 46\n",
      "n_1: 14\n",
      "n_1: 13\n",
      "n_1: 12\n",
      "n_2: 57\n",
      "n_2: 58\n",
      "n_2: 59\n",
      "n_2: 60\n",
      "n_1: 45\n",
      "n_1: 44\n",
      "n_1: 43\n",
      "n_1: 11\n",
      "n_2: 61\n",
      "n_2: 62n_1: 42\n",
      "\n",
      "n_1: 10\n",
      "n_1: 9\n",
      "n_1: 41\n",
      "n_1: 40\n",
      "n_1: 8\n",
      "n_2: 63\n",
      "n_1: 39\n",
      "n_1: 38\n",
      "n_2: 64\n",
      "n_1: 7\n",
      "n_2: 65\n",
      "n_1: 37\n",
      "n_1: 36\n",
      "n_1: 35\n",
      "n_1: 6\n",
      "n_1: 34\n",
      "n_1: 33\n",
      "n_2: 66\n",
      "n_1: 5\n",
      "n_1: 4\n",
      "n_1: 32\n",
      "n_2: 67\n",
      "n_1: 3\n",
      "n_1: 31\n",
      "n_2: 68\n",
      "n_1: 30\n",
      "n_2: 69\n",
      "n_1: 2\n",
      "n_1: 29\n",
      "n_1: 28\n",
      "n_2: 70\n",
      "n_2: 71\n",
      "n_2: 72\n",
      "n_1: 1\n",
      "n_2: 73\n",
      "n_1: 27\n",
      "n_2: 74\n",
      "n_2: 75\n",
      "n_1: 0\n",
      "n_2: 76\n",
      "n_2: 77\n",
      "n_1: 26\n",
      "n_2: 78\n",
      "n_2: 79\n",
      "n_1: 25\n",
      "n_1: 24\n",
      "n_1: 23\n",
      "n_1: 22\n",
      "n_2: 80\n",
      "n_2: 81\n",
      "n_2: 82\n",
      "n_2: 83\n",
      "n_2: 84\n",
      "n_1: 21\n",
      "n_2: 85\n",
      "n_2: 86\n",
      "n_2: 87\n",
      "n_2: 88\n",
      "n_2: 89\n",
      "n_1: 20\n",
      "n_2: 90\n",
      "n_1: 19\n",
      "n_2: 91\n",
      "n_2: 92\n",
      "n_2: 93\n",
      "n_2: 94\n",
      "n_1: 18\n",
      "n_2: 95\n",
      "n_2: 96\n",
      "n_1: 17\n",
      "n_2: 97\n",
      "n_1: 16\n",
      "n_2: 98\n",
      "n_2: 99\n",
      "n_1: 15\n",
      "n_1: 14\n",
      "n_2: 100\n",
      "n_1: 13\n",
      "n_1: 12\n",
      "n_1: 11\n",
      "n_1: 10\n",
      "n_1: 9\n",
      "n_1: 8\n",
      "n_1: 7\n",
      "n_1: 6\n",
      "n_1: 5\n",
      "n_1: 4\n",
      "n_1: 3\n",
      "n_1: 2\n",
      "n_1: 1\n",
      "n_1: 0\n",
      "Fim!\n"
     ]
    }
   ],
   "source": [
    "def funcao_1(num):\n",
    "    n = num\n",
    "    while n >0:\n",
    "        n-=1\n",
    "        print(\"n_1: {}\".format(n))\n",
    "        time.sleep(randint(0,2))\n",
    "        \n",
    "def funcao_2(num):\n",
    "    n = num\n",
    "    while n < 100:\n",
    "        n+=1\n",
    "        print(\"n_2: {}\".format(n))\n",
    "        time.sleep(randint(0,2))\n",
    "        \n",
    "if __name__ == \"__main__\":\n",
    "    t1 = threading.Thread(target=funcao_1, args=(100,))\n",
    "    t2 = threading.Thread(target=funcao_2, args=(0,))\n",
    "    \n",
    "    t1.start()\n",
    "    t2.start()\n",
    "    \n",
    "    t1.join()\n",
    "    t2.join()\n",
    "    \n",
    "    print(\"Fim!\")"
   ]
  },
  {
   "cell_type": "code",
   "execution_count": null,
   "metadata": {},
   "outputs": [],
   "source": []
  }
 ],
 "metadata": {
  "kernelspec": {
   "display_name": "Python 3",
   "language": "python",
   "name": "python3"
  },
  "language_info": {
   "codemirror_mode": {
    "name": "ipython",
    "version": 3
   },
   "file_extension": ".py",
   "mimetype": "text/x-python",
   "name": "python",
   "nbconvert_exporter": "python",
   "pygments_lexer": "ipython3",
   "version": "3.7.3"
  }
 },
 "nbformat": 4,
 "nbformat_minor": 2
}
