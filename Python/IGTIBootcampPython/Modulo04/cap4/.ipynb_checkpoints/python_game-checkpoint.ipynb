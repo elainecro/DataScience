{
 "cells": [
  {
   "cell_type": "code",
   "execution_count": null,
   "metadata": {
    "colab": {},
    "colab_type": "code",
    "id": "6mPMQ7yEg5qy"
   },
   "outputs": [],
   "source": [
    "#códigos referentes ao módulo 4 do bootcamp de desenvolvedor Python códigos adaptados de (MCGUGAN, Will; KINSLEY, Harrison. Beginning Python Games Development: With Pygame. Apress, 2015.)"
   ]
  },
  {
   "cell_type": "code",
   "execution_count": null,
   "metadata": {
    "colab": {
     "base_uri": "https://localhost:8080/",
     "height": 102
    },
    "colab_type": "code",
    "executionInfo": {
     "elapsed": 9289,
     "status": "ok",
     "timestamp": 1597317132280,
     "user": {
      "displayName": "Tulio Philipe",
      "photoUrl": "https://lh3.googleusercontent.com/a-/AOh14GiC2kqFihAn3Ile03oz-6rO8qVjEHv1DhGQ0ngQ5g=s64",
      "userId": "06907869093485551957"
     },
     "user_tz": 180
    },
    "id": "DfEYq2VrdS2h",
    "outputId": "6c5f01c4-a684-4fb3-e7b6-fe94302667c9"
   },
   "outputs": [
    {
     "name": "stdout",
     "output_type": "stream",
     "text": [
      "Collecting pygame\n",
      "\u001b[?25l  Downloading https://files.pythonhosted.org/packages/8e/24/ede6428359f913ed9cd1643dd5533aefeb5a2699cc95bea089de50ead586/pygame-1.9.6-cp36-cp36m-manylinux1_x86_64.whl (11.4MB)\n",
      "\u001b[K     |████████████████████████████████| 11.4MB 2.7MB/s \n",
      "\u001b[?25hInstalling collected packages: pygame\n",
      "Successfully installed pygame-1.9.6\n"
     ]
    }
   ],
   "source": [
    "!pip install pygame"
   ]
  },
  {
   "cell_type": "code",
   "execution_count": null,
   "metadata": {
    "colab": {},
    "colab_type": "code",
    "id": "66Eo3Lv5hTcU"
   },
   "outputs": [],
   "source": [
    "#http://pygame.org/docs/\n",
    "import pygame\n",
    "\n",
    "help(pygame)"
   ]
  },
  {
   "cell_type": "code",
   "execution_count": null,
   "metadata": {
    "colab": {},
    "colab_type": "code",
    "id": "Q3kj0u6yh2HQ"
   },
   "outputs": [],
   "source": [
    "#verificando a compatibilidade -> alguns módulos podem não estar disponíveis em algumas plataformas\n",
    "if pygame.font is None:\n",
    "  print(\"O módulo font não está disponível!\")\n",
    "  exit()"
   ]
  },
  {
   "cell_type": "code",
   "execution_count": null,
   "metadata": {
    "colab": {
     "base_uri": "https://localhost:8080/",
     "height": 51
    },
    "colab_type": "code",
    "executionInfo": {
     "elapsed": 765,
     "status": "ok",
     "timestamp": 1597322111544,
     "user": {
      "displayName": "Tulio Philipe",
      "photoUrl": "https://lh3.googleusercontent.com/a-/AOh14GiC2kqFihAn3Ile03oz-6rO8qVjEHv1DhGQ0ngQ5g=s64",
      "userId": "06907869093485551957"
     },
     "user_tz": 180
    },
    "id": "z1S-s5760GJ1",
    "outputId": "7d6ea01d-9d87-411b-fafa-78c09093bdf3"
   },
   "outputs": [
    {
     "name": "stdout",
     "output_type": "stream",
     "text": [
      "(5, 1)\n",
      "-1\n"
     ]
    }
   ],
   "source": [
    "# escolhendo o display\n",
    "import pygame\n",
    "\n",
    "print(pygame.init())\n",
    "print(pygame.display.list_modes())"
   ]
  }
 ],
 "metadata": {
  "colab": {
   "authorship_tag": "ABX9TyPhXnr4GrsRp3d/hMoKobKw",
   "name": "python_game.ipynb",
   "provenance": []
  },
  "kernelspec": {
   "display_name": "Python 3",
   "language": "python",
   "name": "python3"
  },
  "language_info": {
   "codemirror_mode": {
    "name": "ipython",
    "version": 3
   },
   "file_extension": ".py",
   "mimetype": "text/x-python",
   "name": "python",
   "nbconvert_exporter": "python",
   "pygments_lexer": "ipython3",
   "version": "3.7.3"
  }
 },
 "nbformat": 4,
 "nbformat_minor": 1
}
