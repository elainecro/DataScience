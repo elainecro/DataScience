{
 "cells": [
  {
   "cell_type": "code",
   "execution_count": 1,
   "metadata": {},
   "outputs": [],
   "source": [
    "from azure.storage.blob import BlobServiceClient"
   ]
  },
  {
   "cell_type": "code",
   "execution_count": 2,
   "metadata": {},
   "outputs": [],
   "source": [
    "accountDestino = \"https://rediscnustoragebackups.blob.core.windows.net\"\n",
    "keyDestino = \"z5XUfr3nSWeKrnBtcNbeYzyY9ZXMD1pTbl9Oz5hx2BIRCn62ZXLeuZP+Fy264pKVA/wwMY2acywvIyY/wTXXzA==\""
   ]
  },
  {
   "cell_type": "code",
   "execution_count": 3,
   "metadata": {},
   "outputs": [],
   "source": [
    "blob_service_client_Origem = BlobServiceClient(account_url=accountDestino, credential=keyDestino)\n",
    "blob_service_client_Destino = BlobServiceClient(account_url=accountDestino, credential=keyDestino)"
   ]
  },
  {
   "cell_type": "code",
   "execution_count": 4,
   "metadata": {},
   "outputs": [
    {
     "name": "stdout",
     "output_type": "stream",
     "text": [
      "consultalogo-cnu-redis-prod-redis-persistence {}\n",
      "container-test {}\n",
      "redis-prod-backup-exports {}\n"
     ]
    }
   ],
   "source": [
    "# List all containers\n",
    "all_containers = blob_service_client_Destino.list_containers(include_metadata=True)\n",
    "for container in all_containers:\n",
    "    print(container['name'], container['metadata'])"
   ]
  },
  {
   "cell_type": "code",
   "execution_count": 17,
   "metadata": {},
   "outputs": [
    {
     "name": "stdout",
     "output_type": "stream",
     "text": [
      "https://rediscnustoragebackups.blob.core.windows.net/consultalogo-cnu-redis-prod-redis-persistence/consultalogo-cnu-redis-prod-0-1-rdb/2:07cb9e7b-1ba9-4a1b-a1c9-77fcd077f711:backup:0\n",
      "https://rediscnustoragebackups.blob.core.windows.net/consultalogo-cnu-redis-prod-redis-persistence/consultalogo-cnu-redis-prod-0-1-rdb/2:07cb9e7b-1ba9-4a1b-a1c9-77fcd077f711:backup:1\n"
     ]
    }
   ],
   "source": [
    "# Get a client to interact with a specific container - though it may not yet exist\n",
    "container_client = blob_service_client_Destino.get_container_client(\"consultalogo-cnu-redis-prod-redis-persistence\")\n",
    "try:\n",
    "    for blob in container_client.list_blobs():\n",
    "        urlBlob = \"{accountDestino}/consultalogo-cnu-redis-prod-redis-persistence/{blobName}\".format(accountDestino=accountDestino, blobName=blob.name)\n",
    "        print(urlBlob)\n",
    "        \n",
    "        #https://rediscnustoragebackups.blob.core.windows.net/consultalogo-cnu-redis-prod-redis-persistence/consultalogo-cnu-redis-prod-0-1-rdb/2%3A07cb9e7b-1ba9-4a1b-a1c9-77fcd077f711%3Abackup%3A0\n",
    "        \n",
    "        blobDestino = blob_service_client_Destino.get_blob_client(\"redis-prod-backup-exports\", blob.name)\n",
    "        blobDestino.start_copy_from_url(urlBlob)\n",
    "except ResourceNotFoundError:\n",
    "    print(\"Container not found.\")"
   ]
  },
  {
   "cell_type": "code",
   "execution_count": null,
   "metadata": {},
   "outputs": [],
   "source": []
  }
 ],
 "metadata": {
  "kernelspec": {
   "display_name": "Python 3",
   "language": "python",
   "name": "python3"
  },
  "language_info": {
   "codemirror_mode": {
    "name": "ipython",
    "version": 3
   },
   "file_extension": ".py",
   "mimetype": "text/x-python",
   "name": "python",
   "nbconvert_exporter": "python",
   "pygments_lexer": "ipython3",
   "version": "3.7.3"
  }
 },
 "nbformat": 4,
 "nbformat_minor": 2
}
