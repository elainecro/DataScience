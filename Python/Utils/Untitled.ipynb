{
 "cells": [
  {
   "cell_type": "code",
   "execution_count": 2,
   "metadata": {},
   "outputs": [
    {
     "ename": "SyntaxError",
     "evalue": "invalid syntax (<ipython-input-2-e3119fcc0536>, line 1)",
     "output_type": "error",
     "traceback": [
      "\u001b[1;36m  File \u001b[1;32m\"<ipython-input-2-e3119fcc0536>\"\u001b[1;36m, line \u001b[1;32m1\u001b[0m\n\u001b[1;33m    jsonConfigs = [\"StorageOrigem\": {\u001b[0m\n\u001b[1;37m                                  ^\u001b[0m\n\u001b[1;31mSyntaxError\u001b[0m\u001b[1;31m:\u001b[0m invalid syntax\n"
     ]
    }
   ],
   "source": [
    "jsonConfigs = \"StorageOrigem\": {\n",
    "    \"Name\": \"rediscnustorage\",\n",
    "    \"Key\": \"k1ev+Y1udo1760DJz5f+TEIIrZC7WhSvbkecKOLFRmI4iwA5j3PWafV/6IN80mi0iEH5QzNm7XDdauABlv5btw==\",\n",
    "    \"Container\": \"redis-prod-exports\",\n",
    "    \"ConnectionString\": \"DefaultEndpointsProtocol=https;AccountName=rediscnustorage;AccountKey=k1ev+Y1udo1760DJz5f+TEIIrZC7WhSvbkecKOLFRmI4iwA5j3PWafV/6IN80mi0iEH5QzNm7XDdauABlv5btw==;EndpointSuffix=core.windows.net\"\n",
    "  },\n",
    "\"StorageDestino\": {\n",
    "    \"Name\": \"rediscnustoragebackups\",\n",
    "    \"Key\": \"z5XUfr3nSWeKrnBtcNbeYzyY9ZXMD1pTbl9Oz5hx2BIRCn62ZXLeuZP+Fy264pKVA/wwMY2acywvIyY/wTXXzA==\",\n",
    "    \"Container\": \"redis-prod-backup-exports\",\n",
    "    \"ConnectionString\": \"DefaultEndpointsProtocol=https;AccountName=rediscnustoragebackups;AccountKey=z5XUfr3nSWeKrnBtcNbeYzyY9ZXMD1pTbl9Oz5hx2BIRCn62ZXLeuZP+Fy264pKVA/wwMY2acywvIyY/wTXXzA==;EndpointSuffix=core.windows.net\"\n",
    "  }"
   ]
  },
  {
   "cell_type": "code",
   "execution_count": 4,
   "metadata": {},
   "outputs": [
    {
     "name": "stdout",
     "output_type": "stream",
     "text": [
      "Collecting azure-storage-blob\n",
      "  Downloading https://files.pythonhosted.org/packages/e7/5d/0bb4ed37da2523c393789b1d8ecbf56b1d35fa344af30fe423da2c06cbe9/azure_storage_blob-12.6.0-py2.py3-none-any.whl (328kB)\n",
      "Collecting azure-core<2.0.0,>=1.9.0 (from azure-storage-blob)\n",
      "  Downloading https://files.pythonhosted.org/packages/f8/4b/ea7faaafac956a168ab9a95a7ebe583f9d308e8332a68af0ed3128ef520c/azure_core-1.9.0-py2.py3-none-any.whl (124kB)\n",
      "Collecting msrest>=0.6.10 (from azure-storage-blob)\n",
      "  Downloading https://files.pythonhosted.org/packages/fa/f5/9e315fe8cb985b0ce052b34bcb767883dc739f46fadb62f05a7e6d6eedbe/msrest-0.6.19-py2.py3-none-any.whl (84kB)\n",
      "Requirement already satisfied: cryptography>=2.1.4 in d:\\users\\elain\\anaconda3\\lib\\site-packages (from azure-storage-blob) (2.6.1)\n",
      "Requirement already satisfied: requests>=2.18.4 in d:\\users\\elain\\anaconda3\\lib\\site-packages (from azure-core<2.0.0,>=1.9.0->azure-storage-blob) (2.21.0)\n",
      "Requirement already satisfied: six>=1.6 in d:\\users\\elain\\anaconda3\\lib\\site-packages (from azure-core<2.0.0,>=1.9.0->azure-storage-blob) (1.12.0)\n",
      "Collecting isodate>=0.6.0 (from msrest>=0.6.10->azure-storage-blob)\n",
      "  Downloading https://files.pythonhosted.org/packages/9b/9f/b36f7774ff5ea8e428fdcfc4bb332c39ee5b9362ddd3d40d9516a55221b2/isodate-0.6.0-py2.py3-none-any.whl (45kB)\n",
      "Requirement already satisfied: certifi>=2017.4.17 in d:\\users\\elain\\anaconda3\\lib\\site-packages (from msrest>=0.6.10->azure-storage-blob) (2019.3.9)\n",
      "Requirement already satisfied: requests-oauthlib>=0.5.0 in d:\\users\\elain\\anaconda3\\lib\\site-packages (from msrest>=0.6.10->azure-storage-blob) (1.3.0)\n",
      "Requirement already satisfied: cffi!=1.11.3,>=1.8 in d:\\users\\elain\\anaconda3\\lib\\site-packages (from cryptography>=2.1.4->azure-storage-blob) (1.12.2)\n",
      "Requirement already satisfied: asn1crypto>=0.21.0 in d:\\users\\elain\\anaconda3\\lib\\site-packages (from cryptography>=2.1.4->azure-storage-blob) (0.24.0)\n",
      "Requirement already satisfied: idna<2.9,>=2.5 in d:\\users\\elain\\anaconda3\\lib\\site-packages (from requests>=2.18.4->azure-core<2.0.0,>=1.9.0->azure-storage-blob) (2.8)\n",
      "Requirement already satisfied: chardet<3.1.0,>=3.0.2 in d:\\users\\elain\\anaconda3\\lib\\site-packages (from requests>=2.18.4->azure-core<2.0.0,>=1.9.0->azure-storage-blob) (3.0.4)\n",
      "Requirement already satisfied: urllib3<1.25,>=1.21.1 in d:\\users\\elain\\anaconda3\\lib\\site-packages (from requests>=2.18.4->azure-core<2.0.0,>=1.9.0->azure-storage-blob) (1.24.1)\n",
      "Requirement already satisfied: oauthlib>=3.0.0 in d:\\users\\elain\\anaconda3\\lib\\site-packages (from requests-oauthlib>=0.5.0->msrest>=0.6.10->azure-storage-blob) (3.1.0)\n",
      "Requirement already satisfied: pycparser in d:\\users\\elain\\anaconda3\\lib\\site-packages (from cffi!=1.11.3,>=1.8->cryptography>=2.1.4->azure-storage-blob) (2.19)\n",
      "Installing collected packages: azure-core, isodate, msrest, azure-storage-blob\n",
      "Successfully installed azure-core-1.9.0 azure-storage-blob-12.6.0 isodate-0.6.0 msrest-0.6.19\n"
     ]
    }
   ],
   "source": [
    "!pip install azure-storage-blob"
   ]
  },
  {
   "cell_type": "code",
   "execution_count": 31,
   "metadata": {},
   "outputs": [],
   "source": [
    "connOrigem = \"DefaultEndpointsProtocol=https;AccountName=rediscnustorage;AccountKey=k1ev+Y1udo1760DJz5f+TEIIrZC7WhSvbkecKOLFRmI4iwA5j3PWafV/6IN80mi0iEH5QzNm7XDdauABlv5btw==;EndpointSuffix=core.windows.net\"\n",
    "accountOrigem = \"https://rediscnustorage.blob.core.windows.net\"\n",
    "keyOrigem = \"k1ev+Y1udo1760DJz5f+TEIIrZC7WhSvbkecKOLFRmI4iwA5j3PWafV/6IN80mi0iEH5QzNm7XDdauABlv5btw==\"\n",
    "\n",
    "connDestino = \"DefaultEndpointsProtocol=https;AccountName=rediscnustoragebackups;AccountKey=z5XUfr3nSWeKrnBtcNbeYzyY9ZXMD1pTbl9Oz5hx2BIRCn62ZXLeuZP+Fy264pKVA/wwMY2acywvIyY/wTXXzA==;EndpointSuffix=core.windows.net\"\n",
    "accountDestino = \"https://rediscnustoragebackups.blob.core.windows.net\"\n",
    "keyDestino = \"z5XUfr3nSWeKrnBtcNbeYzyY9ZXMD1pTbl9Oz5hx2BIRCn62ZXLeuZP+Fy264pKVA/wwMY2acywvIyY/wTXXzA==\""
   ]
  },
  {
   "cell_type": "code",
   "execution_count": 34,
   "metadata": {},
   "outputs": [],
   "source": [
    "from azure.storage.blob import BlobServiceClient\n",
    "\n",
    "#blob_service_client_Origin = BlobServiceClient.from_connection_string(connOrigem)\n",
    "#blob_service_client_Destiny = BlobServiceClient.from_connection_string(connDestino)\n",
    "\n",
    "blob_service_client_Origin = BlobServiceClient(account_url=accountOrigem, credential=keyOrigem)\n",
    "blob_service_client_Destiny = BlobServiceClient(account_url=accountDestino, credential=keyDestino)"
   ]
  },
  {
   "cell_type": "code",
   "execution_count": 35,
   "metadata": {},
   "outputs": [
    {
     "name": "stdout",
     "output_type": "stream",
     "text": [
      "consultalogo-cnu-redis-prod-redis-persistence {}\n",
      "redis-prod-exports {}\n"
     ]
    }
   ],
   "source": [
    "# List all containers\n",
    "all_containers = blob_service_client_Origin.list_containers(include_metadata=True)\n",
    "for container in all_containers:\n",
    "    print(container['name'], container['metadata'])"
   ]
  },
  {
   "cell_type": "code",
   "execution_count": 73,
   "metadata": {},
   "outputs": [
    {
     "name": "stdout",
     "output_type": "stream",
     "text": [
      "container-test {}\n",
      "redis-prod-backup-exports {}\n"
     ]
    }
   ],
   "source": [
    "# List all containers\n",
    "all_containers = blob_service_client_Destiny.list_containers(include_metadata=True)\n",
    "for container in all_containers:\n",
    "    print(container['name'], container['metadata'])"
   ]
  },
  {
   "cell_type": "code",
   "execution_count": 37,
   "metadata": {},
   "outputs": [
    {
     "name": "stdout",
     "output_type": "stream",
     "text": [
      "Found blob:  redis-prod-2020-12-11-18-20-07:backup:0 268435456 0 BlobType.PageBlob\n",
      "Found blob:  redis-prod-2020-12-11-18-20-07:backup:1 268325376 0 BlobType.PageBlob\n",
      "Found blob:  redis-prod-2020-12-11-18-23-13:backup:0 268435456 0 BlobType.PageBlob\n",
      "Found blob:  redis-prod-2020-12-11-18-23-13:backup:1 268325376 0 BlobType.PageBlob\n",
      "Found blob:  redis-prod-2020-12-11-18-25-04:backup:0 268435456 0 BlobType.PageBlob\n",
      "Found blob:  redis-prod-2020-12-11-18-25-04:backup:1 268325376 0 BlobType.PageBlob\n",
      "Found blob:  redis-prod-2020-12-14-09-18-03:backup:0 270532608 0 BlobType.PageBlob\n",
      "Found blob:  redis-prod-2020-12-14-09-18-03:backup:1 269572608 0 BlobType.PageBlob\n",
      "Found blob:  redis-prod-2020-12-14-09-20-04:backup:0 270532608 0 BlobType.PageBlob\n",
      "Found blob:  redis-prod-2020-12-14-09-20-04:backup:1 269572608 0 BlobType.PageBlob\n",
      "Found blob:  redis-prod-2020-12-15-19-00-50:backup:0 272996352 0 BlobType.PageBlob\n",
      "Found blob:  redis-prod-2020-12-15-19-00-50:backup:1 272629760 0 BlobType.PageBlob\n",
      "Found blob:  redis-prod-2020-12-15-19-30-00:backup:0 273702912 0 BlobType.PageBlob\n",
      "Found blob:  redis-prod-2020-12-15-19-30-00:backup:1 272629760 0 BlobType.PageBlob\n",
      "Found blob:  redis-prod-2020-12-15-20-00-00:backup:0 273721344 0 BlobType.PageBlob\n",
      "Found blob:  redis-prod-2020-12-15-20-00-00:backup:1 272629760 0 BlobType.PageBlob\n",
      "Found blob:  redis-prod-2020-12-16-09-33-54:backup:0 277393408 0 BlobType.PageBlob\n",
      "Found blob:  redis-prod-2020-12-16-09-33-54:backup:1 276824064 0 BlobType.PageBlob\n",
      "Found blob:  redis-prod-2020-12-16-14-30-00:backup:0 277559808 0 BlobType.PageBlob\n",
      "Found blob:  redis-prod-2020-12-16-14-30-00:backup:1 276824064 0 BlobType.PageBlob\n",
      "Found blob:  redis-prod-manual-2020-09-17-19-01 43278848 0 BlobType.PageBlob\n",
      "Found blob:  redis-prod-manual-2020-09-18-10-16 43636224 0 BlobType.PageBlob\n",
      "Found blob:  redis-prod-manual-2020-09-18-11-05 43939840 0 BlobType.PageBlob\n",
      "Found blob:  redis-prod-manual-2020-09-18-14-05 45373440 0 BlobType.PageBlob\n",
      "Found blob:  redis-prod-manual-2020-09-18-19-56 76246528 0 BlobType.PageBlob\n",
      "Found blob:  redis-prod-manual-2020-09-21-10-38 77923840 0 BlobType.PageBlob\n",
      "Found blob:  redis-prod-manual-2020-09-21-13-06 77400576 0 BlobType.PageBlob\n",
      "Found blob:  redis-prod-manual-2020-09-21-14-16 77646336 0 BlobType.PageBlob\n",
      "Found blob:  redis-prod-manual-2020-09-21-16-37 77669888 0 BlobType.PageBlob\n",
      "Found blob:  redis-prod-manual-2020-09-22-09-00 77570048 0 BlobType.PageBlob\n",
      "Found blob:  redis-prod-manual-2020-09-22-14-51 80220160 0 BlobType.PageBlob\n",
      "Found blob:  redis-prod-manual-2020-09-22-16-27 80267264 0 BlobType.PageBlob\n",
      "Found blob:  redis-prod-manual-2020-09-22-17-24 80307712 0 BlobType.PageBlob\n",
      "Found blob:  redis-prod-manual-2020-09-23-12-03 83447808 0 BlobType.PageBlob\n",
      "Found blob:  redis-prod-manual-2020-09-23-18-22 85914112 0 BlobType.PageBlob\n",
      "Found blob:  redis-prod-manual-2020-09-24-11-14 86140416 0 BlobType.PageBlob\n",
      "Found blob:  redis-prod-manual-2020-09-24-17-37 86574080 0 BlobType.PageBlob\n",
      "Found blob:  redis-prod-manual-2020-09-25-15-06 93712384 0 BlobType.PageBlob\n",
      "Found blob:  redis-prod-manual-2020-09-25-17-03 93968896 0 BlobType.PageBlob\n",
      "Found blob:  redis-prod-manual-2020-09-28-12-33 95174144 0 BlobType.PageBlob\n",
      "Found blob:  redis-prod-manual-2020-09-28-14-55 95236608 0 BlobType.PageBlob\n",
      "Found blob:  redis-prod-manual-2020-09-28-18-03 96748544 0 BlobType.PageBlob\n",
      "Found blob:  redis-prod-manual-2020-09-29-11-26 98466816 0 BlobType.PageBlob\n",
      "Found blob:  redis-prod-manual-2020-09-29-16-12 111816704 0 BlobType.PageBlob\n",
      "Found blob:  redis-prod-manual-2020-09-30-10-37 128708096 0 BlobType.PageBlob\n",
      "Found blob:  redis-prod-manual-2020-09-30-14-54 157905408 0 BlobType.PageBlob\n",
      "Found blob:  redis-prod-manual-2020-09-30-19-54 158248448 0 BlobType.PageBlob\n",
      "Found blob:  redis-prod-manual-2020-10-01-10-56 160310784 0 BlobType.PageBlob\n",
      "Found blob:  redis-prod-manual-2020-10-01-17-54 165582336 0 BlobType.PageBlob\n",
      "Found blob:  redis-prod-manual-2020-10-02-10-26 165840384 0 BlobType.PageBlob\n",
      "Found blob:  redis-prod-manual-2020-10-02-16-06 166480896 0 BlobType.PageBlob\n",
      "Found blob:  redis-prod-manual-2020-10-02-17-25 166364672 0 BlobType.PageBlob\n",
      "Found blob:  redis-prod-manual-2020-10-05-15-56 170624512 0 BlobType.PageBlob\n",
      "Found blob:  redis-prod-manual-2020-10-05-17-49 170868224 0 BlobType.PageBlob\n",
      "Found blob:  redis-prod-manual-2020-10-06-11-03 172488192 0 BlobType.PageBlob\n",
      "Found blob:  redis-prod-manual-2020-10-06-12-06 172788736 0 BlobType.PageBlob\n",
      "Found blob:  redis-prod-manual-2020-10-07-09-38 178878976 0 BlobType.PageBlob\n",
      "Found blob:  redis-prod-manual-2020-10-07-15-30 180165632 0 BlobType.PageBlob\n",
      "Found blob:  redis-prod-manual-2020-10-07-18-23 180165632 0 BlobType.PageBlob\n",
      "Found blob:  redis-prod-manual-2020-10-07-19-28 180103168 0 BlobType.PageBlob\n",
      "Found blob:  redis-prod-manual-2020-10-08-10-40 180624896 0 BlobType.PageBlob\n",
      "Found blob:  redis-prod-manual-2020-10-08-15-51 181454848 0 BlobType.PageBlob\n",
      "Found blob:  redis-prod-manual-2020-10-08-18-27 181587456 0 BlobType.PageBlob\n",
      "Found blob:  redis-prod-manual-2020-10-09-11-46 182105600 0 BlobType.PageBlob\n",
      "Found blob:  redis-prod-manual-2020-10-09-16-21 182341632 0 BlobType.PageBlob\n",
      "Found blob:  redis-prod-manual-2020-10-09-18-25 182470144 0 BlobType.PageBlob\n",
      "Found blob:  redis-prod-manual-2020-10-09-22-03 182487552 0 BlobType.PageBlob\n",
      "Found blob:  redis-prod-manual-2020-10-13-11-03 183163392 0 BlobType.PageBlob\n",
      "Found blob:  redis-prod-manual-2020-10-13-12-34 183113728 0 BlobType.PageBlob\n",
      "Found blob:  redis-prod-manual-2020-10-13-14-51 183126016 0 BlobType.PageBlob\n",
      "Found blob:  redis-prod-manual-2020-10-13-17-27 183419904 0 BlobType.PageBlob\n",
      "Found blob:  redis-prod-manual-2020-10-14-09-35 184380928 0 BlobType.PageBlob\n",
      "Found blob:  redis-prod-manual-2020-10-14-13-17 184566784 0 BlobType.PageBlob\n",
      "Found blob:  redis-prod-manual-2020-10-14-16-01 185078784 0 BlobType.PageBlob\n",
      "Found blob:  redis-prod-manual-2020-10-15-10-59 186822144 0 BlobType.PageBlob\n",
      "Found blob:  redis-prod-manual-2020-10-15-15-36 188680192 0 BlobType.PageBlob\n",
      "Found blob:  redis-prod-manual-2020-10-15-16-33 188858880 0 BlobType.PageBlob\n",
      "Found blob:  redis-prod-manual-2020-10-16-09-39 190864896 0 BlobType.PageBlob\n",
      "Found blob:  redis-prod-manual-2020-10-16-12-19 268080640 0 BlobType.PageBlob\n",
      "Found blob:  redis-prod-manual-2020-10-16-14-53 268790272 0 BlobType.PageBlob\n",
      "Found blob:  redis-prod-manual-2020-10-16-18-04 270584320 0 BlobType.PageBlob\n",
      "Found blob:  redis-prod-manual-2020-10-19-09-31 271045632 0 BlobType.PageBlob\n",
      "Found blob:  redis-prod-manual-2020-10-19-13-03 271516160 0 BlobType.PageBlob\n",
      "Found blob:  redis-prod-manual-2020-10-19-15-56 271715840 0 BlobType.PageBlob\n",
      "Found blob:  redis-prod-manual-2020-10-19-16-12 271739392 0 BlobType.PageBlob\n",
      "Found blob:  redis-prod-manual-2020-10-19-17-44 306437632 0 BlobType.PageBlob\n",
      "Found blob:  redis-prod-manual-2020-10-20-10-27 307099136 0 BlobType.PageBlob\n",
      "Found blob:  redis-prod-manual-2020-10-20-15-40 309947904 0 BlobType.PageBlob\n",
      "Found blob:  redis-prod-manual-2020-10-20-17-38 311699968 0 BlobType.PageBlob\n",
      "Found blob:  redis-prod-manual-2020-10-21-11-26 318928896 0 BlobType.PageBlob\n",
      "Found blob:  redis-prod-manual-2020-10-21-14-41 319577600 0 BlobType.PageBlob\n",
      "Found blob:  redis-prod-manual-2020-10-21-16-06 319571968 0 BlobType.PageBlob\n",
      "Found blob:  redis-prod-manual-2020-10-21-18-07 319616512 0 BlobType.PageBlob\n",
      "Found blob:  redis-prod-manual-2020-10-22-11-28 320006656 0 BlobType.PageBlob\n",
      "Found blob:  redis-prod-manual-2020-10-22-15-44 320524800 0 BlobType.PageBlob\n",
      "Found blob:  redis-prod-manual-2020-10-22-19-21 320722432 0 BlobType.PageBlob\n",
      "Found blob:  redis-prod-manual-2020-10-23-10-58 321682432 0 BlobType.PageBlob\n",
      "Found blob:  redis-prod-manual-2020-10-23-16-54 339452928 0 BlobType.PageBlob\n",
      "Found blob:  redis-prod-manual-2020-10-23-17-57 339441152 0 BlobType.PageBlob\n",
      "Found blob:  redis-prod-manual-2020-10-26-15-14 349510656 0 BlobType.PageBlob\n",
      "Found blob:  redis-prod-manual-2020-10-26-18-06 349857280 0 BlobType.PageBlob\n",
      "Found blob:  redis-prod-manual-2020-10-27-11-22 350310912 0 BlobType.PageBlob\n",
      "Found blob:  redis-prod-manual-2020-10-27-14-48 352814592 0 BlobType.PageBlob\n",
      "Found blob:  redis-prod-manual-2020-10-28-09-28 353553920 0 BlobType.PageBlob\n",
      "Found blob:  redis-prod-manual-2020-10-28-14-53 353668096 0 BlobType.PageBlob\n",
      "Found blob:  redis-prod-manual-2020-10-28-19-28 355933696 0 BlobType.PageBlob\n",
      "Found blob:  redis-prod-manual-2020-10-29-10-50 356400640 0 BlobType.PageBlob\n",
      "Found blob:  redis-prod-manual-2020-10-29-15-24 357752832 0 BlobType.PageBlob\n",
      "Found blob:  redis-prod-manual-2020-10-29-18-43 357837312 0 BlobType.PageBlob\n",
      "Found blob:  redis-prod-manual-2020-10-30-09-51 358786560 0 BlobType.PageBlob\n",
      "Found blob:  redis-prod-manual-2020-10-30-15-38 361343488 0 BlobType.PageBlob\n",
      "Found blob:  redis-prod-manual-2020-10-30-17-18 361834496 0 BlobType.PageBlob\n",
      "Found blob:  redis-prod-manual-2020-11-04-14-31 384309760 0 BlobType.PageBlob\n",
      "Found blob:  redis-prod-manual-2020-11-06-11-15 390704640 0 BlobType.PageBlob\n",
      "Found blob:  redis-prod-manual-2020-11-06-16-57 391593472 0 BlobType.PageBlob\n",
      "Found blob:  redis-prod-manual-2020-11-10-12-10 397710848 0 BlobType.PageBlob\n",
      "Found blob:  redis-prod-manual-2020-11-10-13-11 398087168 0 BlobType.PageBlob\n",
      "Found blob:  redis-prod-manual-2020-11-10-15-44 398494720 0 BlobType.PageBlob\n",
      "Found blob:  redis-prod-manual-2020-11-24-16-28 429126656 0 BlobType.PageBlob\n",
      "Found blob:  redis-prod-manual-2020-11-25-16-15 457709568 0 BlobType.PageBlob\n",
      "Found blob:  redis-prod-manual-2020-11-26-16-30 462831616 0 BlobType.PageBlob\n",
      "Found blob:  redis-prod-manual-2020-12-03-15-51 488319488 0 BlobType.PageBlob\n",
      "Found blob:  redis-prod-manual-2020-12-04-10-27 489329664 0 BlobType.PageBlob\n",
      "Found blob:  redis-prod-manual-2020-12-04-12-14 490014208 0 BlobType.PageBlob\n",
      "Found blob:  redis-prod-manual-2020-12-04-15-39 524865536 0 BlobType.PageBlob\n",
      "Found blob:  redis-prod-manual-2020-12-04-17-49 525160960 0 BlobType.PageBlob\n"
     ]
    },
    {
     "name": "stdout",
     "output_type": "stream",
     "text": [
      "Found blob:  redis-prod-manual-2020-12-07-16-18 530364416 0 BlobType.PageBlob\n",
      "Found blob:  redis-prod-manual-2020-12-08-10-39 531871232 0 BlobType.PageBlob\n",
      "Found blob:  redis-prod-manual-2020-12-08-15-15 532238336 0 BlobType.PageBlob\n",
      "Found blob:  redis-prod-manual-2020-12-08-19-12 532397568 0 BlobType.PageBlob\n",
      "Found blob:  redis-prod-manual-2020-12-09-11-40 532846592 0 BlobType.PageBlob\n",
      "Found blob:  redis-prod-manual-2020-12-10-10-19 533556736 0 BlobType.PageBlob\n",
      "Found blob:  redis-prod-manual-2020-12-11-12-02 536843776 0 BlobType.PageBlob\n",
      "Found blob:  redis-prod-manual-2020-12-11-12-33 536842240 0 BlobType.PageBlob\n",
      "Found blob:  redis-prod-manual-2020-12-14-10-04 539884032 0 BlobType.PageBlob\n",
      "Found blob:  redis-prod-manual-2020-12-16-11-36 554408960 0 BlobType.PageBlob\n",
      "Found blob:  redis-prod-manual-2020-12-18-10-23 545726976 0 BlobType.PageBlob\n"
     ]
    }
   ],
   "source": [
    "# Get a client to interact with a specific container - though it may not yet exist\n",
    "container_client = blob_service_client_Origin.get_container_client(\"redis-prod-exports\")\n",
    "try:\n",
    "    for blob in container_client.list_blobs():\n",
    "        print(\"Found blob: \", blob.name, blob.size, blob.page_blob_sequence_number, blob.blob_type)\n",
    "except ResourceNotFoundError:\n",
    "    print(\"Container not found.\")"
   ]
  },
  {
   "cell_type": "code",
   "execution_count": 83,
   "metadata": {},
   "outputs": [
    {
     "name": "stdout",
     "output_type": "stream",
     "text": [
      "Found blob:  consultalogo-cnu-redis-prod-0-1-rdb/2:17854141-84b1-41ea-a020-8357685f5a6a:backup:0\n",
      "Found blob:  consultalogo-cnu-redis-prod-0-1-rdb/2:17854141-84b1-41ea-a020-8357685f5a6a:backup:1\n",
      "Found blob:  redis-prod-2020-12-11-18-20-07:backup:0\n",
      "Found blob:  redis-prod-2020-12-11-18-20-07:backup:1\n",
      "Found blob:  redis-prod-2020-12-11-18-23-13:backup:0\n",
      "Found blob:  redis-prod-2020-12-11-18-23-13:backup:1\n",
      "Found blob:  redis-prod-2020-12-11-18-25-04:backup:0\n",
      "Found blob:  redis-prod-2020-12-11-18-25-04:backup:1\n",
      "Found blob:  redis-prod-2020-12-14-09-18-03:backup:0\n",
      "Found blob:  redis-prod-2020-12-14-09-18-03:backup:1\n",
      "Found blob:  redis-prod-2020-12-14-09-20-04:backup:0\n",
      "Found blob:  redis-prod-2020-12-14-09-20-04:backup:1\n",
      "Found blob:  redis-prod-2020-12-15-19-00-50:backup:0\n",
      "Found blob:  redis-prod-2020-12-15-19-00-50:backup:1\n",
      "Found blob:  redis-prod-2020-12-15-19-30-00:backup:0\n",
      "Found blob:  redis-prod-2020-12-15-19-30-00:backup:1\n",
      "Found blob:  redis-prod-2020-12-15-20-00-00:backup:0\n",
      "Found blob:  redis-prod-2020-12-15-20-00-00:backup:1\n",
      "Found blob:  redis-prod-2020-12-16-09-33-54:backup:0\n",
      "Found blob:  redis-prod-2020-12-16-09-33-54:backup:1\n",
      "Found blob:  redis-prod-2020-12-16-14-30-00:backup:0\n",
      "Found blob:  redis-prod-2020-12-16-14-30-00:backup:1\n",
      "Found blob:  redis-prod-manual-2020-09-17-19-01\n",
      "Found blob:  redis-prod-manual-2020-09-18-10-16\n",
      "Found blob:  redis-prod-manual-2020-09-18-11-05\n",
      "Found blob:  redis-prod-manual-2020-09-18-14-05\n",
      "Found blob:  redis-prod-manual-2020-09-18-19-56\n",
      "Found blob:  redis-prod-manual-2020-09-21-10-38\n",
      "Found blob:  redis-prod-manual-2020-09-21-13-06\n",
      "Found blob:  redis-prod-manual-2020-09-21-14-16\n",
      "Found blob:  redis-prod-manual-2020-09-21-16-37\n",
      "Found blob:  redis-prod-manual-2020-09-22-09-00\n",
      "Found blob:  redis-prod-manual-2020-09-22-14-51\n",
      "Found blob:  redis-prod-manual-2020-09-22-16-27\n",
      "Found blob:  redis-prod-manual-2020-09-22-17-24\n",
      "Found blob:  redis-prod-manual-2020-09-23-12-03\n",
      "Found blob:  redis-prod-manual-2020-09-23-18-22\n",
      "Found blob:  redis-prod-manual-2020-09-24-11-14\n",
      "Found blob:  redis-prod-manual-2020-09-24-17-37\n",
      "Found blob:  redis-prod-manual-2020-09-25-15-06\n",
      "Found blob:  redis-prod-manual-2020-09-25-17-03\n",
      "Found blob:  redis-prod-manual-2020-09-28-12-33\n",
      "Found blob:  redis-prod-manual-2020-09-28-14-55\n",
      "Found blob:  redis-prod-manual-2020-09-28-18-03\n",
      "Found blob:  redis-prod-manual-2020-09-29-11-26\n",
      "Found blob:  redis-prod-manual-2020-09-29-16-12\n",
      "Found blob:  redis-prod-manual-2020-09-30-10-37\n",
      "Found blob:  redis-prod-manual-2020-09-30-14-54\n",
      "Found blob:  redis-prod-manual-2020-09-30-19-54\n",
      "Found blob:  redis-prod-manual-2020-10-01-10-56\n",
      "Found blob:  redis-prod-manual-2020-10-01-17-54\n",
      "Found blob:  redis-prod-manual-2020-10-02-10-26\n",
      "Found blob:  redis-prod-manual-2020-10-02-16-06\n",
      "Found blob:  redis-prod-manual-2020-10-02-17-25\n",
      "Found blob:  redis-prod-manual-2020-10-05-15-56\n",
      "Found blob:  redis-prod-manual-2020-10-05-17-49\n",
      "Found blob:  redis-prod-manual-2020-10-06-11-03\n",
      "Found blob:  redis-prod-manual-2020-10-06-12-06\n",
      "Found blob:  redis-prod-manual-2020-10-07-09-38\n",
      "Found blob:  redis-prod-manual-2020-10-07-15-30\n",
      "Found blob:  redis-prod-manual-2020-10-07-18-23\n",
      "Found blob:  redis-prod-manual-2020-10-07-19-28\n",
      "Found blob:  redis-prod-manual-2020-10-08-10-40\n",
      "Found blob:  redis-prod-manual-2020-10-08-15-51\n",
      "Found blob:  redis-prod-manual-2020-10-08-18-27\n",
      "Found blob:  redis-prod-manual-2020-10-09-11-46\n",
      "Found blob:  redis-prod-manual-2020-10-09-16-21\n",
      "Found blob:  redis-prod-manual-2020-10-09-18-25\n",
      "Found blob:  redis-prod-manual-2020-10-09-22-03\n",
      "Found blob:  redis-prod-manual-2020-10-13-11-03\n",
      "Found blob:  redis-prod-manual-2020-10-13-12-34\n",
      "Found blob:  redis-prod-manual-2020-10-13-14-51\n",
      "Found blob:  redis-prod-manual-2020-10-13-17-27\n",
      "Found blob:  redis-prod-manual-2020-10-14-09-35\n",
      "Found blob:  redis-prod-manual-2020-10-14-13-17\n",
      "Found blob:  redis-prod-manual-2020-10-14-16-01\n",
      "Found blob:  redis-prod-manual-2020-10-15-10-59\n",
      "Found blob:  redis-prod-manual-2020-10-15-15-36\n",
      "Found blob:  redis-prod-manual-2020-10-15-16-33\n",
      "Found blob:  redis-prod-manual-2020-10-16-09-39\n",
      "Found blob:  redis-prod-manual-2020-10-16-12-19\n",
      "Found blob:  redis-prod-manual-2020-10-16-14-53\n",
      "Found blob:  redis-prod-manual-2020-10-16-18-04\n",
      "Found blob:  redis-prod-manual-2020-10-19-09-31\n",
      "Found blob:  redis-prod-manual-2020-10-19-13-03\n",
      "Found blob:  redis-prod-manual-2020-10-19-15-56\n",
      "Found blob:  redis-prod-manual-2020-10-19-16-12\n",
      "Found blob:  redis-prod-manual-2020-10-19-17-44\n",
      "Found blob:  redis-prod-manual-2020-10-20-10-27\n",
      "Found blob:  redis-prod-manual-2020-10-20-15-40\n",
      "Found blob:  redis-prod-manual-2020-10-20-17-38\n",
      "Found blob:  redis-prod-manual-2020-10-21-11-26\n",
      "Found blob:  redis-prod-manual-2020-10-21-14-41\n",
      "Found blob:  redis-prod-manual-2020-10-21-16-06\n",
      "Found blob:  redis-prod-manual-2020-10-21-18-07\n",
      "Found blob:  redis-prod-manual-2020-10-22-11-28\n",
      "Found blob:  redis-prod-manual-2020-10-22-15-44\n",
      "Found blob:  redis-prod-manual-2020-10-22-19-21\n",
      "Found blob:  redis-prod-manual-2020-10-23-10-58\n",
      "Found blob:  redis-prod-manual-2020-10-23-16-54\n",
      "Found blob:  redis-prod-manual-2020-10-23-17-57\n",
      "Found blob:  redis-prod-manual-2020-10-26-15-14\n",
      "Found blob:  redis-prod-manual-2020-10-26-18-06\n",
      "Found blob:  redis-prod-manual-2020-10-27-11-22\n",
      "Found blob:  redis-prod-manual-2020-10-27-14-48\n",
      "Found blob:  redis-prod-manual-2020-10-28-09-28\n",
      "Found blob:  redis-prod-manual-2020-10-28-14-53\n",
      "Found blob:  redis-prod-manual-2020-10-28-19-28\n",
      "Found blob:  redis-prod-manual-2020-10-29-10-50\n",
      "Found blob:  redis-prod-manual-2020-10-29-15-24\n",
      "Found blob:  redis-prod-manual-2020-10-29-18-43\n",
      "Found blob:  redis-prod-manual-2020-10-30-09-51\n",
      "Found blob:  redis-prod-manual-2020-10-30-15-38\n",
      "Found blob:  redis-prod-manual-2020-10-30-17-18\n",
      "Found blob:  redis-prod-manual-2020-11-04-14-31\n",
      "Found blob:  redis-prod-manual-2020-11-06-11-15\n",
      "Found blob:  redis-prod-manual-2020-11-06-16-57\n",
      "Found blob:  redis-prod-manual-2020-11-10-12-10\n",
      "Found blob:  redis-prod-manual-2020-11-10-13-11\n",
      "Found blob:  redis-prod-manual-2020-11-10-15-44\n",
      "Found blob:  redis-prod-manual-2020-11-24-16-28\n",
      "Found blob:  redis-prod-manual-2020-11-25-16-15\n",
      "Found blob:  redis-prod-manual-2020-11-26-16-30\n",
      "Found blob:  redis-prod-manual-2020-12-03-15-51\n",
      "Found blob:  redis-prod-manual-2020-12-04-10-27\n",
      "Found blob:  redis-prod-manual-2020-12-04-12-14\n",
      "Found blob:  redis-prod-manual-2020-12-04-15-39\n",
      "Found blob:  redis-prod-manual-2020-12-04-17-49\n",
      "Found blob:  redis-prod-manual-2020-12-07-16-18\n",
      "Found blob:  redis-prod-manual-2020-12-08-10-39\n",
      "Found blob:  redis-prod-manual-2020-12-08-15-15\n",
      "Found blob:  redis-prod-manual-2020-12-08-19-12\n",
      "Found blob:  redis-prod-manual-2020-12-09-11-40\n",
      "Found blob:  redis-prod-manual-2020-12-10-10-19\n",
      "Found blob:  redis-prod-manual-2020-12-11-12-02\n",
      "Found blob:  redis-prod-manual-2020-12-11-12-33\n",
      "Found blob:  redis-prod-manual-2020-12-14-10-04\n",
      "Found blob:  redis-prod-manual-2020-12-16-11-36\n",
      "Found blob:  redis-prod-manual-2020-12-18-10-23\n"
     ]
    }
   ],
   "source": [
    "# Get a client to interact with a specific container - though it may not yet exist\n",
    "container_client = blob_service_client_Destiny.get_container_client(\"redis-prod-backup-exports\")\n",
    "try:\n",
    "    for blob in container_client.list_blobs():\n",
    "        print(\"Found blob: \", blob.name)\n",
    "except ResourceNotFoundError:\n",
    "    print(\"Container not found.\")"
   ]
  },
  {
   "cell_type": "code",
   "execution_count": 39,
   "metadata": {},
   "outputs": [],
   "source": [
    "# Teste download\n",
    "blob_client = blob_service_client_Origin.get_blob_client(container=\"redis-prod-exports\", blob=\"redis-prod-2020-12-11-18-20-07:backup:0\")\n",
    "try:\n",
    "    stream = blob_client.download_blob()\n",
    "except ResourceNotFoundError:\n",
    "    print(\"No blob found.\")"
   ]
  },
  {
   "cell_type": "code",
   "execution_count": 84,
   "metadata": {},
   "outputs": [
    {
     "name": "stdout",
     "output_type": "stream",
     "text": [
      "Found blob:  consultalogo-cnu-redis-prod-0-1-rdb/2:a0a5899e-4d52-4b68-be68-09c113b0a927:backup:0 274726912 0 BlobType.PageBlob\n",
      "Found blob:  consultalogo-cnu-redis-prod-0-1-rdb/2:a0a5899e-4d52-4b68-be68-09c113b0a927:backup:1 273965568 0 BlobType.PageBlob\n"
     ]
    }
   ],
   "source": [
    "# Get a client to interact with a specific container - though it may not yet exist\n",
    "container_client = blob_service_client_Destiny.get_container_client(\"consultalogo-cnu-redis-prod-redis-persistence\")\n",
    "try:\n",
    "    for blob in container_client.list_blobs():\n",
    "        print(\"Found blob: \", blob.name, blob.size, blob.page_blob_sequence_number, blob.blob_type)\n",
    "except ResourceNotFoundError:\n",
    "    print(\"Container not found.\")"
   ]
  },
  {
   "cell_type": "code",
   "execution_count": 85,
   "metadata": {},
   "outputs": [],
   "source": [
    "# Teste download\n",
    "blob_client = blob_service_client_Destiny.get_blob_client(container=\"consultalogo-cnu-redis-prod-redis-persistence\", \n",
    "                                                          blob=\"consultalogo-cnu-redis-prod-0-1-rdb/2:a0a5899e-4d52-4b68-be68-09c113b0a927:backup:0\")\n",
    "try:\n",
    "    stream = blob_client.download_blob()\n",
    "except ResourceNotFoundError:\n",
    "    print(\"No blob found.\")"
   ]
  },
  {
   "cell_type": "code",
   "execution_count": 86,
   "metadata": {},
   "outputs": [
    {
     "data": {
      "text/plain": [
       "<azure.storage.blob._download.StorageStreamDownloader at 0x1b89e480f28>"
      ]
     },
     "execution_count": 86,
     "metadata": {},
     "output_type": "execute_result"
    }
   ],
   "source": [
    "stream"
   ]
  },
  {
   "cell_type": "code",
   "execution_count": 87,
   "metadata": {},
   "outputs": [
    {
     "data": {
      "text/plain": [
       "'consultalogo-cnu-redis-prod-0-1-rdb/2:a0a5899e-4d52-4b68-be68-09c113b0a927:backup:0'"
      ]
     },
     "execution_count": 87,
     "metadata": {},
     "output_type": "execute_result"
    }
   ],
   "source": [
    "stream.name"
   ]
  },
  {
   "cell_type": "code",
   "execution_count": 88,
   "metadata": {},
   "outputs": [
    {
     "data": {
      "text/plain": [
       "'consultalogo-cnu-redis-prod-redis-persistence'"
      ]
     },
     "execution_count": 88,
     "metadata": {},
     "output_type": "execute_result"
    }
   ],
   "source": [
    "stream.container"
   ]
  },
  {
   "cell_type": "code",
   "execution_count": 89,
   "metadata": {},
   "outputs": [
    {
     "data": {
      "text/plain": [
       "{'name': 'consultalogo-cnu-redis-prod-0-1-rdb/2:a0a5899e-4d52-4b68-be68-09c113b0a927:backup:0', 'container': 'consultalogo-cnu-redis-prod-redis-persistence', 'snapshot': None, 'version_id': None, 'is_current_version': None, 'blob_type': <BlobType.PageBlob: 'PageBlob'>, 'metadata': {}, 'encrypted_metadata': None, 'last_modified': datetime.datetime(2020, 12, 22, 14, 45, 12, tzinfo=datetime.timezone.utc), 'etag': '\"0x8D8A6882FC457EC\"', 'size': 274726912, 'content_range': 'bytes None-None/274726912', 'append_blob_committed_block_count': None, 'is_append_blob_sealed': None, 'page_blob_sequence_number': 0, 'server_encrypted': True, 'copy': {'id': None, 'source': None, 'status': None, 'progress': None, 'completion_time': None, 'status_description': None, 'incremental_copy': None, 'destination_snapshot': None}, 'content_settings': {'content_type': 'application/octet-stream', 'content_encoding': None, 'content_language': None, 'content_md5': None, 'content_disposition': None, 'cache_control': None}, 'lease': {'status': 'unlocked', 'state': 'available', 'duration': None}, 'blob_tier': None, 'rehydrate_priority': None, 'blob_tier_change_time': None, 'blob_tier_inferred': None, 'deleted': False, 'deleted_time': None, 'remaining_retention_days': None, 'creation_time': None, 'archive_status': None, 'encryption_key_sha256': None, 'encryption_scope': None, 'request_server_encrypted': True, 'object_replication_source_properties': [], 'object_replication_destination_policy': None, 'last_accessed_on': None, 'tag_count': None, 'tags': None, 'content_md5': None}"
      ]
     },
     "execution_count": 89,
     "metadata": {},
     "output_type": "execute_result"
    }
   ],
   "source": [
    "stream.properties"
   ]
  },
  {
   "cell_type": "code",
   "execution_count": 90,
   "metadata": {},
   "outputs": [],
   "source": [
    "blobDestino = blob_service_client_Destiny.get_blob_client(\"redis-prod-backup-exports\", stream.name)"
   ]
  },
  {
   "cell_type": "code",
   "execution_count": 91,
   "metadata": {},
   "outputs": [
    {
     "ename": "TypeError",
     "evalue": "object dict can't be used in 'await' expression",
     "output_type": "error",
     "traceback": [
      "\u001b[1;31m---------------------------------------------------------------------------\u001b[0m",
      "\u001b[1;31mTypeError\u001b[0m                                 Traceback (most recent call last)",
      "\u001b[1;32m<ipython-input-91-30b0cea93883>\u001b[0m in \u001b[0;36masync-def-wrapper\u001b[1;34m()\u001b[0m\n",
      "\u001b[1;31mTypeError\u001b[0m: object dict can't be used in 'await' expression"
     ]
    }
   ],
   "source": [
    "source = \"https://rediscnustoragebackups.blob.core.windows.net/consultalogo-cnu-redis-prod-redis-persistence/consultalogo-cnu-redis-prod-0-1-rdb/2:a0a5899e-4d52-4b68-be68-09c113b0a927:backup:0\"\n",
    "await blobDestino.start_copy_from_url(source) #stream.properties.copy.source"
   ]
  },
  {
   "cell_type": "code",
   "execution_count": 30,
   "metadata": {},
   "outputs": [
    {
     "ename": "HttpResponseError",
     "evalue": "There is currently a pending copy operation.\nRequestId:37051c44-301e-0026-1e5d-d8319b000000\nTime:2020-12-22T12:24:43.5669214Z\nErrorCode:PendingCopyOperation\nError:None",
     "output_type": "error",
     "traceback": [
      "\u001b[1;31m---------------------------------------------------------------------------\u001b[0m",
      "\u001b[1;31mStorageErrorException\u001b[0m                     Traceback (most recent call last)",
      "\u001b[1;32mD:\\Users\\elain\\Anaconda3\\lib\\site-packages\\azure\\storage\\blob\\_blob_client.py\u001b[0m in \u001b[0;36mstart_copy_from_url\u001b[1;34m(self, source_url, metadata, incremental_copy, **kwargs)\u001b[0m\n\u001b[0;32m   1760\u001b[0m                 \u001b[1;32mreturn\u001b[0m \u001b[0mself\u001b[0m\u001b[1;33m.\u001b[0m\u001b[0m_client\u001b[0m\u001b[1;33m.\u001b[0m\u001b[0mpage_blob\u001b[0m\u001b[1;33m.\u001b[0m\u001b[0mcopy_incremental\u001b[0m\u001b[1;33m(\u001b[0m\u001b[1;33m**\u001b[0m\u001b[0moptions\u001b[0m\u001b[1;33m)\u001b[0m\u001b[1;33m\u001b[0m\u001b[1;33m\u001b[0m\u001b[0m\n\u001b[1;32m-> 1761\u001b[1;33m             \u001b[1;32mreturn\u001b[0m \u001b[0mself\u001b[0m\u001b[1;33m.\u001b[0m\u001b[0m_client\u001b[0m\u001b[1;33m.\u001b[0m\u001b[0mblob\u001b[0m\u001b[1;33m.\u001b[0m\u001b[0mstart_copy_from_url\u001b[0m\u001b[1;33m(\u001b[0m\u001b[1;33m**\u001b[0m\u001b[0moptions\u001b[0m\u001b[1;33m)\u001b[0m\u001b[1;33m\u001b[0m\u001b[1;33m\u001b[0m\u001b[0m\n\u001b[0m\u001b[0;32m   1762\u001b[0m         \u001b[1;32mexcept\u001b[0m \u001b[0mStorageErrorException\u001b[0m \u001b[1;32mas\u001b[0m \u001b[0merror\u001b[0m\u001b[1;33m:\u001b[0m\u001b[1;33m\u001b[0m\u001b[1;33m\u001b[0m\u001b[0m\n",
      "\u001b[1;32mD:\\Users\\elain\\Anaconda3\\lib\\site-packages\\azure\\storage\\blob\\_generated\\operations\\_blob_operations.py\u001b[0m in \u001b[0;36mstart_copy_from_url\u001b[1;34m(self, copy_source, timeout, metadata, tier, rehydrate_priority, request_id, blob_tags_string, seal_blob, source_modified_access_conditions, modified_access_conditions, lease_access_conditions, cls, **kwargs)\u001b[0m\n\u001b[0;32m   2244\u001b[0m             \u001b[0mmap_error\u001b[0m\u001b[1;33m(\u001b[0m\u001b[0mstatus_code\u001b[0m\u001b[1;33m=\u001b[0m\u001b[0mresponse\u001b[0m\u001b[1;33m.\u001b[0m\u001b[0mstatus_code\u001b[0m\u001b[1;33m,\u001b[0m \u001b[0mresponse\u001b[0m\u001b[1;33m=\u001b[0m\u001b[0mresponse\u001b[0m\u001b[1;33m,\u001b[0m \u001b[0merror_map\u001b[0m\u001b[1;33m=\u001b[0m\u001b[0merror_map\u001b[0m\u001b[1;33m)\u001b[0m\u001b[1;33m\u001b[0m\u001b[1;33m\u001b[0m\u001b[0m\n\u001b[1;32m-> 2245\u001b[1;33m             \u001b[1;32mraise\u001b[0m \u001b[0mmodels\u001b[0m\u001b[1;33m.\u001b[0m\u001b[0mStorageErrorException\u001b[0m\u001b[1;33m(\u001b[0m\u001b[0mresponse\u001b[0m\u001b[1;33m,\u001b[0m \u001b[0mself\u001b[0m\u001b[1;33m.\u001b[0m\u001b[0m_deserialize\u001b[0m\u001b[1;33m)\u001b[0m\u001b[1;33m\u001b[0m\u001b[1;33m\u001b[0m\u001b[0m\n\u001b[0m\u001b[0;32m   2246\u001b[0m \u001b[1;33m\u001b[0m\u001b[0m\n",
      "\u001b[1;31mStorageErrorException\u001b[0m: Operation returned an invalid status 'There is currently a pending copy operation.'",
      "\nDuring handling of the above exception, another exception occurred:\n",
      "\u001b[1;31mHttpResponseError\u001b[0m                         Traceback (most recent call last)",
      "\u001b[1;32m<ipython-input-30-2a4c7789ece6>\u001b[0m in \u001b[0;36m<module>\u001b[1;34m\u001b[0m\n\u001b[1;32m----> 1\u001b[1;33m \u001b[0mblobDestino\u001b[0m\u001b[1;33m.\u001b[0m\u001b[0mstart_copy_from_url\u001b[0m\u001b[1;33m(\u001b[0m\u001b[1;34m\"https://raw.githubusercontent.com/Azure/azure-sdk-for-python/master/sdk/storage/azure-storage-blob/samples/blob_samples_copy_blob_async.py\"\u001b[0m\u001b[1;33m)\u001b[0m\u001b[1;33m\u001b[0m\u001b[1;33m\u001b[0m\u001b[0m\n\u001b[0m",
      "\u001b[1;32mD:\\Users\\elain\\Anaconda3\\lib\\site-packages\\azure\\core\\tracing\\decorator.py\u001b[0m in \u001b[0;36mwrapper_use_tracer\u001b[1;34m(*args, **kwargs)\u001b[0m\n\u001b[0;32m     81\u001b[0m             \u001b[0mspan_impl_type\u001b[0m \u001b[1;33m=\u001b[0m \u001b[0msettings\u001b[0m\u001b[1;33m.\u001b[0m\u001b[0mtracing_implementation\u001b[0m\u001b[1;33m(\u001b[0m\u001b[1;33m)\u001b[0m\u001b[1;33m\u001b[0m\u001b[1;33m\u001b[0m\u001b[0m\n\u001b[0;32m     82\u001b[0m             \u001b[1;32mif\u001b[0m \u001b[0mspan_impl_type\u001b[0m \u001b[1;32mis\u001b[0m \u001b[1;32mNone\u001b[0m\u001b[1;33m:\u001b[0m\u001b[1;33m\u001b[0m\u001b[1;33m\u001b[0m\u001b[0m\n\u001b[1;32m---> 83\u001b[1;33m                 \u001b[1;32mreturn\u001b[0m \u001b[0mfunc\u001b[0m\u001b[1;33m(\u001b[0m\u001b[1;33m*\u001b[0m\u001b[0margs\u001b[0m\u001b[1;33m,\u001b[0m \u001b[1;33m**\u001b[0m\u001b[0mkwargs\u001b[0m\u001b[1;33m)\u001b[0m\u001b[1;33m\u001b[0m\u001b[1;33m\u001b[0m\u001b[0m\n\u001b[0m\u001b[0;32m     84\u001b[0m \u001b[1;33m\u001b[0m\u001b[0m\n\u001b[0;32m     85\u001b[0m             \u001b[1;31m# Merge span is parameter is set, but only if no explicit parent are passed\u001b[0m\u001b[1;33m\u001b[0m\u001b[1;33m\u001b[0m\u001b[1;33m\u001b[0m\u001b[0m\n",
      "\u001b[1;32mD:\\Users\\elain\\Anaconda3\\lib\\site-packages\\azure\\storage\\blob\\_blob_client.py\u001b[0m in \u001b[0;36mstart_copy_from_url\u001b[1;34m(self, source_url, metadata, incremental_copy, **kwargs)\u001b[0m\n\u001b[0;32m   1761\u001b[0m             \u001b[1;32mreturn\u001b[0m \u001b[0mself\u001b[0m\u001b[1;33m.\u001b[0m\u001b[0m_client\u001b[0m\u001b[1;33m.\u001b[0m\u001b[0mblob\u001b[0m\u001b[1;33m.\u001b[0m\u001b[0mstart_copy_from_url\u001b[0m\u001b[1;33m(\u001b[0m\u001b[1;33m**\u001b[0m\u001b[0moptions\u001b[0m\u001b[1;33m)\u001b[0m\u001b[1;33m\u001b[0m\u001b[1;33m\u001b[0m\u001b[0m\n\u001b[0;32m   1762\u001b[0m         \u001b[1;32mexcept\u001b[0m \u001b[0mStorageErrorException\u001b[0m \u001b[1;32mas\u001b[0m \u001b[0merror\u001b[0m\u001b[1;33m:\u001b[0m\u001b[1;33m\u001b[0m\u001b[1;33m\u001b[0m\u001b[0m\n\u001b[1;32m-> 1763\u001b[1;33m             \u001b[0mprocess_storage_error\u001b[0m\u001b[1;33m(\u001b[0m\u001b[0merror\u001b[0m\u001b[1;33m)\u001b[0m\u001b[1;33m\u001b[0m\u001b[1;33m\u001b[0m\u001b[0m\n\u001b[0m\u001b[0;32m   1764\u001b[0m \u001b[1;33m\u001b[0m\u001b[0m\n\u001b[0;32m   1765\u001b[0m     \u001b[1;32mdef\u001b[0m \u001b[0m_abort_copy_options\u001b[0m\u001b[1;33m(\u001b[0m\u001b[0mself\u001b[0m\u001b[1;33m,\u001b[0m \u001b[0mcopy_id\u001b[0m\u001b[1;33m,\u001b[0m \u001b[1;33m**\u001b[0m\u001b[0mkwargs\u001b[0m\u001b[1;33m)\u001b[0m\u001b[1;33m:\u001b[0m\u001b[1;33m\u001b[0m\u001b[1;33m\u001b[0m\u001b[0m\n",
      "\u001b[1;32mD:\\Users\\elain\\Anaconda3\\lib\\site-packages\\azure\\storage\\blob\\_shared\\response_handlers.py\u001b[0m in \u001b[0;36mprocess_storage_error\u001b[1;34m(storage_error)\u001b[0m\n\u001b[0;32m    145\u001b[0m     \u001b[0merror\u001b[0m\u001b[1;33m.\u001b[0m\u001b[0merror_code\u001b[0m \u001b[1;33m=\u001b[0m \u001b[0merror_code\u001b[0m\u001b[1;33m\u001b[0m\u001b[1;33m\u001b[0m\u001b[0m\n\u001b[0;32m    146\u001b[0m     \u001b[0merror\u001b[0m\u001b[1;33m.\u001b[0m\u001b[0madditional_info\u001b[0m \u001b[1;33m=\u001b[0m \u001b[0madditional_data\u001b[0m\u001b[1;33m\u001b[0m\u001b[1;33m\u001b[0m\u001b[0m\n\u001b[1;32m--> 147\u001b[1;33m     \u001b[1;32mraise\u001b[0m \u001b[0merror\u001b[0m\u001b[1;33m\u001b[0m\u001b[1;33m\u001b[0m\u001b[0m\n\u001b[0m\u001b[0;32m    148\u001b[0m \u001b[1;33m\u001b[0m\u001b[0m\n\u001b[0;32m    149\u001b[0m \u001b[1;33m\u001b[0m\u001b[0m\n",
      "\u001b[1;31mHttpResponseError\u001b[0m: There is currently a pending copy operation.\nRequestId:37051c44-301e-0026-1e5d-d8319b000000\nTime:2020-12-22T12:24:43.5669214Z\nErrorCode:PendingCopyOperation\nError:None"
     ]
    }
   ],
   "source": [
    "blobDestino.start_copy_from_url(\"https://raw.githubusercontent.com/Azure/azure-sdk-for-python/master/sdk/storage/azure-storage-blob/samples/blob_samples_copy_blob_async.py\")"
   ]
  },
  {
   "cell_type": "code",
   "execution_count": null,
   "metadata": {},
   "outputs": [],
   "source": []
  }
 ],
 "metadata": {
  "kernelspec": {
   "display_name": "Python 3",
   "language": "python",
   "name": "python3"
  },
  "language_info": {
   "codemirror_mode": {
    "name": "ipython",
    "version": 3
   },
   "file_extension": ".py",
   "mimetype": "text/x-python",
   "name": "python",
   "nbconvert_exporter": "python",
   "pygments_lexer": "ipython3",
   "version": "3.7.3"
  }
 },
 "nbformat": 4,
 "nbformat_minor": 2
}
