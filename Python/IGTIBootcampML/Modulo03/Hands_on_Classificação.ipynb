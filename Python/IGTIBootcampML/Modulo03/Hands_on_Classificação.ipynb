{
 "cells": [
  {
   "cell_type": "markdown",
   "metadata": {
    "id": "wIl-k3lr8Qiv"
   },
   "source": [
    "# **Hands-on Classificação**\n",
    "\n",
    "---\n",
    "\n",
    "Classificação com sklearn "
   ]
  },
  {
   "cell_type": "markdown",
   "metadata": {
    "id": "SN6weYKF8N8v"
   },
   "source": [
    "Vamos começar a analisar algoritmos de classificação de acordo com as métricas vistas nas aula anteriores. \n",
    "\n",
    "Para isso, usaremos 3 classificadores diferentes. Todas as implementações são provenivientes do sklearn. São eles: \n",
    "\n",
    "\n",
    "*   <a href = https://scikit-learn.org/stable/modules/neighbors.html#nearest-neighbors-classification> KNN </a>\n",
    "*   <a href = https://scikit-learn.org/stable/modules/svm.html> Support Vector Machine (SVM)</a>\n",
    "*   <a href = https://scikit-learn.org/stable/modules/generated/sklearn.ensemble.RandomForestClassifier.html> Random Forest </a>\n",
    "\n",
    "Esses classificadores são amplamente utilizados no dia-a-dia quando se trata de uma tarefa de classificação. Mais informações sobre esses modelos podem ser encontradas nos links para a documentação do sklearn. \n",
    "\n",
    "\n",
    "Vamos utilizar a base de dados **diabetes.csv** </a> que pode ser encontrada no OpenML em: https://www.openml.org/d/37. Essa base descreve o problema de predizer o resultado positivo ou negativo de um teste para diabetes aplicado em um conjunto específico de pacientes na Índia. \n"
   ]
  },
  {
   "cell_type": "markdown",
   "metadata": {
    "id": "_5wwHwTQ8N8v"
   },
   "source": [
    "### *Importando* bibliotecas\n"
   ]
  },
  {
   "cell_type": "code",
   "execution_count": 1,
   "metadata": {
    "id": "i_5G2bRaHU8i"
   },
   "outputs": [],
   "source": [
    "import pandas as pd #biblioteca para manipulação de dados\n",
    "import numpy as np #biblioteca para utilizacao de vetores e matrizes\n",
    "import matplotlib.pyplot as plt #bibloteca para plotar graficos"
   ]
  },
  {
   "cell_type": "code",
   "execution_count": null,
   "metadata": {
    "colab": {
     "base_uri": "https://localhost:8080/",
     "height": 34
    },
    "id": "ufc7rjN0Hbb7",
    "outputId": "f9a88d98-3b8d-4796-a942-acdc77e7584e"
   },
   "outputs": [
    {
     "name": "stdout",
     "output_type": "stream",
     "text": [
      "Mounted at /content/gdrive\n"
     ]
    }
   ],
   "source": [
    "#liberando acesso do colab aos arquivos no drive\n",
    "from google.colab import drive\n",
    "drive.mount('/content/gdrive')"
   ]
  },
  {
   "cell_type": "markdown",
   "metadata": {
    "id": "L9aBPfZwHjwK"
   },
   "source": [
    "### Carregamento dos dados"
   ]
  },
  {
   "cell_type": "code",
   "execution_count": null,
   "metadata": {
    "id": "FTLPdcSaHsIo"
   },
   "outputs": [],
   "source": [
    "#lendo o csv que contem a base de dados e armazanando em um df\n",
    "df = pd.read_csv('/content/gdrive/My Drive/IGTI/Aulas Práticas/diabetes.csv')"
   ]
  },
  {
   "cell_type": "code",
   "execution_count": 2,
   "metadata": {},
   "outputs": [],
   "source": [
    "#lendo o csv que contem a base de dados e armazanando em um df\n",
    "df = pd.read_csv('diabetes.csv')"
   ]
  },
  {
   "cell_type": "code",
   "execution_count": 3,
   "metadata": {
    "colab": {
     "base_uri": "https://localhost:8080/",
     "height": 204
    },
    "id": "Yw9wSFNd8N8w",
    "outputId": "11423ea5-4547-4464-d07b-e9be4bacaf9a"
   },
   "outputs": [
    {
     "data": {
      "text/html": [
       "<div>\n",
       "<style scoped>\n",
       "    .dataframe tbody tr th:only-of-type {\n",
       "        vertical-align: middle;\n",
       "    }\n",
       "\n",
       "    .dataframe tbody tr th {\n",
       "        vertical-align: top;\n",
       "    }\n",
       "\n",
       "    .dataframe thead th {\n",
       "        text-align: right;\n",
       "    }\n",
       "</style>\n",
       "<table border=\"1\" class=\"dataframe\">\n",
       "  <thead>\n",
       "    <tr style=\"text-align: right;\">\n",
       "      <th></th>\n",
       "      <th>preg</th>\n",
       "      <th>plas</th>\n",
       "      <th>pres</th>\n",
       "      <th>skin</th>\n",
       "      <th>insu</th>\n",
       "      <th>mass</th>\n",
       "      <th>pedi</th>\n",
       "      <th>age</th>\n",
       "      <th>class</th>\n",
       "    </tr>\n",
       "  </thead>\n",
       "  <tbody>\n",
       "    <tr>\n",
       "      <th>0</th>\n",
       "      <td>6</td>\n",
       "      <td>148</td>\n",
       "      <td>72</td>\n",
       "      <td>35</td>\n",
       "      <td>0</td>\n",
       "      <td>33.6</td>\n",
       "      <td>0.627</td>\n",
       "      <td>50</td>\n",
       "      <td>tested_positive</td>\n",
       "    </tr>\n",
       "    <tr>\n",
       "      <th>1</th>\n",
       "      <td>1</td>\n",
       "      <td>85</td>\n",
       "      <td>66</td>\n",
       "      <td>29</td>\n",
       "      <td>0</td>\n",
       "      <td>26.6</td>\n",
       "      <td>0.351</td>\n",
       "      <td>31</td>\n",
       "      <td>tested_negative</td>\n",
       "    </tr>\n",
       "    <tr>\n",
       "      <th>2</th>\n",
       "      <td>8</td>\n",
       "      <td>183</td>\n",
       "      <td>64</td>\n",
       "      <td>0</td>\n",
       "      <td>0</td>\n",
       "      <td>23.3</td>\n",
       "      <td>0.672</td>\n",
       "      <td>32</td>\n",
       "      <td>tested_positive</td>\n",
       "    </tr>\n",
       "    <tr>\n",
       "      <th>3</th>\n",
       "      <td>1</td>\n",
       "      <td>89</td>\n",
       "      <td>66</td>\n",
       "      <td>23</td>\n",
       "      <td>94</td>\n",
       "      <td>28.1</td>\n",
       "      <td>0.167</td>\n",
       "      <td>21</td>\n",
       "      <td>tested_negative</td>\n",
       "    </tr>\n",
       "    <tr>\n",
       "      <th>4</th>\n",
       "      <td>0</td>\n",
       "      <td>137</td>\n",
       "      <td>40</td>\n",
       "      <td>35</td>\n",
       "      <td>168</td>\n",
       "      <td>43.1</td>\n",
       "      <td>2.288</td>\n",
       "      <td>33</td>\n",
       "      <td>tested_positive</td>\n",
       "    </tr>\n",
       "  </tbody>\n",
       "</table>\n",
       "</div>"
      ],
      "text/plain": [
       "   preg  plas  pres  skin  insu  mass   pedi  age            class\n",
       "0     6   148    72    35     0  33.6  0.627   50  tested_positive\n",
       "1     1    85    66    29     0  26.6  0.351   31  tested_negative\n",
       "2     8   183    64     0     0  23.3  0.672   32  tested_positive\n",
       "3     1    89    66    23    94  28.1  0.167   21  tested_negative\n",
       "4     0   137    40    35   168  43.1  2.288   33  tested_positive"
      ]
     },
     "execution_count": 3,
     "metadata": {},
     "output_type": "execute_result"
    }
   ],
   "source": [
    "#imprimindo as 5 primeiras linhas do df para confirmação\n",
    "df.head(5)"
   ]
  },
  {
   "cell_type": "markdown",
   "metadata": {
    "id": "cFaZnXnAIonA"
   },
   "source": [
    "*   preg: number of times pregnant\n",
    "*   plas: Plasma glucose concentration a 2 hours in an oral glucose tolerance test\n",
    "*   pres: Diastolic blood pressure (mm Hg)\n",
    "*   skin: Triceps skin fold thickness (mm)\n",
    "*   insu: 2-Hour serum insulin (mu U/ml)\n",
    "*   mass: Body mass index (weight in kg/(height in m)^2)\n",
    "*   pedi: Diabetes pedigree function\n",
    "*   age: Age (years)\n",
    "*   class: Class variable (tested_positive or tested_negative)"
   ]
  },
  {
   "cell_type": "code",
   "execution_count": 4,
   "metadata": {
    "colab": {
     "base_uri": "https://localhost:8080/",
     "height": 34
    },
    "id": "d_lxVAD-8N86",
    "outputId": "d1fb7425-9f07-4a42-8247-6b7a67f8d811"
   },
   "outputs": [
    {
     "name": "stdout",
     "output_type": "stream",
     "text": [
      "Amostras e Features: (768, 9)\n"
     ]
    }
   ],
   "source": [
    "# Verificando o numero de amostras (linhas) e features (colunas) do dataset. \n",
    "print('Amostras e Features:', df.shape)"
   ]
  },
  {
   "cell_type": "code",
   "execution_count": 5,
   "metadata": {
    "colab": {
     "base_uri": "https://localhost:8080/",
     "height": 34
    },
    "id": "MILEATwd8N9A",
    "outputId": "9b975f72-066b-478c-deb2-4a345bd17214"
   },
   "outputs": [
    {
     "data": {
      "text/plain": [
       "Index(['preg', 'plas', 'pres', 'skin', 'insu', 'mass', 'pedi', 'age', 'class'], dtype='object')"
      ]
     },
     "execution_count": 5,
     "metadata": {},
     "output_type": "execute_result"
    }
   ],
   "source": [
    "# Verificando quais são os tipos das features\n",
    "df.columns"
   ]
  },
  {
   "cell_type": "markdown",
   "metadata": {
    "id": "b2aq9YGyJ_YN"
   },
   "source": [
    "### Pré processamento"
   ]
  },
  {
   "cell_type": "markdown",
   "metadata": {
    "id": "WD1KwfP08N9E"
   },
   "source": [
    "Nesse problema, o único atributo categórico é a classe. Alguns modelos podem ter dificuldade de lidar com esse atributo. Nesse caso, precisamos transformar os valores de \"tested_negative\" e \"tested_positivo\" para 0 e 1.\n",
    "\n",
    "Para isso, vamos fazer uma função bem simples. "
   ]
  },
  {
   "cell_type": "code",
   "execution_count": 6,
   "metadata": {
    "colab": {
     "base_uri": "https://localhost:8080/",
     "height": 204
    },
    "id": "RbSaDmfQqdfj",
    "outputId": "269d9467-d3cf-4acb-dcc6-0d7361f2099c"
   },
   "outputs": [
    {
     "data": {
      "text/html": [
       "<div>\n",
       "<style scoped>\n",
       "    .dataframe tbody tr th:only-of-type {\n",
       "        vertical-align: middle;\n",
       "    }\n",
       "\n",
       "    .dataframe tbody tr th {\n",
       "        vertical-align: top;\n",
       "    }\n",
       "\n",
       "    .dataframe thead th {\n",
       "        text-align: right;\n",
       "    }\n",
       "</style>\n",
       "<table border=\"1\" class=\"dataframe\">\n",
       "  <thead>\n",
       "    <tr style=\"text-align: right;\">\n",
       "      <th></th>\n",
       "      <th>preg</th>\n",
       "      <th>plas</th>\n",
       "      <th>pres</th>\n",
       "      <th>skin</th>\n",
       "      <th>insu</th>\n",
       "      <th>mass</th>\n",
       "      <th>pedi</th>\n",
       "      <th>age</th>\n",
       "      <th>class</th>\n",
       "    </tr>\n",
       "  </thead>\n",
       "  <tbody>\n",
       "    <tr>\n",
       "      <th>0</th>\n",
       "      <td>6</td>\n",
       "      <td>148</td>\n",
       "      <td>72</td>\n",
       "      <td>35</td>\n",
       "      <td>0</td>\n",
       "      <td>33.6</td>\n",
       "      <td>0.627</td>\n",
       "      <td>50</td>\n",
       "      <td>1</td>\n",
       "    </tr>\n",
       "    <tr>\n",
       "      <th>1</th>\n",
       "      <td>1</td>\n",
       "      <td>85</td>\n",
       "      <td>66</td>\n",
       "      <td>29</td>\n",
       "      <td>0</td>\n",
       "      <td>26.6</td>\n",
       "      <td>0.351</td>\n",
       "      <td>31</td>\n",
       "      <td>0</td>\n",
       "    </tr>\n",
       "    <tr>\n",
       "      <th>2</th>\n",
       "      <td>8</td>\n",
       "      <td>183</td>\n",
       "      <td>64</td>\n",
       "      <td>0</td>\n",
       "      <td>0</td>\n",
       "      <td>23.3</td>\n",
       "      <td>0.672</td>\n",
       "      <td>32</td>\n",
       "      <td>1</td>\n",
       "    </tr>\n",
       "    <tr>\n",
       "      <th>3</th>\n",
       "      <td>1</td>\n",
       "      <td>89</td>\n",
       "      <td>66</td>\n",
       "      <td>23</td>\n",
       "      <td>94</td>\n",
       "      <td>28.1</td>\n",
       "      <td>0.167</td>\n",
       "      <td>21</td>\n",
       "      <td>0</td>\n",
       "    </tr>\n",
       "    <tr>\n",
       "      <th>4</th>\n",
       "      <td>0</td>\n",
       "      <td>137</td>\n",
       "      <td>40</td>\n",
       "      <td>35</td>\n",
       "      <td>168</td>\n",
       "      <td>43.1</td>\n",
       "      <td>2.288</td>\n",
       "      <td>33</td>\n",
       "      <td>1</td>\n",
       "    </tr>\n",
       "  </tbody>\n",
       "</table>\n",
       "</div>"
      ],
      "text/plain": [
       "   preg  plas  pres  skin  insu  mass   pedi  age  class\n",
       "0     6   148    72    35     0  33.6  0.627   50      1\n",
       "1     1    85    66    29     0  26.6  0.351   31      0\n",
       "2     8   183    64     0     0  23.3  0.672   32      1\n",
       "3     1    89    66    23    94  28.1  0.167   21      0\n",
       "4     0   137    40    35   168  43.1  2.288   33      1"
      ]
     },
     "execution_count": 6,
     "metadata": {},
     "output_type": "execute_result"
    }
   ],
   "source": [
    "#criando um dicionario de dados para o mapeamento\n",
    "name_to_class = {\n",
    "    'tested_negative': 0,\n",
    "    'tested_positive': 1\n",
    "}\n",
    "\n",
    "#substituindo os valores categóricos pelo mapeamento\n",
    "df['class'] = df['class'].map(name_to_class)\n",
    "\n",
    "#check\n",
    "df.head(5)"
   ]
  },
  {
   "cell_type": "markdown",
   "metadata": {
    "id": "_J94oUYW8N9Q"
   },
   "source": [
    "Uma outra etapa importante do pré-processamento consiste na avaliação de dados faltantes. \n",
    "\n"
   ]
  },
  {
   "cell_type": "code",
   "execution_count": 7,
   "metadata": {
    "colab": {
     "base_uri": "https://localhost:8080/",
     "height": 297
    },
    "id": "fOQWr4kR8N9R",
    "outputId": "bdf87b03-eb63-47b8-d622-aaf142377a7c"
   },
   "outputs": [
    {
     "data": {
      "text/html": [
       "<div>\n",
       "<style scoped>\n",
       "    .dataframe tbody tr th:only-of-type {\n",
       "        vertical-align: middle;\n",
       "    }\n",
       "\n",
       "    .dataframe tbody tr th {\n",
       "        vertical-align: top;\n",
       "    }\n",
       "\n",
       "    .dataframe thead th {\n",
       "        text-align: right;\n",
       "    }\n",
       "</style>\n",
       "<table border=\"1\" class=\"dataframe\">\n",
       "  <thead>\n",
       "    <tr style=\"text-align: right;\">\n",
       "      <th></th>\n",
       "      <th>preg</th>\n",
       "      <th>plas</th>\n",
       "      <th>pres</th>\n",
       "      <th>skin</th>\n",
       "      <th>insu</th>\n",
       "      <th>mass</th>\n",
       "      <th>pedi</th>\n",
       "      <th>age</th>\n",
       "      <th>class</th>\n",
       "    </tr>\n",
       "  </thead>\n",
       "  <tbody>\n",
       "    <tr>\n",
       "      <th>count</th>\n",
       "      <td>768.000000</td>\n",
       "      <td>768.000000</td>\n",
       "      <td>768.000000</td>\n",
       "      <td>768.000000</td>\n",
       "      <td>768.000000</td>\n",
       "      <td>768.000000</td>\n",
       "      <td>768.000000</td>\n",
       "      <td>768.000000</td>\n",
       "      <td>768.000000</td>\n",
       "    </tr>\n",
       "    <tr>\n",
       "      <th>mean</th>\n",
       "      <td>3.845052</td>\n",
       "      <td>120.894531</td>\n",
       "      <td>69.105469</td>\n",
       "      <td>20.536458</td>\n",
       "      <td>79.799479</td>\n",
       "      <td>31.992578</td>\n",
       "      <td>0.471876</td>\n",
       "      <td>33.240885</td>\n",
       "      <td>0.348958</td>\n",
       "    </tr>\n",
       "    <tr>\n",
       "      <th>std</th>\n",
       "      <td>3.369578</td>\n",
       "      <td>31.972618</td>\n",
       "      <td>19.355807</td>\n",
       "      <td>15.952218</td>\n",
       "      <td>115.244002</td>\n",
       "      <td>7.884160</td>\n",
       "      <td>0.331329</td>\n",
       "      <td>11.760232</td>\n",
       "      <td>0.476951</td>\n",
       "    </tr>\n",
       "    <tr>\n",
       "      <th>min</th>\n",
       "      <td>0.000000</td>\n",
       "      <td>0.000000</td>\n",
       "      <td>0.000000</td>\n",
       "      <td>0.000000</td>\n",
       "      <td>0.000000</td>\n",
       "      <td>0.000000</td>\n",
       "      <td>0.078000</td>\n",
       "      <td>21.000000</td>\n",
       "      <td>0.000000</td>\n",
       "    </tr>\n",
       "    <tr>\n",
       "      <th>25%</th>\n",
       "      <td>1.000000</td>\n",
       "      <td>99.000000</td>\n",
       "      <td>62.000000</td>\n",
       "      <td>0.000000</td>\n",
       "      <td>0.000000</td>\n",
       "      <td>27.300000</td>\n",
       "      <td>0.243750</td>\n",
       "      <td>24.000000</td>\n",
       "      <td>0.000000</td>\n",
       "    </tr>\n",
       "    <tr>\n",
       "      <th>50%</th>\n",
       "      <td>3.000000</td>\n",
       "      <td>117.000000</td>\n",
       "      <td>72.000000</td>\n",
       "      <td>23.000000</td>\n",
       "      <td>30.500000</td>\n",
       "      <td>32.000000</td>\n",
       "      <td>0.372500</td>\n",
       "      <td>29.000000</td>\n",
       "      <td>0.000000</td>\n",
       "    </tr>\n",
       "    <tr>\n",
       "      <th>75%</th>\n",
       "      <td>6.000000</td>\n",
       "      <td>140.250000</td>\n",
       "      <td>80.000000</td>\n",
       "      <td>32.000000</td>\n",
       "      <td>127.250000</td>\n",
       "      <td>36.600000</td>\n",
       "      <td>0.626250</td>\n",
       "      <td>41.000000</td>\n",
       "      <td>1.000000</td>\n",
       "    </tr>\n",
       "    <tr>\n",
       "      <th>max</th>\n",
       "      <td>17.000000</td>\n",
       "      <td>199.000000</td>\n",
       "      <td>122.000000</td>\n",
       "      <td>99.000000</td>\n",
       "      <td>846.000000</td>\n",
       "      <td>67.100000</td>\n",
       "      <td>2.420000</td>\n",
       "      <td>81.000000</td>\n",
       "      <td>1.000000</td>\n",
       "    </tr>\n",
       "  </tbody>\n",
       "</table>\n",
       "</div>"
      ],
      "text/plain": [
       "             preg        plas        pres        skin        insu        mass  \\\n",
       "count  768.000000  768.000000  768.000000  768.000000  768.000000  768.000000   \n",
       "mean     3.845052  120.894531   69.105469   20.536458   79.799479   31.992578   \n",
       "std      3.369578   31.972618   19.355807   15.952218  115.244002    7.884160   \n",
       "min      0.000000    0.000000    0.000000    0.000000    0.000000    0.000000   \n",
       "25%      1.000000   99.000000   62.000000    0.000000    0.000000   27.300000   \n",
       "50%      3.000000  117.000000   72.000000   23.000000   30.500000   32.000000   \n",
       "75%      6.000000  140.250000   80.000000   32.000000  127.250000   36.600000   \n",
       "max     17.000000  199.000000  122.000000   99.000000  846.000000   67.100000   \n",
       "\n",
       "             pedi         age       class  \n",
       "count  768.000000  768.000000  768.000000  \n",
       "mean     0.471876   33.240885    0.348958  \n",
       "std      0.331329   11.760232    0.476951  \n",
       "min      0.078000   21.000000    0.000000  \n",
       "25%      0.243750   24.000000    0.000000  \n",
       "50%      0.372500   29.000000    0.000000  \n",
       "75%      0.626250   41.000000    1.000000  \n",
       "max      2.420000   81.000000    1.000000  "
      ]
     },
     "execution_count": 7,
     "metadata": {},
     "output_type": "execute_result"
    }
   ],
   "source": [
    "# Analisando o resumo da base\n",
    "df.describe()"
   ]
  },
  {
   "cell_type": "markdown",
   "metadata": {
    "id": "-mH3u8WT8N9f"
   },
   "source": [
    "Os modelos implementados no sklearn recebem como entrada para a modelagam um ou mais arrays. Dessa forma, precisamos modificar o df original para que seja possível a modelagem correta. \n",
    "\n",
    "Para isso, vamos separar o label das amotras, armazenar o nome das featues já que os arrays não fazem isso e depois retirar a coluna de labels do df original. Em seguida, vamos converter o df para array usando o numpy!"
   ]
  },
  {
   "cell_type": "code",
   "execution_count": 8,
   "metadata": {
    "id": "WZ3jLCuEOfbJ"
   },
   "outputs": [],
   "source": [
    "# armazenando os labels em um array\n",
    "labels = np.array(df['class'])\n",
    "\n",
    "# salvando a ordem das features\n",
    "feature_list = list(df.columns)"
   ]
  },
  {
   "cell_type": "code",
   "execution_count": 9,
   "metadata": {
    "colab": {
     "base_uri": "https://localhost:8080/",
     "height": 34
    },
    "id": "Q5wIxGj68N9g",
    "outputId": "d3a51bb8-2954-460d-fbda-46fb29bbdeec"
   },
   "outputs": [
    {
     "data": {
      "text/plain": [
       "Index(['preg', 'plas', 'pres', 'skin', 'insu', 'mass', 'pedi', 'age'], dtype='object')"
      ]
     },
     "execution_count": 9,
     "metadata": {},
     "output_type": "execute_result"
    }
   ],
   "source": [
    "# removendo a coluna de labels do df original\n",
    "df = df.drop('class', axis = 1)\n",
    "\n",
    "# check\n",
    "df.columns"
   ]
  },
  {
   "cell_type": "code",
   "execution_count": 10,
   "metadata": {
    "id": "H24By9Vf8N9k"
   },
   "outputs": [],
   "source": [
    "# convertendo df para array\n",
    "data = np.array(df)"
   ]
  },
  {
   "cell_type": "markdown",
   "metadata": {
    "id": "WY6_Mcme8N9o"
   },
   "source": [
    "Agora estamos quase prontos para a modelagem em si!\n",
    "\n",
    "Precisamos apenas separar uma parte dos nossos dados para que seja possível avaliar os modelos que vamos treinar. O sklearn tem uma função para isso: <a href = http://scikit-learn.org/stable/modules/generated/sklearn.model_selection.train_test_split.html> train_test_split<a>."
   ]
  },
  {
   "cell_type": "code",
   "execution_count": 11,
   "metadata": {
    "id": "Ews_1IMu8N9p"
   },
   "outputs": [],
   "source": [
    "# importar train_test_split do scikitlearn \n",
    "from sklearn.model_selection import train_test_split\n",
    "\n",
    "# aplicando a funcao train_test_split para separar os conjuntos de treino e \n",
    "# teste segundo uma porcentagem de separação definida. \n",
    "train_data, test_data, train_labels, test_labels = train_test_split(data, labels, test_size = 0.25, random_state = 42)"
   ]
  },
  {
   "cell_type": "markdown",
   "metadata": {
    "id": "FYsqiOG18N9v"
   },
   "source": [
    "### Baseline: Comparando com um modelo aleatorio!"
   ]
  },
  {
   "cell_type": "markdown",
   "metadata": {
    "id": "JpkQtbyW8N9w"
   },
   "source": [
    "Como falamos durante as aulas teóricas, podemos criar uma base de comparação para os modelos que queremos avaliar. \n",
    "\n",
    "No caso da classificação, o baseline pode ser construído a partir de um modelo aleatório. Nesse caso, são atribuídos 0s e 1s de forma aleatória para todas as amostras de teste. Podemos pensar que o modelo baseline é apenas um chute aleatório sobre o resultado do teste positivo ou negativo. "
   ]
  },
  {
   "cell_type": "code",
   "execution_count": 12,
   "metadata": {
    "colab": {
     "base_uri": "https://localhost:8080/",
     "height": 119
    },
    "id": "orOp85nl5QDw",
    "outputId": "a7b61237-ba85-46fb-c14b-60010859c90d"
   },
   "outputs": [
    {
     "name": "stdout",
     "output_type": "stream",
     "text": [
      "[0 1 1 0 0 0 1 1 0 1 0 1 1 1 1 1 0 0 1 1 0 1 1 0 0 1 1 0 1 0 0 0 0 0 0 0 1\n",
      " 1 1 1 0 0 1 1 0 1 1 1 0 1 1 1 1 1 1 0 1 1 0 1 0 0 0 1 0 1 0 1 1 0 0 0 1 0\n",
      " 1 0 0 0 1 0 0 1 1 0 1 1 0 0 0 0 1 0 1 0 1 1 0 1 0 0 0 1 1 1 1 0 0 0 0 1 0\n",
      " 0 0 1 0 0 1 1 0 0 0 1 1 1 0 1 1 0 1 1 1 1 0 0 0 0 0 1 0 1 1 0 0 1 0 1 0 1\n",
      " 0 1 1 0 0 1 1 0 1 1 1 1 1 1 0 1 0 1 0 0 0 1 0 0 0 1 1 0 1 0 0 0 1 0 0 1 0\n",
      " 0 0 1 1 1 0 0]\n"
     ]
    }
   ],
   "source": [
    "# criando baseline\n",
    "baseline_preds = np.random.choice([0,1], size = len(test_labels))\n",
    "\n",
    "print(baseline_preds)"
   ]
  },
  {
   "cell_type": "markdown",
   "metadata": {
    "id": "WeZ5topCSLxn"
   },
   "source": [
    "O sklearn tem várias métricas implementadas! :D\n",
    "\n",
    "Vamos testar essas metricas? "
   ]
  },
  {
   "cell_type": "code",
   "execution_count": 13,
   "metadata": {
    "colab": {
     "base_uri": "https://localhost:8080/",
     "height": 374
    },
    "id": "6Aobv8rd8N9x",
    "outputId": "18865e77-17e0-4a2f-af9e-75bab8cd4fe2"
   },
   "outputs": [
    {
     "name": "stdout",
     "output_type": "stream",
     "text": [
      "Matriz de Confusão\n",
      " [[67 56]\n",
      " [30 39]]\n",
      "\n",
      "Acurácia\n",
      " 0.5520833333333334\n",
      "\n",
      "Acurácia Balanceada por classe\n",
      " 0.5549664192294097\n",
      "\n",
      "Precision\n",
      " 0.4105263157894737\n",
      "\n",
      "Recall\n",
      " 0.5652173913043478\n",
      "\n",
      "F1\n",
      " 0.47560975609756095\n",
      "\n",
      "AUCROC\n",
      " 0.5549664192294096\n"
     ]
    }
   ],
   "source": [
    "# importar biblioteca para calculo de métricas\n",
    "from sklearn import metrics  \n",
    "\n",
    "# calculando medidas de erro\n",
    "# essas medidas são calculadas a partir da comparação com o valor real do nosso conjunto de teste\n",
    "print('Matriz de Confusão\\n', metrics.confusion_matrix(test_labels, baseline_preds)) \n",
    "print('\\nAcurácia\\n', metrics.accuracy_score(test_labels, baseline_preds)) \n",
    "print('\\nAcurácia Balanceada por classe\\n', metrics.balanced_accuracy_score(test_labels, baseline_preds)) \n",
    "print('\\nPrecision\\n', metrics.precision_score(test_labels, baseline_preds)) \n",
    "print('\\nRecall\\n', metrics.recall_score(test_labels, baseline_preds)) \n",
    "print('\\nF1\\n', metrics.f1_score(test_labels, baseline_preds)) \n",
    "\n",
    "print('\\nAUCROC\\n', metrics.roc_auc_score(test_labels, baseline_preds))"
   ]
  },
  {
   "cell_type": "markdown",
   "metadata": {
    "id": "AAwsSBcdVoku"
   },
   "source": [
    "O sklearn oferece uma função que nos dá um resumo das principais métricas de classificação. \n",
    "Podemos usar essa função no lugar de printar as métricas separadamente. \n",
    "\n",
    "Vamos testar?"
   ]
  },
  {
   "cell_type": "code",
   "execution_count": 14,
   "metadata": {
    "colab": {
     "base_uri": "https://localhost:8080/",
     "height": 204
    },
    "id": "vKXqYbwLUkP_",
    "outputId": "129fb887-1add-4f08-989e-cd3d1bd709f5"
   },
   "outputs": [
    {
     "name": "stdout",
     "output_type": "stream",
     "text": [
      "\n",
      "Classification Report\n",
      "               precision    recall  f1-score   support\n",
      "\n",
      "           0       0.69      0.54      0.61       123\n",
      "           1       0.41      0.57      0.48        69\n",
      "\n",
      "   micro avg       0.55      0.55      0.55       192\n",
      "   macro avg       0.55      0.55      0.54       192\n",
      "weighted avg       0.59      0.55      0.56       192\n",
      "\n"
     ]
    }
   ],
   "source": [
    "print('\\nClassification Report\\n', metrics.classification_report(test_labels, baseline_preds)) "
   ]
  },
  {
   "cell_type": "markdown",
   "metadata": {
    "id": "1NH3QMlf8N91"
   },
   "source": [
    "Agora que avaliamos nosso baseline e identificamos o erro desse modelo, podemos criar outros modelos de classificação e comparar os resultados encontrados!\n",
    "\n",
    "Dica: Se não conseguirmos um erro menor do que o baseline, talvez precisemos repensar nossa abordagem."
   ]
  },
  {
   "cell_type": "markdown",
   "metadata": {
    "id": "nstvyr-hdG1S"
   },
   "source": [
    "Vamos dar uma olhada como ficou o nosso baseline em relação as amostras de teste?\n",
    "\n",
    "*Não se preocupe em compreender o que foi realizado na célula a seguir, todas as manipulações foram realizadas no único intuito de gerar o gráfico.*"
   ]
  },
  {
   "cell_type": "code",
   "execution_count": 15,
   "metadata": {
    "colab": {
     "base_uri": "https://localhost:8080/",
     "height": 297
    },
    "id": "eqGMncqndAaJ",
    "outputId": "8f6f557c-1fd2-4dff-e5ab-98179772fbdc"
   },
   "outputs": [
    {
     "data": {
      "image/png": "[encoded data removed]",
      "text/plain": [
       "<Figure size 432x288 with 1 Axes>"
      ]
     },
     "metadata": {
      "needs_background": "light"
     },
     "output_type": "display_data"
    }
   ],
   "source": [
    "#criando labels e os valores armazenados nas barras\n",
    "labels = ['Tested_negatives', 'Tested_positives']\n",
    "count_test = [(test_labels == 0).sum(), (test_labels == 1).sum()]\n",
    "count_baseline = [(baseline_preds == 0).sum(), (baseline_preds == 1).sum()]\n",
    "\n",
    "#criando as barras\n",
    "x = np.arange(len(labels))  # the label locations\n",
    "width = 0.3  # the width of the bars\n",
    "\n",
    "#criancdo os plots\n",
    "fig, ax = plt.subplots()\n",
    "rects1 = ax.bar(x - width/2, count_test, width, label='Real Values')\n",
    "rects2 = ax.bar(x + width/2, count_baseline, width, label='Baseline Values')\n",
    "\n",
    "# Add some text for labels, title and custom x-axis tick labels, etc.\n",
    "ax.set_ylabel('Instances')\n",
    "ax.set_title('Real x Baseline')\n",
    "ax.set_xticks(x)\n",
    "ax.set_xticklabels(labels)\n",
    "ax.legend()\n",
    "\n",
    "\n",
    "def autolabel(rects):\n",
    "    \"\"\"Attach a text label above each bar in *rects*, displaying its height.\"\"\"\n",
    "    for rect in rects:\n",
    "        height = rect.get_height()\n",
    "        ax.annotate('{}'.format(height),\n",
    "                    xy=(rect.get_x() + rect.get_width() / 2, height),\n",
    "                    xytext=(0, 3),  # 3 points vertical offset\n",
    "                    textcoords=\"offset points\",\n",
    "                    ha='center', va='bottom')\n",
    "\n",
    "#plotando o grafico de barras agrupadas\n",
    "autolabel(rects1)\n",
    "autolabel(rects2)\n",
    "fig.tight_layout()\n",
    "\n",
    "plt.show()"
   ]
  },
  {
   "cell_type": "markdown",
   "metadata": {
    "id": "p_6LHRU0WoaJ"
   },
   "source": [
    "# KNN"
   ]
  },
  {
   "cell_type": "markdown",
   "metadata": {
    "id": "uem0TvVMWw-X"
   },
   "source": [
    "Vamos aplicar o primeiro modelo de classificação: o k-nearest neighbors!"
   ]
  },
  {
   "cell_type": "code",
   "execution_count": 16,
   "metadata": {
    "id": "ECIYz7rg8N92"
   },
   "outputs": [],
   "source": [
    "# importar o modelo de KNN\n",
    "from sklearn.neighbors import KNeighborsClassifier \n",
    "\n",
    "# treinando o modelo no conjunto de dados de treino\n",
    "classifier = KNeighborsClassifier().fit(train_data, train_labels);"
   ]
  },
  {
   "cell_type": "code",
   "execution_count": 17,
   "metadata": {
    "colab": {
     "base_uri": "https://localhost:8080/",
     "height": 359
    },
    "id": "E-2XWEDe8N98",
    "outputId": "700e21f1-f4b6-4d60-c4c9-b4aae63d533b"
   },
   "outputs": [
    {
     "data": {
      "text/html": [
       "<div>\n",
       "<style scoped>\n",
       "    .dataframe tbody tr th:only-of-type {\n",
       "        vertical-align: middle;\n",
       "    }\n",
       "\n",
       "    .dataframe tbody tr th {\n",
       "        vertical-align: top;\n",
       "    }\n",
       "\n",
       "    .dataframe thead th {\n",
       "        text-align: right;\n",
       "    }\n",
       "</style>\n",
       "<table border=\"1\" class=\"dataframe\">\n",
       "  <thead>\n",
       "    <tr style=\"text-align: right;\">\n",
       "      <th></th>\n",
       "      <th>Real</th>\n",
       "      <th>Previsto</th>\n",
       "    </tr>\n",
       "  </thead>\n",
       "  <tbody>\n",
       "    <tr>\n",
       "      <th>0</th>\n",
       "      <td>0</td>\n",
       "      <td>1</td>\n",
       "    </tr>\n",
       "    <tr>\n",
       "      <th>1</th>\n",
       "      <td>0</td>\n",
       "      <td>0</td>\n",
       "    </tr>\n",
       "    <tr>\n",
       "      <th>2</th>\n",
       "      <td>0</td>\n",
       "      <td>0</td>\n",
       "    </tr>\n",
       "    <tr>\n",
       "      <th>3</th>\n",
       "      <td>0</td>\n",
       "      <td>1</td>\n",
       "    </tr>\n",
       "    <tr>\n",
       "      <th>4</th>\n",
       "      <td>0</td>\n",
       "      <td>0</td>\n",
       "    </tr>\n",
       "    <tr>\n",
       "      <th>5</th>\n",
       "      <td>0</td>\n",
       "      <td>1</td>\n",
       "    </tr>\n",
       "    <tr>\n",
       "      <th>6</th>\n",
       "      <td>0</td>\n",
       "      <td>0</td>\n",
       "    </tr>\n",
       "    <tr>\n",
       "      <th>7</th>\n",
       "      <td>0</td>\n",
       "      <td>0</td>\n",
       "    </tr>\n",
       "    <tr>\n",
       "      <th>8</th>\n",
       "      <td>0</td>\n",
       "      <td>1</td>\n",
       "    </tr>\n",
       "    <tr>\n",
       "      <th>9</th>\n",
       "      <td>0</td>\n",
       "      <td>1</td>\n",
       "    </tr>\n",
       "  </tbody>\n",
       "</table>\n",
       "</div>"
      ],
      "text/plain": [
       "   Real  Previsto\n",
       "0     0         1\n",
       "1     0         0\n",
       "2     0         0\n",
       "3     0         1\n",
       "4     0         0\n",
       "5     0         1\n",
       "6     0         0\n",
       "7     0         0\n",
       "8     0         1\n",
       "9     0         1"
      ]
     },
     "execution_count": 17,
     "metadata": {},
     "output_type": "execute_result"
    }
   ],
   "source": [
    "# aplicando o modelo treinado para a previsão da temperatura \n",
    "#em todo o conjunto de teste\n",
    "predictions1_labels = classifier.predict(test_data)\n",
    "\n",
    "# Exibindo dataframe com valores 10 reais e suas respectivas previsões\n",
    "p = pd.DataFrame({'Real': test_labels, 'Previsto': predictions1_labels})  \n",
    "p.head(10)"
   ]
  },
  {
   "cell_type": "markdown",
   "metadata": {
    "id": "M_rj1T77X6Fy"
   },
   "source": [
    "Agora que criamos o modelo do knn e aplicamos o modelo criado ao conjunto de teste, podemos então avaliar o modelo gerado. "
   ]
  },
  {
   "cell_type": "code",
   "execution_count": 18,
   "metadata": {
    "colab": {
     "base_uri": "https://localhost:8080/",
     "height": 374
    },
    "id": "UavyKXJ88N-A",
    "outputId": "a71f45cb-38b1-4f3e-93e3-8b71a2a37d92"
   },
   "outputs": [
    {
     "name": "stdout",
     "output_type": "stream",
     "text": [
      "Matriz de Confusão\n",
      " [[88 35]\n",
      " [31 38]]\n",
      "\n",
      "Acurácia\n",
      " 0.65625\n",
      "\n",
      "Acurácia Balanceada por classe\n",
      " 0.6330858960763521\n",
      "\n",
      "Precision\n",
      " 0.5205479452054794\n",
      "\n",
      "Recall\n",
      " 0.5507246376811594\n",
      "\n",
      "F1\n",
      " 0.5352112676056338\n",
      "\n",
      "AUCROC\n",
      " 0.633085896076352\n"
     ]
    }
   ],
   "source": [
    "#avaliando o modelo\n",
    "print('Matriz de Confusão\\n', metrics.confusion_matrix(test_labels, predictions1_labels)) \n",
    "print('\\nAcurácia\\n', metrics.accuracy_score(test_labels, predictions1_labels)) \n",
    "print('\\nAcurácia Balanceada por classe\\n', metrics.balanced_accuracy_score(test_labels, predictions1_labels)) \n",
    "print('\\nPrecision\\n', metrics.precision_score(test_labels, predictions1_labels)) \n",
    "print('\\nRecall\\n', metrics.recall_score(test_labels, predictions1_labels)) \n",
    "print('\\nF1\\n', metrics.f1_score(test_labels, predictions1_labels)) \n",
    "\n",
    "print('\\nAUCROC\\n', metrics.roc_auc_score(test_labels, predictions1_labels))"
   ]
  },
  {
   "cell_type": "markdown",
   "metadata": {
    "id": "KQ2Qg7WPfaAi"
   },
   "source": [
    "Resuminho:"
   ]
  },
  {
   "cell_type": "code",
   "execution_count": 19,
   "metadata": {
    "colab": {
     "base_uri": "https://localhost:8080/",
     "height": 204
    },
    "id": "gBnEcrSbfeV3",
    "outputId": "2dc5a860-e0cd-4aa2-860e-b256bdb854a3"
   },
   "outputs": [
    {
     "name": "stdout",
     "output_type": "stream",
     "text": [
      "\n",
      "Classification Report\n",
      "               precision    recall  f1-score   support\n",
      "\n",
      "           0       0.74      0.72      0.73       123\n",
      "           1       0.52      0.55      0.54        69\n",
      "\n",
      "   micro avg       0.66      0.66      0.66       192\n",
      "   macro avg       0.63      0.63      0.63       192\n",
      "weighted avg       0.66      0.66      0.66       192\n",
      "\n"
     ]
    }
   ],
   "source": [
    "print('\\nClassification Report\\n', metrics.classification_report(test_labels, predictions1_labels)) "
   ]
  },
  {
   "cell_type": "markdown",
   "metadata": {
    "id": "7A0leRBV8N-E"
   },
   "source": [
    "O knn ja encontrou um erro bem menor do que o encontrado pelo nosso baseline! \n",
    "Entretanto, as medidas ainda estão proximas do resultado de um modelo aleatorio. \n",
    "\n",
    "Vamos dar uma olhada como ficou o knn em relação as amostras de teste?\n",
    "\n",
    "*Novamente, não é preciso se preocupar com o código da célula abaixo. *"
   ]
  },
  {
   "cell_type": "code",
   "execution_count": 20,
   "metadata": {
    "colab": {
     "base_uri": "https://localhost:8080/",
     "height": 297
    },
    "id": "8C1PMnjA8N-F",
    "outputId": "4875a380-8ea6-4ea7-afd7-22d68100c501"
   },
   "outputs": [
    {
     "data": {
      "image/png": "[encoded data removed]",
      "text/plain": [
       "<Figure size 432x288 with 1 Axes>"
      ]
     },
     "metadata": {
      "needs_background": "light"
     },
     "output_type": "display_data"
    }
   ],
   "source": [
    "#criando labels e os valores armazenados nas barras\n",
    "labels = ['Tested_negatives', 'Tested_positives']\n",
    "count_test = [(test_labels == 0).sum(), (test_labels == 1).sum()]\n",
    "count_knn = [(predictions1_labels == 0).sum(), (predictions1_labels == 1).sum()]\n",
    "\n",
    "#criando as barras\n",
    "x = np.arange(len(labels))  # the label locations\n",
    "width = 0.3  # the width of the bars\n",
    "\n",
    "#criancdo os plots\n",
    "fig, ax = plt.subplots()\n",
    "rects1 = ax.bar(x - width/2, count_test, width, label='Real Values')\n",
    "rects2 = ax.bar(x + width/2, count_knn, width, label='KNN Values')\n",
    "\n",
    "# Add some text for labels, title and custom x-axis tick labels, etc.\n",
    "ax.set_ylabel('Instances')\n",
    "ax.set_title('Real x KNN')\n",
    "ax.set_xticks(x)\n",
    "ax.set_xticklabels(labels)\n",
    "ax.legend()\n",
    "\n",
    "\n",
    "def autolabel(rects):\n",
    "    \"\"\"Attach a text label above each bar in *rects*, displaying its height.\"\"\"\n",
    "    for rect in rects:\n",
    "        height = rect.get_height()\n",
    "        ax.annotate('{}'.format(height),\n",
    "                    xy=(rect.get_x() + rect.get_width() / 2, height),\n",
    "                    xytext=(0, 3),  # 3 points vertical offset\n",
    "                    textcoords=\"offset points\",\n",
    "                    ha='center', va='bottom')\n",
    "\n",
    "#plotando o grafico de barras agrupadas\n",
    "autolabel(rects1)\n",
    "autolabel(rects2)\n",
    "fig.tight_layout()\n",
    "\n",
    "plt.show()"
   ]
  },
  {
   "cell_type": "markdown",
   "metadata": {
    "id": "aJXB1tN4ZSOI"
   },
   "source": [
    "# Support Vector Machine SVM"
   ]
  },
  {
   "cell_type": "markdown",
   "metadata": {
    "id": "mjfmk5HkZgjj"
   },
   "source": [
    "Vamos dar uma olhada agora no comportamento do SVM"
   ]
  },
  {
   "cell_type": "code",
   "execution_count": 21,
   "metadata": {
    "id": "vE-1qSaUZsA9"
   },
   "outputs": [
    {
     "name": "stderr",
     "output_type": "stream",
     "text": [
      "D:\\Users\\elain\\Anaconda3\\lib\\site-packages\\sklearn\\svm\\base.py:196: FutureWarning: The default value of gamma will change from 'auto' to 'scale' in version 0.22 to account better for unscaled features. Set gamma explicitly to 'auto' or 'scale' to avoid this warning.\n",
      "  \"avoid this warning.\", FutureWarning)\n"
     ]
    },
    {
     "data": {
      "text/plain": [
       "SVC(C=1.0, cache_size=200, class_weight=None, coef0=0.0,\n",
       "  decision_function_shape='ovr', degree=3, gamma='auto_deprecated',\n",
       "  kernel='rbf', max_iter=-1, probability=False, random_state=None,\n",
       "  shrinking=True, tol=0.001, verbose=False)"
      ]
     },
     "execution_count": 21,
     "metadata": {},
     "output_type": "execute_result"
    }
   ],
   "source": [
    "#importar o modelo SVM\n",
    "from sklearn.svm import SVC\n",
    "\n",
    "# instanciacao e determinacao dos hiperparâmetros do SVM: tipo de kernel\n",
    "classifier = SVC(kernel='rbf')\n",
    "\n",
    "# treinando o SVM\n",
    "classifier.fit(train_data,train_labels)"
   ]
  },
  {
   "cell_type": "code",
   "execution_count": 24,
   "metadata": {
    "colab": {
     "base_uri": "https://localhost:8080/",
     "height": 359
    },
    "id": "sEqrz0n9Zr5K",
    "outputId": "30a02af0-622c-40e1-8564-331bbce290b8"
   },
   "outputs": [
    {
     "data": {
      "text/html": [
       "<div>\n",
       "<style scoped>\n",
       "    .dataframe tbody tr th:only-of-type {\n",
       "        vertical-align: middle;\n",
       "    }\n",
       "\n",
       "    .dataframe tbody tr th {\n",
       "        vertical-align: top;\n",
       "    }\n",
       "\n",
       "    .dataframe thead th {\n",
       "        text-align: right;\n",
       "    }\n",
       "</style>\n",
       "<table border=\"1\" class=\"dataframe\">\n",
       "  <thead>\n",
       "    <tr style=\"text-align: right;\">\n",
       "      <th></th>\n",
       "      <th>Real</th>\n",
       "      <th>Previsto</th>\n",
       "    </tr>\n",
       "  </thead>\n",
       "  <tbody>\n",
       "    <tr>\n",
       "      <th>0</th>\n",
       "      <td>0</td>\n",
       "      <td>0</td>\n",
       "    </tr>\n",
       "    <tr>\n",
       "      <th>1</th>\n",
       "      <td>0</td>\n",
       "      <td>0</td>\n",
       "    </tr>\n",
       "    <tr>\n",
       "      <th>2</th>\n",
       "      <td>0</td>\n",
       "      <td>0</td>\n",
       "    </tr>\n",
       "    <tr>\n",
       "      <th>3</th>\n",
       "      <td>0</td>\n",
       "      <td>0</td>\n",
       "    </tr>\n",
       "    <tr>\n",
       "      <th>4</th>\n",
       "      <td>0</td>\n",
       "      <td>0</td>\n",
       "    </tr>\n",
       "    <tr>\n",
       "      <th>5</th>\n",
       "      <td>0</td>\n",
       "      <td>0</td>\n",
       "    </tr>\n",
       "    <tr>\n",
       "      <th>6</th>\n",
       "      <td>0</td>\n",
       "      <td>0</td>\n",
       "    </tr>\n",
       "    <tr>\n",
       "      <th>7</th>\n",
       "      <td>0</td>\n",
       "      <td>0</td>\n",
       "    </tr>\n",
       "    <tr>\n",
       "      <th>8</th>\n",
       "      <td>0</td>\n",
       "      <td>0</td>\n",
       "    </tr>\n",
       "    <tr>\n",
       "      <th>9</th>\n",
       "      <td>0</td>\n",
       "      <td>0</td>\n",
       "    </tr>\n",
       "  </tbody>\n",
       "</table>\n",
       "</div>"
      ],
      "text/plain": [
       "   Real  Previsto\n",
       "0     0         0\n",
       "1     0         0\n",
       "2     0         0\n",
       "3     0         0\n",
       "4     0         0\n",
       "5     0         0\n",
       "6     0         0\n",
       "7     0         0\n",
       "8     0         0\n",
       "9     0         0"
      ]
     },
     "execution_count": 24,
     "metadata": {},
     "output_type": "execute_result"
    }
   ],
   "source": [
    "# aplicando o modelo treinado para a previsão da temperatura \n",
    "#em todo o conjunto de teste\n",
    "predictions2_labels = classifier.predict(test_data)\n",
    "\n",
    "# Exibindo dataframe com valores 10 reais e suas respectivas previsões\n",
    "p = pd.DataFrame({'Real': test_labels, 'Previsto': predictions2_labels})  \n",
    "p.head(10)"
   ]
  },
  {
   "cell_type": "code",
   "execution_count": 25,
   "metadata": {
    "colab": {
     "base_uri": "https://localhost:8080/",
     "height": 374
    },
    "id": "sAkezhEKZrwC",
    "outputId": "694e2026-c654-4d15-9ed7-544234d5c301"
   },
   "outputs": [
    {
     "name": "stdout",
     "output_type": "stream",
     "text": [
      "Matriz de Confusão\n",
      " [[123   0]\n",
      " [ 69   0]]\n",
      "\n",
      "Acurácia\n",
      " 0.640625\n",
      "\n",
      "Acurácia Balanceada por classe\n",
      " 0.5\n",
      "\n",
      "Precision\n",
      " 0.0\n",
      "\n",
      "Recall\n",
      " 0.0\n",
      "\n",
      "F1\n",
      " 0.0\n",
      "\n",
      "AUCROC\n",
      " 0.5\n"
     ]
    },
    {
     "name": "stderr",
     "output_type": "stream",
     "text": [
      "D:\\Users\\elain\\Anaconda3\\lib\\site-packages\\sklearn\\metrics\\classification.py:1143: UndefinedMetricWarning: Precision is ill-defined and being set to 0.0 due to no predicted samples.\n",
      "  'precision', 'predicted', average, warn_for)\n",
      "D:\\Users\\elain\\Anaconda3\\lib\\site-packages\\sklearn\\metrics\\classification.py:1143: UndefinedMetricWarning: F-score is ill-defined and being set to 0.0 due to no predicted samples.\n",
      "  'precision', 'predicted', average, warn_for)\n"
     ]
    }
   ],
   "source": [
    "#avaliando o modelo \n",
    "print('Matriz de Confusão\\n', metrics.confusion_matrix(test_labels, predictions2_labels)) \n",
    "print('\\nAcurácia\\n', metrics.accuracy_score(test_labels, predictions2_labels)) \n",
    "print('\\nAcurácia Balanceada por classe\\n', metrics.balanced_accuracy_score(test_labels, predictions2_labels)) \n",
    "print('\\nPrecision\\n', metrics.precision_score(test_labels, predictions2_labels)) \n",
    "print('\\nRecall\\n', metrics.recall_score(test_labels, predictions2_labels)) \n",
    "print('\\nF1\\n', metrics.f1_score(test_labels, predictions2_labels)) \n",
    "\n",
    "print('\\nAUCROC\\n', metrics.roc_auc_score(test_labels, predictions2_labels))"
   ]
  },
  {
   "cell_type": "markdown",
   "metadata": {
    "id": "tWz5vVEkiQr2"
   },
   "source": [
    "Resuminho..."
   ]
  },
  {
   "cell_type": "code",
   "execution_count": 26,
   "metadata": {
    "colab": {
     "base_uri": "https://localhost:8080/",
     "height": 204
    },
    "id": "IFGJLVR0iPtf",
    "outputId": "451c580c-41f2-4a90-c902-d802fd4c29e9"
   },
   "outputs": [
    {
     "name": "stdout",
     "output_type": "stream",
     "text": [
      "\n",
      "Classification Report\n",
      "               precision    recall  f1-score   support\n",
      "\n",
      "           0       0.64      1.00      0.78       123\n",
      "           1       0.00      0.00      0.00        69\n",
      "\n",
      "   micro avg       0.64      0.64      0.64       192\n",
      "   macro avg       0.32      0.50      0.39       192\n",
      "weighted avg       0.41      0.64      0.50       192\n",
      "\n"
     ]
    },
    {
     "name": "stderr",
     "output_type": "stream",
     "text": [
      "D:\\Users\\elain\\Anaconda3\\lib\\site-packages\\sklearn\\metrics\\classification.py:1143: UndefinedMetricWarning: Precision and F-score are ill-defined and being set to 0.0 in labels with no predicted samples.\n",
      "  'precision', 'predicted', average, warn_for)\n"
     ]
    }
   ],
   "source": [
    "print('\\nClassification Report\\n', metrics.classification_report(test_labels, predictions2_labels)) "
   ]
  },
  {
   "cell_type": "markdown",
   "metadata": {
    "id": "GlmZZD4EbOmY"
   },
   "source": [
    "Vamos olhar como ficou o modelo? :)\n",
    "\n",
    "*Novamente, não precisa se preocupar com o código abaixo.*"
   ]
  },
  {
   "cell_type": "code",
   "execution_count": 27,
   "metadata": {
    "colab": {
     "base_uri": "https://localhost:8080/",
     "height": 297
    },
    "id": "hzlc5wcha-a7",
    "outputId": "5b655f80-82f6-4c0d-8206-492371681856"
   },
   "outputs": [
    {
     "data": {
      "image/png": "[encoded data removed]",
      "text/plain": [
       "<Figure size 432x288 with 1 Axes>"
      ]
     },
     "metadata": {
      "needs_background": "light"
     },
     "output_type": "display_data"
    }
   ],
   "source": [
    "#criando labels e os valores armazenados nas barras\n",
    "labels = ['Tested_negatives', 'Tested_positives']\n",
    "count_test = [(test_labels == 0).sum(), (test_labels == 1).sum()]\n",
    "count_svm = [(predictions2_labels == 0).sum(), (predictions2_labels == 1).sum()]\n",
    "\n",
    "#criando as barras\n",
    "x = np.arange(len(labels))  # the label locations\n",
    "width = 0.3  # the width of the bars\n",
    "\n",
    "#criancdo os plots\n",
    "fig, ax = plt.subplots()\n",
    "rects1 = ax.bar(x - width/2, count_test, width, label='Real Values')\n",
    "rects2 = ax.bar(x + width/2, count_svm, width, label='SVM Values')\n",
    "\n",
    "# Add some text for labels, title and custom x-axis tick labels, etc.\n",
    "ax.set_ylabel('Instances')\n",
    "ax.set_title('Real x SVM')\n",
    "ax.set_xticks(x)\n",
    "ax.set_xticklabels(labels)\n",
    "ax.legend()\n",
    "\n",
    "\n",
    "def autolabel(rects):\n",
    "    \"\"\"Attach a text label above each bar in *rects*, displaying its height.\"\"\"\n",
    "    for rect in rects:\n",
    "        height = rect.get_height()\n",
    "        ax.annotate('{}'.format(height),\n",
    "                    xy=(rect.get_x() + rect.get_width() / 2, height),\n",
    "                    xytext=(0, 3),  # 3 points vertical offset\n",
    "                    textcoords=\"offset points\",\n",
    "                    ha='center', va='bottom')\n",
    "\n",
    "#plotando o grafico de barras agrupadas\n",
    "autolabel(rects1)\n",
    "autolabel(rects2)\n",
    "fig.tight_layout()\n",
    "\n",
    "plt.show()"
   ]
  },
  {
   "cell_type": "markdown",
   "metadata": {
    "id": "MglFMlLLbggA"
   },
   "source": [
    "# Random Forest Classifiers\n"
   ]
  },
  {
   "cell_type": "markdown",
   "metadata": {
    "id": "0qjPEqNfbmtk"
   },
   "source": [
    "Vamos agora modelar o nosso problema utilizando o Random Forest Classifier!\n",
    "\n",
    "Esse modelo é um dos mais utilizados tanto na sua versão de regressor quanto para sua versão de classificador e, em geral, apresenta otimos resultados!"
   ]
  },
  {
   "cell_type": "code",
   "execution_count": 28,
   "metadata": {
    "id": "7LrKgJhb8N-K"
   },
   "outputs": [],
   "source": [
    "# importar o modelo Random Forest Regressor\n",
    "from sklearn.ensemble import RandomForestClassifier\n",
    "\n",
    "# treinando o modelo \n",
    "classifier = RandomForestClassifier(n_estimators= 10, random_state=42).fit(train_data, train_labels);"
   ]
  },
  {
   "cell_type": "code",
   "execution_count": 29,
   "metadata": {
    "colab": {
     "base_uri": "https://localhost:8080/",
     "height": 359
    },
    "id": "o86GOgTY8N-P",
    "outputId": "ea056af6-67e2-4139-cd5b-6184162ccd85"
   },
   "outputs": [
    {
     "data": {
      "text/html": [
       "<div>\n",
       "<style scoped>\n",
       "    .dataframe tbody tr th:only-of-type {\n",
       "        vertical-align: middle;\n",
       "    }\n",
       "\n",
       "    .dataframe tbody tr th {\n",
       "        vertical-align: top;\n",
       "    }\n",
       "\n",
       "    .dataframe thead th {\n",
       "        text-align: right;\n",
       "    }\n",
       "</style>\n",
       "<table border=\"1\" class=\"dataframe\">\n",
       "  <thead>\n",
       "    <tr style=\"text-align: right;\">\n",
       "      <th></th>\n",
       "      <th>Real</th>\n",
       "      <th>Previsto</th>\n",
       "    </tr>\n",
       "  </thead>\n",
       "  <tbody>\n",
       "    <tr>\n",
       "      <th>0</th>\n",
       "      <td>0</td>\n",
       "      <td>0</td>\n",
       "    </tr>\n",
       "    <tr>\n",
       "      <th>1</th>\n",
       "      <td>0</td>\n",
       "      <td>0</td>\n",
       "    </tr>\n",
       "    <tr>\n",
       "      <th>2</th>\n",
       "      <td>0</td>\n",
       "      <td>0</td>\n",
       "    </tr>\n",
       "    <tr>\n",
       "      <th>3</th>\n",
       "      <td>0</td>\n",
       "      <td>0</td>\n",
       "    </tr>\n",
       "    <tr>\n",
       "      <th>4</th>\n",
       "      <td>0</td>\n",
       "      <td>0</td>\n",
       "    </tr>\n",
       "    <tr>\n",
       "      <th>5</th>\n",
       "      <td>0</td>\n",
       "      <td>1</td>\n",
       "    </tr>\n",
       "    <tr>\n",
       "      <th>6</th>\n",
       "      <td>0</td>\n",
       "      <td>0</td>\n",
       "    </tr>\n",
       "    <tr>\n",
       "      <th>7</th>\n",
       "      <td>0</td>\n",
       "      <td>1</td>\n",
       "    </tr>\n",
       "    <tr>\n",
       "      <th>8</th>\n",
       "      <td>0</td>\n",
       "      <td>1</td>\n",
       "    </tr>\n",
       "    <tr>\n",
       "      <th>9</th>\n",
       "      <td>0</td>\n",
       "      <td>1</td>\n",
       "    </tr>\n",
       "  </tbody>\n",
       "</table>\n",
       "</div>"
      ],
      "text/plain": [
       "   Real  Previsto\n",
       "0     0         0\n",
       "1     0         0\n",
       "2     0         0\n",
       "3     0         0\n",
       "4     0         0\n",
       "5     0         1\n",
       "6     0         0\n",
       "7     0         1\n",
       "8     0         1\n",
       "9     0         1"
      ]
     },
     "execution_count": 29,
     "metadata": {},
     "output_type": "execute_result"
    }
   ],
   "source": [
    "# aplicando o modelo treinado para a previsão do resultado do teste\n",
    "predictions3_labels = classifier.predict(test_data)\n",
    "\n",
    "# Exibindo dataframe com valores 10 reais e suas respectivas previsões\n",
    "p = pd.DataFrame({'Real': test_labels, 'Previsto': predictions3_labels})  \n",
    "p.head(10)"
   ]
  },
  {
   "cell_type": "code",
   "execution_count": 30,
   "metadata": {
    "colab": {
     "base_uri": "https://localhost:8080/",
     "height": 374
    },
    "id": "j3XYU8C_clmb",
    "outputId": "fc766d78-e57e-4821-8fa7-2720706e7d54"
   },
   "outputs": [
    {
     "name": "stdout",
     "output_type": "stream",
     "text": [
      "Matriz de Confusão\n",
      " [[97 26]\n",
      " [24 45]]\n",
      "\n",
      "Acurácia\n",
      " 0.7395833333333334\n",
      "\n",
      "Acurácia Balanceada por classe\n",
      " 0.72039589961117\n",
      "\n",
      "Precision\n",
      " 0.6338028169014085\n",
      "\n",
      "Recall\n",
      " 0.6521739130434783\n",
      "\n",
      "F1\n",
      " 0.6428571428571428\n",
      "\n",
      "AUCROC\n",
      " 0.72039589961117\n"
     ]
    }
   ],
   "source": [
    "#avaliando o modelo\n",
    "print('Matriz de Confusão\\n', metrics.confusion_matrix(test_labels, predictions3_labels)) \n",
    "print('\\nAcurácia\\n', metrics.accuracy_score(test_labels, predictions3_labels)) \n",
    "print('\\nAcurácia Balanceada por classe\\n', metrics.balanced_accuracy_score(test_labels, predictions3_labels)) \n",
    "print('\\nPrecision\\n', metrics.precision_score(test_labels, predictions3_labels)) \n",
    "print('\\nRecall\\n', metrics.recall_score(test_labels, predictions3_labels)) \n",
    "print('\\nF1\\n', metrics.f1_score(test_labels, predictions3_labels)) \n",
    "\n",
    "print('\\nAUCROC\\n', metrics.roc_auc_score(test_labels, predictions3_labels))"
   ]
  },
  {
   "cell_type": "markdown",
   "metadata": {
    "id": "Ekq770pckaJp"
   },
   "source": [
    "Resuminho...\n",
    "\n"
   ]
  },
  {
   "cell_type": "code",
   "execution_count": 31,
   "metadata": {
    "colab": {
     "base_uri": "https://localhost:8080/",
     "height": 204
    },
    "id": "ie2ZqN7pka5m",
    "outputId": "2e429165-a7ab-4274-e25f-77c95a817301"
   },
   "outputs": [
    {
     "name": "stdout",
     "output_type": "stream",
     "text": [
      "\n",
      "Classification Report\n",
      "               precision    recall  f1-score   support\n",
      "\n",
      "           0       0.80      0.79      0.80       123\n",
      "           1       0.63      0.65      0.64        69\n",
      "\n",
      "   micro avg       0.74      0.74      0.74       192\n",
      "   macro avg       0.72      0.72      0.72       192\n",
      "weighted avg       0.74      0.74      0.74       192\n",
      "\n"
     ]
    }
   ],
   "source": [
    "print('\\nClassification Report\\n', metrics.classification_report(test_labels, predictions3_labels)) "
   ]
  },
  {
   "cell_type": "markdown",
   "metadata": {
    "id": "C2q6M07mc1Sm"
   },
   "source": [
    "Vamos olhar como ficou o modelo? :)\n",
    "\n",
    "*Novamente, não precisa se preocupar com o código abaixo.*"
   ]
  },
  {
   "cell_type": "code",
   "execution_count": 32,
   "metadata": {
    "colab": {
     "base_uri": "https://localhost:8080/",
     "height": 297
    },
    "id": "dVZgXwW18N-W",
    "outputId": "36aee095-00bf-49a9-ac4d-98f4239e27b9"
   },
   "outputs": [
    {
     "data": {
      "image/png": "[encoded data removed]",
      "text/plain": [
       "<Figure size 432x288 with 1 Axes>"
      ]
     },
     "metadata": {
      "needs_background": "light"
     },
     "output_type": "display_data"
    }
   ],
   "source": [
    "#criando labels e os valores armazenados nas barras\n",
    "labels = ['Tested_negatives', 'Tested_positives']\n",
    "count_test = [(test_labels == 0).sum(), (test_labels == 1).sum()]\n",
    "count_rf = [(predictions3_labels == 0).sum(), (predictions3_labels == 1).sum()]\n",
    "\n",
    "#criando as barras\n",
    "x = np.arange(len(labels))  # the label locations\n",
    "width = 0.3  # the width of the bars\n",
    "\n",
    "#criancdo os plots\n",
    "fig, ax = plt.subplots()\n",
    "rects1 = ax.bar(x - width/2, count_test, width, label='Real Values')\n",
    "rects2 = ax.bar(x + width/2, count_rf, width, label='RF Values')\n",
    "\n",
    "# Add some text for labels, title and custom x-axis tick labels, etc.\n",
    "ax.set_ylabel('Instances')\n",
    "ax.set_title('Real x Random Forest')\n",
    "ax.set_xticks(x)\n",
    "ax.set_xticklabels(labels)\n",
    "ax.legend()\n",
    "\n",
    "\n",
    "def autolabel(rects):\n",
    "    \"\"\"Attach a text label above each bar in *rects*, displaying its height.\"\"\"\n",
    "    for rect in rects:\n",
    "        height = rect.get_height()\n",
    "        ax.annotate('{}'.format(height),\n",
    "                    xy=(rect.get_x() + rect.get_width() / 2, height),\n",
    "                    xytext=(0, 3),  # 3 points vertical offset\n",
    "                    textcoords=\"offset points\",\n",
    "                    ha='center', va='bottom')\n",
    "\n",
    "#plotando o grafico de barras agrupadas\n",
    "autolabel(rects1)\n",
    "autolabel(rects2)\n",
    "fig.tight_layout()\n",
    "\n",
    "plt.show()"
   ]
  },
  {
   "cell_type": "markdown",
   "metadata": {
    "id": "Ur8gD8oI8N-Y"
   },
   "source": [
    "Vamos agora comparar os resultados do 3 modelos de classificação e o nosso baseline?"
   ]
  },
  {
   "cell_type": "code",
   "execution_count": 35,
   "metadata": {
    "colab": {
     "base_uri": "https://localhost:8080/",
     "height": 221
    },
    "id": "AviWSy_sehpN",
    "outputId": "f5a9abfc-ad03-4f68-83d0-6f841de0057f"
   },
   "outputs": [
    {
     "name": "stdout",
     "output_type": "stream",
     "text": [
      "Erros do Baseline\n",
      "\n",
      "Classification Report\n",
      "               precision    recall  f1-score   support\n",
      "\n",
      "           0       0.69      0.54      0.61       123\n",
      "           1       0.41      0.57      0.48        69\n",
      "\n",
      "   micro avg       0.55      0.55      0.55       192\n",
      "   macro avg       0.55      0.55      0.54       192\n",
      "weighted avg       0.59      0.55      0.56       192\n",
      "\n"
     ]
    }
   ],
   "source": [
    "print('Erros do Baseline\\n')\n",
    "print('Classification Report\\n', metrics.classification_report(test_labels, baseline_preds)) \n"
   ]
  },
  {
   "cell_type": "code",
   "execution_count": 36,
   "metadata": {
    "colab": {
     "base_uri": "https://localhost:8080/",
     "height": 221
    },
    "id": "V6riPr0lehgA",
    "outputId": "a033ab0c-1242-4911-d98d-b1a90ae99a62"
   },
   "outputs": [
    {
     "name": "stdout",
     "output_type": "stream",
     "text": [
      "Erros do KNN\n",
      "\n",
      "Classification Report\n",
      "               precision    recall  f1-score   support\n",
      "\n",
      "           0       0.74      0.72      0.73       123\n",
      "           1       0.52      0.55      0.54        69\n",
      "\n",
      "   micro avg       0.66      0.66      0.66       192\n",
      "   macro avg       0.63      0.63      0.63       192\n",
      "weighted avg       0.66      0.66      0.66       192\n",
      "\n"
     ]
    }
   ],
   "source": [
    "print('Erros do KNN\\n')\n",
    "print('Classification Report\\n', metrics.classification_report(test_labels, predictions1_labels)) "
   ]
  },
  {
   "cell_type": "code",
   "execution_count": 37,
   "metadata": {
    "colab": {
     "base_uri": "https://localhost:8080/",
     "height": 204
    },
    "id": "faWz7JGvehT_",
    "outputId": "2ddbeff5-7a05-4e95-a873-f5a722e3f6dc"
   },
   "outputs": [
    {
     "name": "stdout",
     "output_type": "stream",
     "text": [
      "Erros do SVM\n",
      "Classification Report\n",
      "               precision    recall  f1-score   support\n",
      "\n",
      "           0       0.64      1.00      0.78       123\n",
      "           1       0.00      0.00      0.00        69\n",
      "\n",
      "   micro avg       0.64      0.64      0.64       192\n",
      "   macro avg       0.32      0.50      0.39       192\n",
      "weighted avg       0.41      0.64      0.50       192\n",
      "\n"
     ]
    },
    {
     "name": "stderr",
     "output_type": "stream",
     "text": [
      "D:\\Users\\elain\\Anaconda3\\lib\\site-packages\\sklearn\\metrics\\classification.py:1143: UndefinedMetricWarning: Precision and F-score are ill-defined and being set to 0.0 in labels with no predicted samples.\n",
      "  'precision', 'predicted', average, warn_for)\n"
     ]
    }
   ],
   "source": [
    "print('Erros do SVM')\n",
    "print('Classification Report\\n', metrics.classification_report(test_labels, predictions2_labels)) "
   ]
  },
  {
   "cell_type": "code",
   "execution_count": 38,
   "metadata": {
    "colab": {
     "base_uri": "https://localhost:8080/",
     "height": 204
    },
    "id": "S2hKjSOSd4sh",
    "outputId": "6c2e17cf-fb10-4dbb-b4b3-2ebb8d6b1853"
   },
   "outputs": [
    {
     "name": "stdout",
     "output_type": "stream",
     "text": [
      "Erros do Random Forest Classifier\n",
      "Classification Report\n",
      "               precision    recall  f1-score   support\n",
      "\n",
      "           0       0.80      0.79      0.80       123\n",
      "           1       0.63      0.65      0.64        69\n",
      "\n",
      "   micro avg       0.74      0.74      0.74       192\n",
      "   macro avg       0.72      0.72      0.72       192\n",
      "weighted avg       0.74      0.74      0.74       192\n",
      "\n"
     ]
    }
   ],
   "source": [
    "print('Erros do Random Forest Classifier')\n",
    "print('Classification Report\\n', metrics.classification_report(test_labels, predictions3_labels)) "
   ]
  },
  {
   "cell_type": "markdown",
   "metadata": {
    "id": "9Yvn2Ui9fDyK"
   },
   "source": [
    "# Na próxima aula vamos começar a falar sobre métricas de desempenho para clusterização.\n",
    "\n",
    "#Até lá!"
   ]
  }
 ],
 "metadata": {
  "colab": {
   "collapsed_sections": [],
   "name": "Hands-on Classificação.ipynb",
   "provenance": []
  },
  "kernelspec": {
   "display_name": "Python 3",
   "language": "python",
   "name": "python3"
  },
  "language_info": {
   "codemirror_mode": {
    "name": "ipython",
    "version": 3
   },
   "file_extension": ".py",
   "mimetype": "text/x-python",
   "name": "python",
   "nbconvert_exporter": "python",
   "pygments_lexer": "ipython3",
   "version": "3.7.3"
  }
 },
 "nbformat": 4,
 "nbformat_minor": 1
}
