{
 "cells": [
  {
   "cell_type": "code",
   "execution_count": 1,
   "metadata": {},
   "outputs": [],
   "source": [
    "import pandas as pd"
   ]
  },
  {
   "cell_type": "code",
   "execution_count": 2,
   "metadata": {},
   "outputs": [],
   "source": [
    "bikes = pd.read_csv('comp_bikes_mod.csv')"
   ]
  },
  {
   "cell_type": "code",
   "execution_count": 3,
   "metadata": {},
   "outputs": [
    {
     "data": {
      "text/plain": [
       "(17379, 17)"
      ]
     },
     "execution_count": 3,
     "metadata": {},
     "output_type": "execute_result"
    }
   ],
   "source": [
    "bikes.shape"
   ]
  },
  {
   "cell_type": "code",
   "execution_count": 4,
   "metadata": {},
   "outputs": [
    {
     "name": "stdout",
     "output_type": "stream",
     "text": [
      "<class 'pandas.core.frame.DataFrame'>\n",
      "RangeIndex: 17379 entries, 0 to 17378\n",
      "Data columns (total 17 columns):\n",
      "instant       15641 non-null float64\n",
      "dteday        15641 non-null object\n",
      "season        15641 non-null float64\n",
      "yr            15641 non-null float64\n",
      "mnth          15641 non-null float64\n",
      "hr            15641 non-null float64\n",
      "holiday       15641 non-null float64\n",
      "weekday       15641 non-null float64\n",
      "workingday    15641 non-null float64\n",
      "weathersit    15641 non-null float64\n",
      "temp          15641 non-null float64\n",
      "atemp         15641 non-null float64\n",
      "hum           15641 non-null float64\n",
      "windspeed     15641 non-null float64\n",
      "casual        15641 non-null float64\n",
      "registered    15641 non-null float64\n",
      "cnt           15641 non-null float64\n",
      "dtypes: float64(16), object(1)\n",
      "memory usage: 2.3+ MB\n"
     ]
    }
   ],
   "source": [
    "bikes.info()"
   ]
  },
  {
   "cell_type": "code",
   "execution_count": 6,
   "metadata": {},
   "outputs": [
    {
     "data": {
      "text/html": [
       "<div>\n",
       "<style scoped>\n",
       "    .dataframe tbody tr th:only-of-type {\n",
       "        vertical-align: middle;\n",
       "    }\n",
       "\n",
       "    .dataframe tbody tr th {\n",
       "        vertical-align: top;\n",
       "    }\n",
       "\n",
       "    .dataframe thead th {\n",
       "        text-align: right;\n",
       "    }\n",
       "</style>\n",
       "<table border=\"1\" class=\"dataframe\">\n",
       "  <thead>\n",
       "    <tr style=\"text-align: right;\">\n",
       "      <th></th>\n",
       "      <th>instant</th>\n",
       "      <th>season</th>\n",
       "      <th>yr</th>\n",
       "      <th>mnth</th>\n",
       "      <th>hr</th>\n",
       "      <th>holiday</th>\n",
       "      <th>weekday</th>\n",
       "      <th>workingday</th>\n",
       "      <th>weathersit</th>\n",
       "      <th>temp</th>\n",
       "      <th>atemp</th>\n",
       "      <th>hum</th>\n",
       "      <th>windspeed</th>\n",
       "      <th>casual</th>\n",
       "      <th>registered</th>\n",
       "      <th>cnt</th>\n",
       "    </tr>\n",
       "  </thead>\n",
       "  <tbody>\n",
       "    <tr>\n",
       "      <th>count</th>\n",
       "      <td>15641.000000</td>\n",
       "      <td>15641.000000</td>\n",
       "      <td>15641.000000</td>\n",
       "      <td>15641.000000</td>\n",
       "      <td>15641.000000</td>\n",
       "      <td>15641.000000</td>\n",
       "      <td>15641.000000</td>\n",
       "      <td>15641.000000</td>\n",
       "      <td>15641.000000</td>\n",
       "      <td>15641.000000</td>\n",
       "      <td>15641.000000</td>\n",
       "      <td>15641.000000</td>\n",
       "      <td>15641.000000</td>\n",
       "      <td>15641.000000</td>\n",
       "      <td>15641.000000</td>\n",
       "      <td>15641.000000</td>\n",
       "    </tr>\n",
       "    <tr>\n",
       "      <th>mean</th>\n",
       "      <td>8676.513842</td>\n",
       "      <td>2.503420</td>\n",
       "      <td>0.501758</td>\n",
       "      <td>6.536091</td>\n",
       "      <td>11.521258</td>\n",
       "      <td>0.028131</td>\n",
       "      <td>2.999233</td>\n",
       "      <td>0.682118</td>\n",
       "      <td>1.423950</td>\n",
       "      <td>0.497062</td>\n",
       "      <td>0.476281</td>\n",
       "      <td>0.627579</td>\n",
       "      <td>0.189247</td>\n",
       "      <td>35.583147</td>\n",
       "      <td>153.644972</td>\n",
       "      <td>189.919826</td>\n",
       "    </tr>\n",
       "    <tr>\n",
       "      <th>std</th>\n",
       "      <td>5010.773755</td>\n",
       "      <td>1.107636</td>\n",
       "      <td>0.500013</td>\n",
       "      <td>3.441490</td>\n",
       "      <td>6.917606</td>\n",
       "      <td>0.165353</td>\n",
       "      <td>2.005300</td>\n",
       "      <td>0.465668</td>\n",
       "      <td>0.638982</td>\n",
       "      <td>0.192451</td>\n",
       "      <td>0.172520</td>\n",
       "      <td>0.192893</td>\n",
       "      <td>0.122188</td>\n",
       "      <td>49.226455</td>\n",
       "      <td>151.750573</td>\n",
       "      <td>181.972508</td>\n",
       "    </tr>\n",
       "    <tr>\n",
       "      <th>min</th>\n",
       "      <td>1.000000</td>\n",
       "      <td>1.000000</td>\n",
       "      <td>0.000000</td>\n",
       "      <td>1.000000</td>\n",
       "      <td>0.000000</td>\n",
       "      <td>0.000000</td>\n",
       "      <td>0.000000</td>\n",
       "      <td>0.000000</td>\n",
       "      <td>1.000000</td>\n",
       "      <td>0.020000</td>\n",
       "      <td>0.000000</td>\n",
       "      <td>0.000000</td>\n",
       "      <td>0.000000</td>\n",
       "      <td>0.000000</td>\n",
       "      <td>0.000000</td>\n",
       "      <td>1.000000</td>\n",
       "    </tr>\n",
       "    <tr>\n",
       "      <th>25%</th>\n",
       "      <td>4335.000000</td>\n",
       "      <td>2.000000</td>\n",
       "      <td>0.000000</td>\n",
       "      <td>4.000000</td>\n",
       "      <td>6.000000</td>\n",
       "      <td>0.000000</td>\n",
       "      <td>1.000000</td>\n",
       "      <td>0.000000</td>\n",
       "      <td>1.000000</td>\n",
       "      <td>0.340000</td>\n",
       "      <td>0.333300</td>\n",
       "      <td>0.480000</td>\n",
       "      <td>0.104500</td>\n",
       "      <td>4.000000</td>\n",
       "      <td>34.000000</td>\n",
       "      <td>40.000000</td>\n",
       "    </tr>\n",
       "    <tr>\n",
       "      <th>50%</th>\n",
       "      <td>8678.000000</td>\n",
       "      <td>3.000000</td>\n",
       "      <td>1.000000</td>\n",
       "      <td>7.000000</td>\n",
       "      <td>12.000000</td>\n",
       "      <td>0.000000</td>\n",
       "      <td>3.000000</td>\n",
       "      <td>1.000000</td>\n",
       "      <td>1.000000</td>\n",
       "      <td>0.500000</td>\n",
       "      <td>0.484800</td>\n",
       "      <td>0.630000</td>\n",
       "      <td>0.164200</td>\n",
       "      <td>17.000000</td>\n",
       "      <td>115.000000</td>\n",
       "      <td>142.000000</td>\n",
       "    </tr>\n",
       "    <tr>\n",
       "      <th>75%</th>\n",
       "      <td>13005.000000</td>\n",
       "      <td>3.000000</td>\n",
       "      <td>1.000000</td>\n",
       "      <td>10.000000</td>\n",
       "      <td>17.000000</td>\n",
       "      <td>0.000000</td>\n",
       "      <td>5.000000</td>\n",
       "      <td>1.000000</td>\n",
       "      <td>2.000000</td>\n",
       "      <td>0.660000</td>\n",
       "      <td>0.621200</td>\n",
       "      <td>0.780000</td>\n",
       "      <td>0.253700</td>\n",
       "      <td>48.000000</td>\n",
       "      <td>220.000000</td>\n",
       "      <td>281.000000</td>\n",
       "    </tr>\n",
       "    <tr>\n",
       "      <th>max</th>\n",
       "      <td>17377.000000</td>\n",
       "      <td>4.000000</td>\n",
       "      <td>1.000000</td>\n",
       "      <td>12.000000</td>\n",
       "      <td>23.000000</td>\n",
       "      <td>1.000000</td>\n",
       "      <td>6.000000</td>\n",
       "      <td>1.000000</td>\n",
       "      <td>4.000000</td>\n",
       "      <td>1.000000</td>\n",
       "      <td>1.000000</td>\n",
       "      <td>1.000000</td>\n",
       "      <td>0.850700</td>\n",
       "      <td>367.000000</td>\n",
       "      <td>886.000000</td>\n",
       "      <td>977.000000</td>\n",
       "    </tr>\n",
       "  </tbody>\n",
       "</table>\n",
       "</div>"
      ],
      "text/plain": [
       "            instant        season            yr          mnth            hr  \\\n",
       "count  15641.000000  15641.000000  15641.000000  15641.000000  15641.000000   \n",
       "mean    8676.513842      2.503420      0.501758      6.536091     11.521258   \n",
       "std     5010.773755      1.107636      0.500013      3.441490      6.917606   \n",
       "min        1.000000      1.000000      0.000000      1.000000      0.000000   \n",
       "25%     4335.000000      2.000000      0.000000      4.000000      6.000000   \n",
       "50%     8678.000000      3.000000      1.000000      7.000000     12.000000   \n",
       "75%    13005.000000      3.000000      1.000000     10.000000     17.000000   \n",
       "max    17377.000000      4.000000      1.000000     12.000000     23.000000   \n",
       "\n",
       "            holiday       weekday    workingday    weathersit          temp  \\\n",
       "count  15641.000000  15641.000000  15641.000000  15641.000000  15641.000000   \n",
       "mean       0.028131      2.999233      0.682118      1.423950      0.497062   \n",
       "std        0.165353      2.005300      0.465668      0.638982      0.192451   \n",
       "min        0.000000      0.000000      0.000000      1.000000      0.020000   \n",
       "25%        0.000000      1.000000      0.000000      1.000000      0.340000   \n",
       "50%        0.000000      3.000000      1.000000      1.000000      0.500000   \n",
       "75%        0.000000      5.000000      1.000000      2.000000      0.660000   \n",
       "max        1.000000      6.000000      1.000000      4.000000      1.000000   \n",
       "\n",
       "              atemp           hum     windspeed        casual    registered  \\\n",
       "count  15641.000000  15641.000000  15641.000000  15641.000000  15641.000000   \n",
       "mean       0.476281      0.627579      0.189247     35.583147    153.644972   \n",
       "std        0.172520      0.192893      0.122188     49.226455    151.750573   \n",
       "min        0.000000      0.000000      0.000000      0.000000      0.000000   \n",
       "25%        0.333300      0.480000      0.104500      4.000000     34.000000   \n",
       "50%        0.484800      0.630000      0.164200     17.000000    115.000000   \n",
       "75%        0.621200      0.780000      0.253700     48.000000    220.000000   \n",
       "max        1.000000      1.000000      0.850700    367.000000    886.000000   \n",
       "\n",
       "                cnt  \n",
       "count  15641.000000  \n",
       "mean     189.919826  \n",
       "std      181.972508  \n",
       "min        1.000000  \n",
       "25%       40.000000  \n",
       "50%      142.000000  \n",
       "75%      281.000000  \n",
       "max      977.000000  "
      ]
     },
     "execution_count": 6,
     "metadata": {},
     "output_type": "execute_result"
    }
   ],
   "source": [
    "bikes.describe()"
   ]
  },
  {
   "cell_type": "code",
   "execution_count": 7,
   "metadata": {},
   "outputs": [
    {
     "data": {
      "text/plain": [
       "1738"
      ]
     },
     "execution_count": 7,
     "metadata": {},
     "output_type": "execute_result"
    }
   ],
   "source": [
    "17379 - 15641"
   ]
  },
  {
   "cell_type": "code",
   "execution_count": null,
   "metadata": {},
   "outputs": [],
   "source": [
    "17379 - 100%\n",
    "1738 - x"
   ]
  },
  {
   "cell_type": "code",
   "execution_count": 8,
   "metadata": {},
   "outputs": [
    {
     "data": {
      "text/plain": [
       "10.000575407100524"
      ]
     },
     "execution_count": 8,
     "metadata": {},
     "output_type": "execute_result"
    }
   ],
   "source": [
    "(1738 * 100) / 17379"
   ]
  },
  {
   "cell_type": "code",
   "execution_count": 10,
   "metadata": {},
   "outputs": [],
   "source": [
    "bikes.dropna(subset=['dteday'], inplace=True)"
   ]
  },
  {
   "cell_type": "code",
   "execution_count": 12,
   "metadata": {},
   "outputs": [
    {
     "data": {
      "text/plain": [
       "(15641, 17)"
      ]
     },
     "execution_count": 12,
     "metadata": {},
     "output_type": "execute_result"
    }
   ],
   "source": [
    "bikes.shape"
   ]
  },
  {
   "cell_type": "code",
   "execution_count": 13,
   "metadata": {},
   "outputs": [
    {
     "data": {
      "text/html": [
       "<div>\n",
       "<style scoped>\n",
       "    .dataframe tbody tr th:only-of-type {\n",
       "        vertical-align: middle;\n",
       "    }\n",
       "\n",
       "    .dataframe tbody tr th {\n",
       "        vertical-align: top;\n",
       "    }\n",
       "\n",
       "    .dataframe thead th {\n",
       "        text-align: right;\n",
       "    }\n",
       "</style>\n",
       "<table border=\"1\" class=\"dataframe\">\n",
       "  <thead>\n",
       "    <tr style=\"text-align: right;\">\n",
       "      <th></th>\n",
       "      <th>instant</th>\n",
       "      <th>season</th>\n",
       "      <th>yr</th>\n",
       "      <th>mnth</th>\n",
       "      <th>hr</th>\n",
       "      <th>holiday</th>\n",
       "      <th>weekday</th>\n",
       "      <th>workingday</th>\n",
       "      <th>weathersit</th>\n",
       "      <th>temp</th>\n",
       "      <th>atemp</th>\n",
       "      <th>hum</th>\n",
       "      <th>windspeed</th>\n",
       "      <th>casual</th>\n",
       "      <th>registered</th>\n",
       "      <th>cnt</th>\n",
       "    </tr>\n",
       "  </thead>\n",
       "  <tbody>\n",
       "    <tr>\n",
       "      <th>count</th>\n",
       "      <td>14060.000000</td>\n",
       "      <td>14061.000000</td>\n",
       "      <td>14076.000000</td>\n",
       "      <td>14062.000000</td>\n",
       "      <td>14068.000000</td>\n",
       "      <td>14076.000000</td>\n",
       "      <td>14078.000000</td>\n",
       "      <td>14097.000000</td>\n",
       "      <td>14078.000000</td>\n",
       "      <td>14066.000000</td>\n",
       "      <td>14076.000000</td>\n",
       "      <td>14070.000000</td>\n",
       "      <td>14082.000000</td>\n",
       "      <td>14071.000000</td>\n",
       "      <td>14090.000000</td>\n",
       "      <td>14079.000000</td>\n",
       "    </tr>\n",
       "    <tr>\n",
       "      <th>mean</th>\n",
       "      <td>8679.717496</td>\n",
       "      <td>2.507930</td>\n",
       "      <td>0.501563</td>\n",
       "      <td>6.542810</td>\n",
       "      <td>11.486779</td>\n",
       "      <td>0.027707</td>\n",
       "      <td>3.006535</td>\n",
       "      <td>0.683053</td>\n",
       "      <td>1.422432</td>\n",
       "      <td>0.496926</td>\n",
       "      <td>0.476055</td>\n",
       "      <td>0.627357</td>\n",
       "      <td>0.189552</td>\n",
       "      <td>35.416317</td>\n",
       "      <td>153.280625</td>\n",
       "      <td>189.165850</td>\n",
       "    </tr>\n",
       "    <tr>\n",
       "      <th>std</th>\n",
       "      <td>5015.960092</td>\n",
       "      <td>1.110674</td>\n",
       "      <td>0.500015</td>\n",
       "      <td>3.443693</td>\n",
       "      <td>6.915101</td>\n",
       "      <td>0.164137</td>\n",
       "      <td>2.002829</td>\n",
       "      <td>0.465303</td>\n",
       "      <td>0.638937</td>\n",
       "      <td>0.192971</td>\n",
       "      <td>0.172827</td>\n",
       "      <td>0.192863</td>\n",
       "      <td>0.122309</td>\n",
       "      <td>48.770799</td>\n",
       "      <td>151.317869</td>\n",
       "      <td>181.223589</td>\n",
       "    </tr>\n",
       "    <tr>\n",
       "      <th>min</th>\n",
       "      <td>2.000000</td>\n",
       "      <td>1.000000</td>\n",
       "      <td>0.000000</td>\n",
       "      <td>1.000000</td>\n",
       "      <td>0.000000</td>\n",
       "      <td>0.000000</td>\n",
       "      <td>0.000000</td>\n",
       "      <td>0.000000</td>\n",
       "      <td>1.000000</td>\n",
       "      <td>0.020000</td>\n",
       "      <td>0.000000</td>\n",
       "      <td>0.000000</td>\n",
       "      <td>0.000000</td>\n",
       "      <td>0.000000</td>\n",
       "      <td>0.000000</td>\n",
       "      <td>1.000000</td>\n",
       "    </tr>\n",
       "    <tr>\n",
       "      <th>25%</th>\n",
       "      <td>4336.250000</td>\n",
       "      <td>2.000000</td>\n",
       "      <td>0.000000</td>\n",
       "      <td>4.000000</td>\n",
       "      <td>6.000000</td>\n",
       "      <td>0.000000</td>\n",
       "      <td>1.000000</td>\n",
       "      <td>0.000000</td>\n",
       "      <td>1.000000</td>\n",
       "      <td>0.340000</td>\n",
       "      <td>0.333300</td>\n",
       "      <td>0.480000</td>\n",
       "      <td>0.104500</td>\n",
       "      <td>4.000000</td>\n",
       "      <td>34.000000</td>\n",
       "      <td>40.000000</td>\n",
       "    </tr>\n",
       "    <tr>\n",
       "      <th>50%</th>\n",
       "      <td>8677.500000</td>\n",
       "      <td>3.000000</td>\n",
       "      <td>1.000000</td>\n",
       "      <td>7.000000</td>\n",
       "      <td>11.000000</td>\n",
       "      <td>0.000000</td>\n",
       "      <td>3.000000</td>\n",
       "      <td>1.000000</td>\n",
       "      <td>1.000000</td>\n",
       "      <td>0.500000</td>\n",
       "      <td>0.484800</td>\n",
       "      <td>0.630000</td>\n",
       "      <td>0.164200</td>\n",
       "      <td>17.000000</td>\n",
       "      <td>115.000000</td>\n",
       "      <td>142.000000</td>\n",
       "    </tr>\n",
       "    <tr>\n",
       "      <th>75%</th>\n",
       "      <td>13024.250000</td>\n",
       "      <td>3.000000</td>\n",
       "      <td>1.000000</td>\n",
       "      <td>10.000000</td>\n",
       "      <td>17.000000</td>\n",
       "      <td>0.000000</td>\n",
       "      <td>5.000000</td>\n",
       "      <td>1.000000</td>\n",
       "      <td>2.000000</td>\n",
       "      <td>0.660000</td>\n",
       "      <td>0.621200</td>\n",
       "      <td>0.780000</td>\n",
       "      <td>0.253700</td>\n",
       "      <td>48.000000</td>\n",
       "      <td>219.000000</td>\n",
       "      <td>280.000000</td>\n",
       "    </tr>\n",
       "    <tr>\n",
       "      <th>max</th>\n",
       "      <td>17376.000000</td>\n",
       "      <td>4.000000</td>\n",
       "      <td>1.000000</td>\n",
       "      <td>12.000000</td>\n",
       "      <td>23.000000</td>\n",
       "      <td>1.000000</td>\n",
       "      <td>6.000000</td>\n",
       "      <td>1.000000</td>\n",
       "      <td>4.000000</td>\n",
       "      <td>1.000000</td>\n",
       "      <td>1.000000</td>\n",
       "      <td>1.000000</td>\n",
       "      <td>0.850700</td>\n",
       "      <td>367.000000</td>\n",
       "      <td>886.000000</td>\n",
       "      <td>977.000000</td>\n",
       "    </tr>\n",
       "  </tbody>\n",
       "</table>\n",
       "</div>"
      ],
      "text/plain": [
       "            instant        season            yr          mnth            hr  \\\n",
       "count  14060.000000  14061.000000  14076.000000  14062.000000  14068.000000   \n",
       "mean    8679.717496      2.507930      0.501563      6.542810     11.486779   \n",
       "std     5015.960092      1.110674      0.500015      3.443693      6.915101   \n",
       "min        2.000000      1.000000      0.000000      1.000000      0.000000   \n",
       "25%     4336.250000      2.000000      0.000000      4.000000      6.000000   \n",
       "50%     8677.500000      3.000000      1.000000      7.000000     11.000000   \n",
       "75%    13024.250000      3.000000      1.000000     10.000000     17.000000   \n",
       "max    17376.000000      4.000000      1.000000     12.000000     23.000000   \n",
       "\n",
       "            holiday       weekday    workingday    weathersit          temp  \\\n",
       "count  14076.000000  14078.000000  14097.000000  14078.000000  14066.000000   \n",
       "mean       0.027707      3.006535      0.683053      1.422432      0.496926   \n",
       "std        0.164137      2.002829      0.465303      0.638937      0.192971   \n",
       "min        0.000000      0.000000      0.000000      1.000000      0.020000   \n",
       "25%        0.000000      1.000000      0.000000      1.000000      0.340000   \n",
       "50%        0.000000      3.000000      1.000000      1.000000      0.500000   \n",
       "75%        0.000000      5.000000      1.000000      2.000000      0.660000   \n",
       "max        1.000000      6.000000      1.000000      4.000000      1.000000   \n",
       "\n",
       "              atemp           hum     windspeed        casual    registered  \\\n",
       "count  14076.000000  14070.000000  14082.000000  14071.000000  14090.000000   \n",
       "mean       0.476055      0.627357      0.189552     35.416317    153.280625   \n",
       "std        0.172827      0.192863      0.122309     48.770799    151.317869   \n",
       "min        0.000000      0.000000      0.000000      0.000000      0.000000   \n",
       "25%        0.333300      0.480000      0.104500      4.000000     34.000000   \n",
       "50%        0.484800      0.630000      0.164200     17.000000    115.000000   \n",
       "75%        0.621200      0.780000      0.253700     48.000000    219.000000   \n",
       "max        1.000000      1.000000      0.850700    367.000000    886.000000   \n",
       "\n",
       "                cnt  \n",
       "count  14079.000000  \n",
       "mean     189.165850  \n",
       "std      181.223589  \n",
       "min        1.000000  \n",
       "25%       40.000000  \n",
       "50%      142.000000  \n",
       "75%      280.000000  \n",
       "max      977.000000  "
      ]
     },
     "execution_count": 13,
     "metadata": {},
     "output_type": "execute_result"
    }
   ],
   "source": [
    "bikes.describe()"
   ]
  },
  {
   "cell_type": "code",
   "execution_count": 16,
   "metadata": {},
   "outputs": [
    {
     "data": {
      "text/plain": [
       "[1.0, NaN, 2.0, 3.0, 4.0]\n",
       "Categories (4, float64): [1.0, 2.0, 3.0, 4.0]"
      ]
     },
     "execution_count": 16,
     "metadata": {},
     "output_type": "execute_result"
    }
   ],
   "source": [
    "categorias = bikes['season'].astype('category')\n",
    "categorias.unique()"
   ]
  },
  {
   "cell_type": "code",
   "execution_count": 17,
   "metadata": {},
   "outputs": [
    {
     "name": "stdout",
     "output_type": "stream",
     "text": [
      "<class 'pandas.core.frame.DataFrame'>\n",
      "Int64Index: 15641 entries, 1 to 17378\n",
      "Data columns (total 17 columns):\n",
      "instant       14060 non-null float64\n",
      "dteday        15641 non-null object\n",
      "season        14061 non-null float64\n",
      "yr            14076 non-null float64\n",
      "mnth          14062 non-null float64\n",
      "hr            14068 non-null float64\n",
      "holiday       14076 non-null float64\n",
      "weekday       14078 non-null float64\n",
      "workingday    14097 non-null float64\n",
      "weathersit    14078 non-null float64\n",
      "temp          14066 non-null float64\n",
      "atemp         14076 non-null float64\n",
      "hum           14070 non-null float64\n",
      "windspeed     14082 non-null float64\n",
      "casual        14071 non-null float64\n",
      "registered    14090 non-null float64\n",
      "cnt           14079 non-null float64\n",
      "dtypes: float64(16), object(1)\n",
      "memory usage: 2.1+ MB\n"
     ]
    }
   ],
   "source": [
    "bikes.info()"
   ]
  },
  {
   "cell_type": "code",
   "execution_count": 22,
   "metadata": {},
   "outputs": [
    {
     "data": {
      "text/plain": [
       "'2012-12-31'"
      ]
     },
     "execution_count": 22,
     "metadata": {},
     "output_type": "execute_result"
    }
   ],
   "source": [
    "bikes['dteday'].max()"
   ]
  },
  {
   "cell_type": "code",
   "execution_count": 27,
   "metadata": {},
   "outputs": [
    {
     "data": {
      "text/plain": [
       "<matplotlib.axes._subplots.AxesSubplot at 0x19e655f6588>"
      ]
     },
     "execution_count": 27,
     "metadata": {},
     "output_type": "execute_result"
    },
    {
     "data": {
      "image/png": "[encoded data removed]",
      "text/plain": [
       "<Figure size 432x288 with 1 Axes>"
      ]
     },
     "metadata": {
      "needs_background": "light"
     },
     "output_type": "display_data"
    }
   ],
   "source": [
    "bikes.boxplot(column=['windspeed'])"
   ]
  },
  {
   "cell_type": "code",
   "execution_count": 28,
   "metadata": {},
   "outputs": [
    {
     "data": {
      "text/html": [
       "<div>\n",
       "<style scoped>\n",
       "    .dataframe tbody tr th:only-of-type {\n",
       "        vertical-align: middle;\n",
       "    }\n",
       "\n",
       "    .dataframe tbody tr th {\n",
       "        vertical-align: top;\n",
       "    }\n",
       "\n",
       "    .dataframe thead th {\n",
       "        text-align: right;\n",
       "    }\n",
       "</style>\n",
       "<table border=\"1\" class=\"dataframe\">\n",
       "  <thead>\n",
       "    <tr style=\"text-align: right;\">\n",
       "      <th></th>\n",
       "      <th>season</th>\n",
       "      <th>temp</th>\n",
       "      <th>atemp</th>\n",
       "      <th>hum</th>\n",
       "      <th>windspeed</th>\n",
       "    </tr>\n",
       "  </thead>\n",
       "  <tbody>\n",
       "    <tr>\n",
       "      <th>season</th>\n",
       "      <td>1.000000</td>\n",
       "      <td>0.311273</td>\n",
       "      <td>0.319559</td>\n",
       "      <td>0.146984</td>\n",
       "      <td>-0.149802</td>\n",
       "    </tr>\n",
       "    <tr>\n",
       "      <th>temp</th>\n",
       "      <td>0.311273</td>\n",
       "      <td>1.000000</td>\n",
       "      <td>0.988102</td>\n",
       "      <td>-0.069887</td>\n",
       "      <td>-0.016022</td>\n",
       "    </tr>\n",
       "    <tr>\n",
       "      <th>atemp</th>\n",
       "      <td>0.319559</td>\n",
       "      <td>0.988102</td>\n",
       "      <td>1.000000</td>\n",
       "      <td>-0.054224</td>\n",
       "      <td>-0.058803</td>\n",
       "    </tr>\n",
       "    <tr>\n",
       "      <th>hum</th>\n",
       "      <td>0.146984</td>\n",
       "      <td>-0.069887</td>\n",
       "      <td>-0.054224</td>\n",
       "      <td>1.000000</td>\n",
       "      <td>-0.289859</td>\n",
       "    </tr>\n",
       "    <tr>\n",
       "      <th>windspeed</th>\n",
       "      <td>-0.149802</td>\n",
       "      <td>-0.016022</td>\n",
       "      <td>-0.058803</td>\n",
       "      <td>-0.289859</td>\n",
       "      <td>1.000000</td>\n",
       "    </tr>\n",
       "  </tbody>\n",
       "</table>\n",
       "</div>"
      ],
      "text/plain": [
       "             season      temp     atemp       hum  windspeed\n",
       "season     1.000000  0.311273  0.319559  0.146984  -0.149802\n",
       "temp       0.311273  1.000000  0.988102 -0.069887  -0.016022\n",
       "atemp      0.319559  0.988102  1.000000 -0.054224  -0.058803\n",
       "hum        0.146984 -0.069887 -0.054224  1.000000  -0.289859\n",
       "windspeed -0.149802 -0.016022 -0.058803 -0.289859   1.000000"
      ]
     },
     "execution_count": 28,
     "metadata": {},
     "output_type": "execute_result"
    }
   ],
   "source": [
    "colunas = ['season', 'temp', 'atemp', 'hum','windspeed']\n",
    "bikes[colunas].corr()"
   ]
  },
  {
   "cell_type": "code",
   "execution_count": 29,
   "metadata": {},
   "outputs": [
    {
     "data": {
      "text/plain": [
       "instant       1581\n",
       "dteday           0\n",
       "season        1580\n",
       "yr            1565\n",
       "mnth          1579\n",
       "hr            1573\n",
       "holiday       1565\n",
       "weekday       1563\n",
       "workingday    1544\n",
       "weathersit    1563\n",
       "temp          1575\n",
       "atemp         1565\n",
       "hum           1571\n",
       "windspeed     1559\n",
       "casual        1570\n",
       "registered    1551\n",
       "cnt           1562\n",
       "dtype: int64"
      ]
     },
     "execution_count": 29,
     "metadata": {},
     "output_type": "execute_result"
    }
   ],
   "source": [
    "bikes.isnull().sum()"
   ]
  },
  {
   "cell_type": "code",
   "execution_count": 30,
   "metadata": {},
   "outputs": [],
   "source": [
    "bikes['hum'].fillna(bikes['hum'].mean(), inplace=True)"
   ]
  },
  {
   "cell_type": "code",
   "execution_count": 31,
   "metadata": {},
   "outputs": [],
   "source": [
    "bikes['cnt'].fillna(bikes['cnt'].mean(), inplace=True)"
   ]
  },
  {
   "cell_type": "code",
   "execution_count": 32,
   "metadata": {},
   "outputs": [],
   "source": [
    "bikes['casual'].fillna(bikes['casual'].mean(), inplace=True)"
   ]
  },
  {
   "cell_type": "code",
   "execution_count": 33,
   "metadata": {},
   "outputs": [
    {
     "data": {
      "text/plain": [
       "instant       1581\n",
       "dteday           0\n",
       "season        1580\n",
       "yr            1565\n",
       "mnth          1579\n",
       "hr            1573\n",
       "holiday       1565\n",
       "weekday       1563\n",
       "workingday    1544\n",
       "weathersit    1563\n",
       "temp          1575\n",
       "atemp         1565\n",
       "hum              0\n",
       "windspeed     1559\n",
       "casual           0\n",
       "registered    1551\n",
       "cnt              0\n",
       "dtype: int64"
      ]
     },
     "execution_count": 33,
     "metadata": {},
     "output_type": "execute_result"
    }
   ],
   "source": [
    "bikes.isnull().sum()"
   ]
  },
  {
   "cell_type": "code",
   "execution_count": 35,
   "metadata": {},
   "outputs": [
    {
     "data": {
      "text/plain": [
       "0.40598592511221737"
      ]
     },
     "execution_count": 35,
     "metadata": {},
     "output_type": "execute_result"
    }
   ],
   "source": [
    "from sklearn.linear_model import LinearRegression\n",
    "\n",
    "target = ['cnt']\n",
    "variaveis = ['hum','casual']\n",
    "\n",
    "x = bikes[variaveis]\n",
    "y = bikes[target]\n",
    "\n",
    "model = LinearRegression()\n",
    "model.fit(x, y)\n",
    "\n",
    "# visualizar o r2\n",
    "model.score(x, y)\n"
   ]
  },
  {
   "cell_type": "code",
   "execution_count": 37,
   "metadata": {},
   "outputs": [
    {
     "data": {
      "text/plain": [
       "0.7098339715834964"
      ]
     },
     "execution_count": 37,
     "metadata": {},
     "output_type": "execute_result"
    }
   ],
   "source": [
    "from sklearn import tree\n",
    "\n",
    "arvore = tree.DecisionTreeRegressor()\n",
    "arvore = arvore.fit(x, y)\n",
    "\n",
    "# visualizar o r2\n",
    "arvore.score(x, y)"
   ]
  },
  {
   "cell_type": "code",
   "execution_count": null,
   "metadata": {},
   "outputs": [],
   "source": []
  }
 ],
 "metadata": {
  "kernelspec": {
   "display_name": "Python 3",
   "language": "python",
   "name": "python3"
  },
  "language_info": {
   "codemirror_mode": {
    "name": "ipython",
    "version": 3
   },
   "file_extension": ".py",
   "mimetype": "text/x-python",
   "name": "python",
   "nbconvert_exporter": "python",
   "pygments_lexer": "ipython3",
   "version": "3.7.3"
  }
 },
 "nbformat": 4,
 "nbformat_minor": 2
}
