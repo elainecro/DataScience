{
 "cells": [
  {
   "cell_type": "code",
   "execution_count": 1,
   "metadata": {},
   "outputs": [],
   "source": [
    "from sklearn import datasets"
   ]
  },
  {
   "cell_type": "code",
   "execution_count": 2,
   "metadata": {},
   "outputs": [],
   "source": [
    "base = datasets.load_digits()\n",
    "entradas = base.data\n",
    "saidas = base.target"
   ]
  },
  {
   "cell_type": "code",
   "execution_count": 3,
   "metadata": {},
   "outputs": [
    {
     "name": "stdout",
     "output_type": "stream",
     "text": [
      "[ 0.  0.  5. 13.  9.  1.  0.  0.  0.  0. 13. 15. 10. 15.  5.  0.  0.  3.\n",
      " 15.  2.  0. 11.  8.  0.  0.  4. 12.  0.  0.  8.  8.  0.  0.  5.  8.  0.\n",
      "  0.  9.  8.  0.  0.  4. 11.  0.  1. 12.  7.  0.  0.  2. 14.  5. 10. 12.\n",
      "  0.  0.  0.  0.  6. 13. 10.  0.  0.  0.]\n"
     ]
    }
   ],
   "source": [
    "print(base.data[0])"
   ]
  },
  {
   "cell_type": "code",
   "execution_count": 4,
   "metadata": {},
   "outputs": [
    {
     "name": "stdout",
     "output_type": "stream",
     "text": [
      "[[ 0.  0.  5. 13.  9.  1.  0.  0.]\n",
      " [ 0.  0. 13. 15. 10. 15.  5.  0.]\n",
      " [ 0.  3. 15.  2.  0. 11.  8.  0.]\n",
      " [ 0.  4. 12.  0.  0.  8.  8.  0.]\n",
      " [ 0.  5.  8.  0.  0.  9.  8.  0.]\n",
      " [ 0.  4. 11.  0.  1. 12.  7.  0.]\n",
      " [ 0.  2. 14.  5. 10. 12.  0.  0.]\n",
      " [ 0.  0.  6. 13. 10.  0.  0.  0.]]\n"
     ]
    }
   ],
   "source": [
    "print(base.images[0])"
   ]
  },
  {
   "cell_type": "code",
   "execution_count": 5,
   "metadata": {},
   "outputs": [],
   "source": [
    "import matplotlib.pyplot as plt"
   ]
  },
  {
   "cell_type": "code",
   "execution_count": 6,
   "metadata": {},
   "outputs": [
    {
     "data": {
      "text/plain": [
       "<matplotlib.image.AxesImage at 0x19edb317748>"
      ]
     },
     "execution_count": 6,
     "metadata": {},
     "output_type": "execute_result"
    },
    {
     "data": {
      "image/png": "[encoded data removed]",
      "text/plain": [
       "<Figure size 144x144 with 1 Axes>"
      ]
     },
     "metadata": {
      "needs_background": "light"
     },
     "output_type": "display_data"
    }
   ],
   "source": [
    "plt.figure(figsize=(2,2))\n",
    "plt.imshow(base.images[0], cmap=plt.cm.gray_r)"
   ]
  },
  {
   "cell_type": "code",
   "execution_count": 7,
   "metadata": {},
   "outputs": [],
   "source": [
    "from sklearn.model_selection import train_test_split\n",
    "\n",
    "etreino, eteste, streino, steste = train_test_split(entradas, saidas, test_size=0.1, random_state=2)"
   ]
  },
  {
   "cell_type": "code",
   "execution_count": 8,
   "metadata": {},
   "outputs": [
    {
     "name": "stderr",
     "output_type": "stream",
     "text": [
      "D:\\Users\\elain\\Anaconda3\\lib\\site-packages\\sklearn\\svm\\base.py:196: FutureWarning: The default value of gamma will change from 'auto' to 'scale' in version 0.22 to account better for unscaled features. Set gamma explicitly to 'auto' or 'scale' to avoid this warning.\n",
      "  \"avoid this warning.\", FutureWarning)\n"
     ]
    }
   ],
   "source": [
    "from sklearn import svm\n",
    "\n",
    "classificador = svm.SVC()\n",
    "classificador.fit(etreino, streino)\n",
    "previsor = classificador.predict(eteste)"
   ]
  },
  {
   "cell_type": "code",
   "execution_count": 10,
   "metadata": {},
   "outputs": [
    {
     "name": "stdout",
     "output_type": "stream",
     "text": [
      "0.5611111111111111\n"
     ]
    }
   ],
   "source": [
    "from sklearn import metrics\n",
    "\n",
    "margem_acerto = metrics.accuracy_score(steste, previsor)\n",
    "print(margem_acerto)"
   ]
  },
  {
   "cell_type": "code",
   "execution_count": 11,
   "metadata": {},
   "outputs": [],
   "source": [
    "import numpy as np\n",
    "import matplotlib.image as mimg"
   ]
  },
  {
   "cell_type": "code",
   "execution_count": 13,
   "metadata": {},
   "outputs": [
    {
     "name": "stdout",
     "output_type": "stream",
     "text": [
      "[[[1.         1.         1.         1.        ]\n",
      "  [1.         1.         1.         1.        ]\n",
      "  [1.         1.         1.         1.        ]\n",
      "  [0.7529412  0.7529412  0.7529412  1.        ]\n",
      "  [0.21176471 0.21176471 0.21176471 1.        ]\n",
      "  [0.43529412 0.43529412 0.43529412 1.        ]\n",
      "  [0.4392157  0.4392157  0.4392157  1.        ]\n",
      "  [0.8627451  0.8627451  0.8627451  1.        ]]\n",
      "\n",
      " [[1.         1.         1.         1.        ]\n",
      "  [0.9607843  0.9607843  0.9607843  1.        ]\n",
      "  [0.43529412 0.43529412 0.43529412 1.        ]\n",
      "  [0.54509807 0.54509807 0.54509807 1.        ]\n",
      "  [0.7058824  0.7058824  0.7058824  1.        ]\n",
      "  [0.8235294  0.8235294  0.8235294  1.        ]\n",
      "  [0.7882353  0.7882353  0.7882353  1.        ]\n",
      "  [1.         1.         1.         1.        ]]\n",
      "\n",
      " [[1.         1.         1.         1.        ]\n",
      "  [0.75686276 0.75686276 0.75686276 1.        ]\n",
      "  [0.         0.         0.         1.        ]\n",
      "  [0.0627451  0.0627451  0.0627451  1.        ]\n",
      "  [0.33333334 0.33333334 0.33333334 1.        ]\n",
      "  [0.8980392  0.8980392  0.8980392  1.        ]\n",
      "  [1.         1.         1.         1.        ]\n",
      "  [1.         1.         1.         1.        ]]\n",
      "\n",
      " [[1.         1.         1.         1.        ]\n",
      "  [0.95686275 0.95686275 0.95686275 1.        ]\n",
      "  [0.8235294  0.8235294  0.8235294  1.        ]\n",
      "  [0.9098039  0.9098039  0.9098039  1.        ]\n",
      "  [0.28627452 0.28627452 0.28627452 1.        ]\n",
      "  [0.         0.         0.         1.        ]\n",
      "  [0.         0.         0.         1.        ]\n",
      "  [1.         1.         1.         1.        ]]\n",
      "\n",
      " [[1.         1.         1.         1.        ]\n",
      "  [1.         1.         1.         1.        ]\n",
      "  [1.         1.         1.         1.        ]\n",
      "  [1.         1.         1.         1.        ]\n",
      "  [1.         1.         1.         1.        ]\n",
      "  [0.45490196 0.45490196 0.45490196 1.        ]\n",
      "  [0.16470589 0.16470589 0.16470589 1.        ]\n",
      "  [0.5411765  0.5411765  0.5411765  1.        ]]\n",
      "\n",
      " [[1.         1.         1.         1.        ]\n",
      "  [1.         1.         1.         1.        ]\n",
      "  [1.         1.         1.         1.        ]\n",
      "  [1.         1.         1.         1.        ]\n",
      "  [0.6862745  0.6862745  0.6862745  1.        ]\n",
      "  [0.38431373 0.38431373 0.38431373 1.        ]\n",
      "  [0.43529412 0.43529412 0.43529412 1.        ]\n",
      "  [1.         1.         1.         1.        ]]\n",
      "\n",
      " [[0.6392157  0.6392157  0.6392157  1.        ]\n",
      "  [0.67058825 0.67058825 0.67058825 1.        ]\n",
      "  [0.78431374 0.78431374 0.78431374 1.        ]\n",
      "  [1.         1.         1.         1.        ]\n",
      "  [0.5254902  0.5254902  0.5254902  1.        ]\n",
      "  [0.20392157 0.20392157 0.20392157 1.        ]\n",
      "  [0.8784314  0.8784314  0.8784314  1.        ]\n",
      "  [1.         1.         1.         1.        ]]\n",
      "\n",
      " [[0.8235294  0.8235294  0.8235294  1.        ]\n",
      "  [0.14509805 0.14509805 0.14509805 1.        ]\n",
      "  [0.24705882 0.24705882 0.24705882 1.        ]\n",
      "  [0.4745098  0.4745098  0.4745098  1.        ]\n",
      "  [0.9019608  0.9019608  0.9019608  1.        ]\n",
      "  [0.98039216 0.98039216 0.98039216 1.        ]\n",
      "  [0.99607843 0.99607843 0.99607843 1.        ]\n",
      "  [1.         1.         1.         1.        ]]]\n"
     ]
    }
   ],
   "source": [
    "imagem = mimg.imread('num2.png')\n",
    "print(imagem)"
   ]
  },
  {
   "cell_type": "code",
   "execution_count": 14,
   "metadata": {},
   "outputs": [],
   "source": [
    "def rgb2gray(rgb):\n",
    "    img_array = np.dot(rgb[...,:3], [0.299,0.587,0.114])\n",
    "    img_array = (16 - (img_array * 16)).astype(int)\n",
    "    img_array = img_array.flatten()\n",
    "    return img_array"
   ]
  },
  {
   "cell_type": "code",
   "execution_count": 15,
   "metadata": {},
   "outputs": [
    {
     "data": {
      "text/plain": [
       "array([ 0,  0,  0,  3, 12,  9,  8,  2,  0,  0,  9,  7,  4,  2,  3,  0,  0,\n",
       "        3, 16, 14, 10,  1,  0,  0,  0,  0,  2,  1, 11, 16, 16,  0,  0,  0,\n",
       "        0,  0,  0,  8, 13,  7,  0,  0,  0,  0,  5,  9,  9,  0,  5,  5,  3,\n",
       "        0,  7, 12,  1,  0,  2, 13, 12,  8,  1,  0,  0,  0])"
      ]
     },
     "execution_count": 15,
     "metadata": {},
     "output_type": "execute_result"
    }
   ],
   "source": [
    "rgb2gray(imagem)"
   ]
  },
  {
   "cell_type": "code",
   "execution_count": 16,
   "metadata": {},
   "outputs": [
    {
     "name": "stderr",
     "output_type": "stream",
     "text": [
      "D:\\Users\\elain\\Anaconda3\\lib\\site-packages\\sklearn\\svm\\base.py:196: FutureWarning: The default value of gamma will change from 'auto' to 'scale' in version 0.22 to account better for unscaled features. Set gamma explicitly to 'auto' or 'scale' to avoid this warning.\n",
      "  \"avoid this warning.\", FutureWarning)\n"
     ]
    },
    {
     "name": "stdout",
     "output_type": "stream",
     "text": [
      "[5]\n"
     ]
    }
   ],
   "source": [
    "identificador = svm.SVC()\n",
    "identificador.fit(entradas, saidas)\n",
    "previsor_id = identificador.predict([rgb2gray(imagem)])\n",
    "print(previsor_id)"
   ]
  },
  {
   "cell_type": "code",
   "execution_count": 17,
   "metadata": {},
   "outputs": [
    {
     "name": "stderr",
     "output_type": "stream",
     "text": [
      "D:\\Users\\elain\\Anaconda3\\lib\\site-packages\\sklearn\\linear_model\\logistic.py:433: FutureWarning: Default solver will be changed to 'lbfgs' in 0.22. Specify a solver to silence this warning.\n",
      "  FutureWarning)\n",
      "D:\\Users\\elain\\Anaconda3\\lib\\site-packages\\sklearn\\linear_model\\logistic.py:460: FutureWarning: Default multi_class will be changed to 'auto' in 0.22. Specify the multi_class option to silence this warning.\n",
      "  \"this warning.\", FutureWarning)\n"
     ]
    },
    {
     "name": "stdout",
     "output_type": "stream",
     "text": [
      "0.9277777777777778\n"
     ]
    }
   ],
   "source": [
    "from sklearn.linear_model import LogisticRegression\n",
    "\n",
    "logr = LogisticRegression()\n",
    "logr.fit(etreino, streino)\n",
    "previsor_logr = logr.predict(eteste)\n",
    "acerto_logr = metrics.accuracy_score(steste, previsor_logr)\n",
    "print(acerto_logr)"
   ]
  },
  {
   "cell_type": "code",
   "execution_count": 19,
   "metadata": {},
   "outputs": [
    {
     "name": "stderr",
     "output_type": "stream",
     "text": [
      "D:\\Users\\elain\\Anaconda3\\lib\\site-packages\\sklearn\\linear_model\\logistic.py:433: FutureWarning: Default solver will be changed to 'lbfgs' in 0.22. Specify a solver to silence this warning.\n",
      "  FutureWarning)\n",
      "D:\\Users\\elain\\Anaconda3\\lib\\site-packages\\sklearn\\linear_model\\logistic.py:460: FutureWarning: Default multi_class will be changed to 'auto' in 0.22. Specify the multi_class option to silence this warning.\n",
      "  \"this warning.\", FutureWarning)\n"
     ]
    },
    {
     "name": "stdout",
     "output_type": "stream",
     "text": [
      "[4]\n"
     ]
    }
   ],
   "source": [
    "regressor = LogisticRegression()\n",
    "regressor.fit(entradas, saidas)\n",
    "previsor_regl = regressor.predict([rgb2gray(imagem)])\n",
    "print(previsor_regl)"
   ]
  },
  {
   "cell_type": "code",
   "execution_count": null,
   "metadata": {},
   "outputs": [],
   "source": []
  }
 ],
 "metadata": {
  "kernelspec": {
   "display_name": "Python 3",
   "language": "python",
   "name": "python3"
  },
  "language_info": {
   "codemirror_mode": {
    "name": "ipython",
    "version": 3
   },
   "file_extension": ".py",
   "mimetype": "text/x-python",
   "name": "python",
   "nbconvert_exporter": "python",
   "pygments_lexer": "ipython3",
   "version": "3.7.3"
  }
 },
 "nbformat": 4,
 "nbformat_minor": 2
}
