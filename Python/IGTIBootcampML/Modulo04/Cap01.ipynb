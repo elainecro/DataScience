{
 "cells": [
  {
   "cell_type": "code",
   "execution_count": 1,
   "metadata": {},
   "outputs": [],
   "source": [
    "import pandas as pd\n",
    "import numpy as np\n",
    "import matplotlib.pyplot as plt\n",
    "from scipy import stats"
   ]
  },
  {
   "cell_type": "code",
   "execution_count": 2,
   "metadata": {},
   "outputs": [],
   "source": [
    "#base sem anomalia\n",
    "xi = [3246, 3476, 3724, 3773, 3837, 3968, 4198, 4048, 4170, 4226, 4788, 4009, 3568, 4357]\n",
    "\n",
    "#base com anomalia\n",
    "xy = [6799, 3476, 3724, 3773, 3837, 3968, 4198, 4048, 4170, 4226, 4788, 4009, 3568, 4357]"
   ]
  },
  {
   "cell_type": "code",
   "execution_count": 3,
   "metadata": {},
   "outputs": [],
   "source": [
    "def print_full(x):\n",
    "    pd.set_option('display.max_rows', len(x))\n",
    "    pd.set_option('display.max_columns', len(x))\n",
    "    print(x)\n",
    "    pd.reset_option('display.max_rows')\n",
    "    pd.reset_option('display.max_columns')"
   ]
  },
  {
   "cell_type": "code",
   "execution_count": 4,
   "metadata": {},
   "outputs": [],
   "source": [
    "#média\n",
    "xi_mean = np.mean(xi)\n",
    "xy_mean = np.mean(xy)\n",
    "\n",
    "mediana_xi = np.median(xi)\n",
    "mediana_xy = np.median(xy)\n",
    "\n",
    "moda_xi = stats.mode(xi)\n",
    "moda_xy = stats.mode(xy)"
   ]
  },
  {
   "cell_type": "code",
   "execution_count": 5,
   "metadata": {},
   "outputs": [
    {
     "name": "stdout",
     "output_type": "stream",
     "text": [
      "Minha lita sem anomalias:  [3246, 3476, 3724, 3773, 3837, 3968, 4198, 4048, 4170, 4226, 4788, 4009, 3568, 4357]\n",
      "A mediana da minha lista é:  3988.5\n",
      "Minha lita com anomalias:  [6799, 3476, 3724, 3773, 3837, 3968, 4198, 4048, 4170, 4226, 4788, 4009, 3568, 4357]\n",
      "A mediana da minha lista é:  4028.5\n"
     ]
    }
   ],
   "source": [
    "print(\"Minha lita sem anomalias: \", str(xi))\n",
    "print(\"A mediana da minha lista é: \", str(mediana_xi))\n",
    "\n",
    "print(\"Minha lita com anomalias: \", str(xy))\n",
    "print(\"A mediana da minha lista é: \", str(mediana_xy))"
   ]
  },
  {
   "cell_type": "code",
   "execution_count": 6,
   "metadata": {},
   "outputs": [],
   "source": [
    "# Desvio padrão\n",
    "xi_sd = np.std(xi, ddof = 1)\n",
    "xy_sd = np.std(xy, ddof = 1)"
   ]
  },
  {
   "cell_type": "code",
   "execution_count": 7,
   "metadata": {},
   "outputs": [],
   "source": [
    "# Z-Score\n",
    "z_score_xi = (xi - xi_mean) / xi_sd\n",
    "z_score_xy = (xy - xy_mean) / xy_sd"
   ]
  },
  {
   "cell_type": "code",
   "execution_count": 8,
   "metadata": {},
   "outputs": [
    {
     "name": "stdout",
     "output_type": "stream",
     "text": [
      "    Base (sem anomalias)  Z-score (sem anomalias)  Base (com anomalias)  \\\n",
      "0                   3246                -1.798239                  6799   \n",
      "1                   3476                -1.215945                  3476   \n",
      "2                   3724                -0.588080                  3724   \n",
      "3                   3773                -0.464027                  3773   \n",
      "4                   3837                -0.301997                  3837   \n",
      "5                   3968                 0.029657                  3968   \n",
      "6                   4198                 0.611951                  4198   \n",
      "7                   4048                 0.232194                  4048   \n",
      "8                   4170                 0.541063                  4170   \n",
      "9                   4226                 0.682839                  4226   \n",
      "10                  4788                 2.105661                  4788   \n",
      "11                  4009                 0.133457                  4009   \n",
      "12                  3568                -0.983028                  3568   \n",
      "13                  4357                 1.014493                  4357   \n",
      "\n",
      "    Z-score (com anomalias)  \n",
      "0                  3.164145  \n",
      "1                 -0.897170  \n",
      "2                 -0.594068  \n",
      "3                 -0.534181  \n",
      "4                 -0.455962  \n",
      "5                 -0.295856  \n",
      "6                 -0.014753  \n",
      "7                 -0.198081  \n",
      "8                 -0.048975  \n",
      "9                  0.019468  \n",
      "10                 0.706335  \n",
      "11                -0.245746  \n",
      "12                -0.784729  \n",
      "13                 0.179574  \n"
     ]
    }
   ],
   "source": [
    "df = pd.DataFrame({'Base (sem anomalias)': xi, 'Z-score (sem anomalias)': z_score_xi,\n",
    "                   'Base (com anomalias)': xy, 'Z-score (com anomalias)': z_score_xy})\n",
    "df.round(2)\n",
    "cols = ['Base (sem anomalias)','Z-score (sem anomalias)','Base (com anomalias)','Z-score (com anomalias)']\n",
    "df = df[cols]\n",
    "print_full(df)"
   ]
  },
  {
   "cell_type": "code",
   "execution_count": 9,
   "metadata": {},
   "outputs": [
    {
     "data": {
      "image/png": "[encoded data removed]",
      "text/plain": [
       "<Figure size 432x288 with 1 Axes>"
      ]
     },
     "metadata": {
      "needs_background": "light"
     },
     "output_type": "display_data"
    }
   ],
   "source": [
    "# Plot da distribuição normal xi\n",
    "stats.probplot(xi, dist=\"norm\", plot=plt)\n",
    "plt.show()"
   ]
  },
  {
   "cell_type": "code",
   "execution_count": 10,
   "metadata": {},
   "outputs": [
    {
     "data": {
      "image/png": "[encoded data removed]",
      "text/plain": [
       "<Figure size 432x288 with 1 Axes>"
      ]
     },
     "metadata": {
      "needs_background": "light"
     },
     "output_type": "display_data"
    }
   ],
   "source": [
    "# Plot da distribuição normal xy\n",
    "stats.probplot(xy, dist=\"norm\", plot=plt)\n",
    "plt.show()"
   ]
  },
  {
   "cell_type": "code",
   "execution_count": 11,
   "metadata": {},
   "outputs": [
    {
     "data": {
      "image/png": "[encoded data removed]",
      "text/plain": [
       "<Figure size 432x288 with 1 Axes>"
      ]
     },
     "metadata": {
      "needs_background": "light"
     },
     "output_type": "display_data"
    }
   ],
   "source": [
    "fig_xi = plt.figure(1, figsize=(6,4))\n",
    "axi = fig_xi.add_subplot(111)\n",
    "bp_xi = axi.boxplot(xi)"
   ]
  },
  {
   "cell_type": "code",
   "execution_count": 12,
   "metadata": {},
   "outputs": [
    {
     "data": {
      "image/png": "[encoded data removed]",
      "text/plain": [
       "<Figure size 432x288 with 1 Axes>"
      ]
     },
     "metadata": {
      "needs_background": "light"
     },
     "output_type": "display_data"
    }
   ],
   "source": [
    "fig_xy = plt.figure(1, figsize=(6,4))\n",
    "axy = fig_xy.add_subplot(111)\n",
    "bp_xy = axy.boxplot(xy)"
   ]
  },
  {
   "cell_type": "code",
   "execution_count": null,
   "metadata": {},
   "outputs": [],
   "source": []
  }
 ],
 "metadata": {
  "kernelspec": {
   "display_name": "Python 3",
   "language": "python",
   "name": "python3"
  },
  "language_info": {
   "codemirror_mode": {
    "name": "ipython",
    "version": 3
   },
   "file_extension": ".py",
   "mimetype": "text/x-python",
   "name": "python",
   "nbconvert_exporter": "python",
   "pygments_lexer": "ipython3",
   "version": "3.7.3"
  }
 },
 "nbformat": 4,
 "nbformat_minor": 2
}
