{
 "cells": [
  {
   "cell_type": "markdown",
   "metadata": {},
   "source": [
    "# <font color='blue'>Data Science Academy</font>\n",
    "# <font color='blue'>Deploy de Modelos de Machine Learning</font>\n",
    "\n",
    "# <font color='blue'>Amazon SageMaker</font>\n",
    "## <font color='blue'>Lab</font>\n",
    "### <font color='blue'>Deploy de Modelo Para Previsão de Doenças Usando Regsitros Médicos Eletrônicos</font>"
   ]
  },
  {
   "cell_type": "markdown",
   "metadata": {},
   "source": [
    "## Parte 3 - Segunda Versão do Modelo e Criação do Endpoint"
   ]
  },
  {
   "cell_type": "code",
   "execution_count": 1,
   "metadata": {},
   "outputs": [
    {
     "name": "stdout",
     "output_type": "stream",
     "text": [
      "Versão da Linguagem Python Usada Neste Jupyter Notebook: 3.7.10\n"
     ]
    }
   ],
   "source": [
    "# Versão da Linguagem Python\n",
    "from platform import python_version\n",
    "print('Versão da Linguagem Python Usada Neste Jupyter Notebook:', python_version())"
   ]
  },
  {
   "cell_type": "markdown",
   "metadata": {},
   "source": [
    "## Imports "
   ]
  },
  {
   "cell_type": "markdown",
   "metadata": {},
   "source": [
    "https://pypi.org/project/boto/\n",
    "\n",
    "https://sagemaker.readthedocs.io/en/stable/"
   ]
  },
  {
   "cell_type": "code",
   "execution_count": 2,
   "metadata": {},
   "outputs": [],
   "source": [
    "# Imports\n",
    "import os\n",
    "import json\n",
    "import sagemaker\n",
    "import boto3\n",
    "import numpy as np\n",
    "import pandas as pd\n",
    "from sagemaker.serializers import CSVSerializer\n",
    "from sagemaker.inputs import TrainingInput\n",
    "from sagemaker.predictor import Predictor\n",
    "from sagemaker import get_execution_role"
   ]
  },
  {
   "cell_type": "code",
   "execution_count": 3,
   "metadata": {},
   "outputs": [
    {
     "data": {
      "text/plain": [
       "'2.31.0'"
      ]
     },
     "execution_count": 3,
     "metadata": {},
     "output_type": "execute_result"
    }
   ],
   "source": [
    "sagemaker.__version__"
   ]
  },
  {
   "cell_type": "markdown",
   "metadata": {},
   "source": [
    "## Carrega os Dados"
   ]
  },
  {
   "cell_type": "code",
   "execution_count": 4,
   "metadata": {},
   "outputs": [],
   "source": [
    "# Obtém a sessão do SageMaker\n",
    "session = boto3.Session()"
   ]
  },
  {
   "cell_type": "code",
   "execution_count": 5,
   "metadata": {},
   "outputs": [],
   "source": [
    "s3 = session.resource('s3')"
   ]
  },
  {
   "cell_type": "code",
   "execution_count": 6,
   "metadata": {},
   "outputs": [
    {
     "data": {
      "text/plain": [
       "s3.ServiceResource()"
      ]
     },
     "execution_count": 6,
     "metadata": {},
     "output_type": "execute_result"
    }
   ],
   "source": [
    "s3"
   ]
  },
  {
   "cell_type": "code",
   "execution_count": 7,
   "metadata": {},
   "outputs": [
    {
     "name": "stderr",
     "output_type": "stream",
     "text": [
      "Couldn't call 'get_role' to get Role ARN from role name AmazonSageMaker-ExecutionRole-20210330T151228 to get Role path.\n",
      "Assuming role was created in SageMaker AWS console, as the name contains `AmazonSageMaker-ExecutionRole`. Defaulting to Role ARN with service-role in path. If this Role ARN is incorrect, please add IAM read permissions to your role or supply the Role Arn directly.\n"
     ]
    },
    {
     "name": "stdout",
     "output_type": "stream",
     "text": [
      "arn:aws:iam::879456481532:role/service-role/AmazonSageMaker-ExecutionRole-20210330T151228\n"
     ]
    }
   ],
   "source": [
    "from sagemaker import get_execution_role\n",
    "role = get_execution_role()\n",
    "print(role)"
   ]
  },
  {
   "cell_type": "code",
   "execution_count": 8,
   "metadata": {},
   "outputs": [],
   "source": [
    "# Altere para o nome do seu bucket\n",
    "s3_bucket = 'dsa-deploy-app'\n",
    "prefix = 'dados'"
   ]
  },
  {
   "cell_type": "code",
   "execution_count": 9,
   "metadata": {},
   "outputs": [
    {
     "name": "stdout",
     "output_type": "stream",
     "text": [
      "s3://dsa-deploy-app/dados/\n"
     ]
    }
   ],
   "source": [
    "raiz = 's3://{}/{}/'.format(s3_bucket, prefix)\n",
    "print(raiz)"
   ]
  },
  {
   "cell_type": "code",
   "execution_count": 10,
   "metadata": {},
   "outputs": [],
   "source": [
    "dados_treino = TrainingInput(s3_data = raiz + 'treino.csv', content_type = 'csv')\n",
    "dados_teste = TrainingInput(s3_data = raiz + 'teste.csv', content_type = 'csv')"
   ]
  },
  {
   "cell_type": "code",
   "execution_count": 11,
   "metadata": {},
   "outputs": [
    {
     "name": "stdout",
     "output_type": "stream",
     "text": [
      "{\n",
      "  \"config\": {\n",
      "    \"DataSource\": {\n",
      "      \"S3DataSource\": {\n",
      "        \"S3DataType\": \"S3Prefix\",\n",
      "        \"S3Uri\": \"s3://dsa-deploy-app/dados/treino.csv\",\n",
      "        \"S3DataDistributionType\": \"FullyReplicated\"\n",
      "      }\n",
      "    },\n",
      "    \"ContentType\": \"csv\"\n",
      "  }\n",
      "}\n"
     ]
    }
   ],
   "source": [
    "print(json.dumps(dados_treino.__dict__, indent = 2))"
   ]
  },
  {
   "cell_type": "code",
   "execution_count": 12,
   "metadata": {},
   "outputs": [
    {
     "name": "stdout",
     "output_type": "stream",
     "text": [
      "{\n",
      "  \"config\": {\n",
      "    \"DataSource\": {\n",
      "      \"S3DataSource\": {\n",
      "        \"S3DataType\": \"S3Prefix\",\n",
      "        \"S3Uri\": \"s3://dsa-deploy-app/dados/teste.csv\",\n",
      "        \"S3DataDistributionType\": \"FullyReplicated\"\n",
      "      }\n",
      "    },\n",
      "    \"ContentType\": \"csv\"\n",
      "  }\n",
      "}\n"
     ]
    }
   ],
   "source": [
    "print(json.dumps(dados_teste.__dict__, indent = 2))"
   ]
  },
  {
   "cell_type": "markdown",
   "metadata": {},
   "source": [
    "## Construção e Treinamento do Modelo"
   ]
  },
  {
   "cell_type": "code",
   "execution_count": 13,
   "metadata": {},
   "outputs": [],
   "source": [
    "# Criação do Container\n",
    "# https://sagemaker.readthedocs.io/en/stable/api/utility/image_uris.html\n",
    "container_uri = sagemaker.image_uris.retrieve(region = session.region_name, \n",
    "                                              framework = 'xgboost', \n",
    "                                              version = '1.0-1', \n",
    "                                              image_scope = 'training')"
   ]
  },
  {
   "cell_type": "code",
   "execution_count": 14,
   "metadata": {},
   "outputs": [],
   "source": [
    "# Argumentos do estimador\n",
    "sagemaker_execution_role = role\n",
    "sagemaker_session = sagemaker.Session()"
   ]
  },
  {
   "cell_type": "code",
   "execution_count": 15,
   "metadata": {},
   "outputs": [],
   "source": [
    "# Criação do Estimador\n",
    "# https://sagemaker.readthedocs.io/en/stable/api/training/estimators.html\n",
    "xgb = sagemaker.estimator.Estimator(image_uri = container_uri,\n",
    "                                    role = sagemaker_execution_role, \n",
    "                                    instance_count = 2, \n",
    "                                    instance_type = 'ml.m5.large',\n",
    "                                    output_path = 's3://{}/artefatos'.format(s3_bucket),\n",
    "                                    sagemaker_session = sagemaker_session,\n",
    "                                    base_job_name = 'classifier')"
   ]
  },
  {
   "cell_type": "code",
   "execution_count": 16,
   "metadata": {},
   "outputs": [],
   "source": [
    "# Definição dos Hiperparâmetros\n",
    "# https://docs.aws.amazon.com/pt_br/sagemaker/latest/dg/xgboost_hyperparameters.html\n",
    "xgb.set_hyperparameters(objective = 'binary:logistic', num_round = 100)"
   ]
  },
  {
   "cell_type": "code",
   "execution_count": 17,
   "metadata": {},
   "outputs": [
    {
     "name": "stdout",
     "output_type": "stream",
     "text": [
      "2021-04-01 17:02:19 Starting - Starting the training job...\n",
      "2021-04-01 17:02:42 Starting - Launching requested ML instancesProfilerReport-1617296539: InProgress\n",
      "......\n",
      "2021-04-01 17:03:43 Starting - Preparing the instances for training............\n",
      "2021-04-01 17:05:50 Downloading - Downloading input data\n",
      "2021-04-01 17:05:50 Training - Downloading the training image...\n",
      "2021-04-01 17:06:05 Training - Training image download completed. Training in progress.\u001b[35mINFO:sagemaker-containers:Imported framework sagemaker_xgboost_container.training\u001b[0m\n",
      "\u001b[35mINFO:sagemaker-containers:Failed to parse hyperparameter objective value binary:logistic to Json.\u001b[0m\n",
      "\u001b[35mReturning the value itself\u001b[0m\n",
      "\u001b[35mINFO:sagemaker-containers:No GPUs detected (normal if no gpus installed)\u001b[0m\n",
      "\u001b[35mINFO:sagemaker_xgboost_container.training:Running XGBoost Sagemaker in algorithm mode\u001b[0m\n",
      "\u001b[35mINFO:root:Determined delimiter of CSV input is ','\u001b[0m\n",
      "\u001b[35mINFO:root:Determined delimiter of CSV input is ','\u001b[0m\n",
      "\u001b[35mINFO:root:Determined delimiter of CSV input is ','\u001b[0m\n",
      "\u001b[35m[17:06:08] 7461x4 matrix with 29844 entries loaded from /opt/ml/input/data/train?format=csv&label_column=0&delimiter=,\u001b[0m\n",
      "\u001b[35mINFO:root:Determined delimiter of CSV input is ','\u001b[0m\n",
      "\u001b[35m[17:06:08] 2487x4 matrix with 9948 entries loaded from /opt/ml/input/data/validation?format=csv&label_column=0&delimiter=,\u001b[0m\n",
      "\u001b[35mINFO:root:Distributed node training with 2 hosts: ['algo-1', 'algo-2']\u001b[0m\n",
      "\u001b[35mINFO:RabitContextManager:Failed to connect to RabitTracker on attempt 0\u001b[0m\n",
      "\u001b[35mINFO:RabitContextManager:Sleeping for 3 sec before retrying\u001b[0m\n",
      "\u001b[34mINFO:sagemaker-containers:Imported framework sagemaker_xgboost_container.training\u001b[0m\n",
      "\u001b[34mINFO:sagemaker-containers:Failed to parse hyperparameter objective value binary:logistic to Json.\u001b[0m\n",
      "\u001b[34mReturning the value itself\u001b[0m\n",
      "\u001b[34mINFO:sagemaker-containers:No GPUs detected (normal if no gpus installed)\u001b[0m\n",
      "\u001b[34mINFO:sagemaker_xgboost_container.training:Running XGBoost Sagemaker in algorithm mode\u001b[0m\n",
      "\u001b[34mINFO:root:Determined delimiter of CSV input is ','\u001b[0m\n",
      "\u001b[34mINFO:root:Determined delimiter of CSV input is ','\u001b[0m\n",
      "\u001b[34mINFO:root:Determined delimiter of CSV input is ','\u001b[0m\n",
      "\u001b[34m[17:06:08] 7461x4 matrix with 29844 entries loaded from /opt/ml/input/data/train?format=csv&label_column=0&delimiter=,\u001b[0m\n",
      "\u001b[34mINFO:root:Determined delimiter of CSV input is ','\u001b[0m\n",
      "\u001b[34m[17:06:08] 2487x4 matrix with 9948 entries loaded from /opt/ml/input/data/validation?format=csv&label_column=0&delimiter=,\u001b[0m\n",
      "\u001b[34mINFO:root:Distributed node training with 2 hosts: ['algo-1', 'algo-2']\u001b[0m\n",
      "\u001b[34mINFO:RabitTracker:start listen on algo-1:9099\u001b[0m\n",
      "\u001b[34mINFO:RabitContextManager:Rabit slave environment: {'DMLC_TRACKER_URI': 'algo-1', 'DMLC_TRACKER_PORT': 9099}\u001b[0m\n",
      "\u001b[34mINFO:RabitContextManager:Connected to RabitTracker.\u001b[0m\n",
      "\u001b[34mINFO:RabitTracker:No data received from connection ('10.0.188.150', 57552). Closing.\u001b[0m\n",
      "\u001b[34mtask NULL connected to the tracker\u001b[0m\n",
      "\u001b[35mINFO:RabitContextManager:Connected to RabitTracker.\u001b[0m\n",
      "\u001b[35mtask NULL connected to the tracker\u001b[0m\n",
      "\u001b[35mtask NULL got new rank 0\u001b[0m\n",
      "\u001b[34mINFO:RabitTracker:No data received from connection ('10.0.135.25', 59726). Closing.\u001b[0m\n",
      "\u001b[34mINFO:RabitTracker:Recieve start signal from 10.0.135.25; assign rank 0\u001b[0m\n",
      "\u001b[34mtask NULL got new rank 1\u001b[0m\n",
      "\u001b[34mINFO:RabitTracker:Recieve start signal from 10.0.188.150; assign rank 1\u001b[0m\n",
      "\u001b[34mINFO:RabitTracker:@tracker All of 2 nodes getting started\u001b[0m\n",
      "\u001b[34mINFO:RabitTracker:@tracker All nodes finishes job\u001b[0m\n",
      "\u001b[34mINFO:RabitTracker:@tracker 0.17371201515197754 secs between node start and job finish\u001b[0m\n",
      "\u001b[34mINFO:RabitTracker:start listen on algo-1:9100\u001b[0m\n",
      "\u001b[34mINFO:RabitContextManager:Rabit slave environment: {'DMLC_TRACKER_URI': 'algo-1', 'DMLC_TRACKER_PORT': 9100}\u001b[0m\n",
      "\u001b[34mINFO:RabitContextManager:Connected to RabitTracker.\u001b[0m\n",
      "\u001b[34mINFO:RabitTracker:No data received from connection ('10.0.188.150', 34112). Closing.\u001b[0m\n",
      "\u001b[34mtask NULL connected to the tracker\u001b[0m\n",
      "\u001b[35mINFO:RabitContextManager:Failed to connect to RabitTracker on attempt 0\u001b[0m\n",
      "\u001b[35mINFO:RabitContextManager:Sleeping for 3 sec before retrying\u001b[0m\n",
      "\u001b[34mINFO:RabitTracker:No data received from connection ('10.0.135.25', 45272). Closing.\u001b[0m\n",
      "\u001b[34mINFO:RabitTracker:Recieve start signal from 10.0.135.25; assign rank 0\u001b[0m\n",
      "\u001b[34mtask NULL got new rank 1\u001b[0m\n",
      "\u001b[34mINFO:RabitTracker:Recieve start signal from 10.0.188.150; assign rank 1\u001b[0m\n",
      "\u001b[34mINFO:root:Train matrix has 7461 rows\u001b[0m\n",
      "\u001b[34mINFO:root:Validation matrix has 2487 rows\u001b[0m\n",
      "\u001b[34mINFO:RabitTracker:@tracker All of 2 nodes getting started\u001b[0m\n",
      "\u001b[34m[17:06:14] WARNING: /workspace/src/learner.cc:328: \u001b[0m\n",
      "\u001b[34mParameters: { num_round } might not be used.\n",
      "\n",
      "  This may not be accurate due to some parameters are only used in language bindings but\n",
      "  passed down to XGBoost core.  Or some parameters are not used but slip through this\n",
      "  verification. Please open an issue if you find above cases.\n",
      "\n",
      "\u001b[0m\n",
      "\u001b[34m[17:06:14] WARNING: /workspace/src/gbm/gbtree.cc:128: Tree method is automatically selected to be 'approx' for distributed training.\u001b[0m\n",
      "\u001b[34mINFO:RabitTracker:[0]#011train-error:0.18496#011validation-error:0.20748\u001b[0m\n",
      "\u001b[35mINFO:RabitContextManager:Connected to RabitTracker.\u001b[0m\n",
      "\u001b[35mtask NULL connected to the tracker\u001b[0m\n",
      "\u001b[35mtask NULL got new rank 0\u001b[0m\n",
      "\u001b[35mINFO:root:Train matrix has 7461 rows\u001b[0m\n",
      "\u001b[35mINFO:root:Validation matrix has 2487 rows\u001b[0m\n",
      "\u001b[35m[17:06:14] WARNING: /workspace/src/learner.cc:328: \u001b[0m\n",
      "\u001b[35mParameters: { num_round } might not be used.\n",
      "\n",
      "  This may not be accurate due to some parameters are only used in language bindings but\n",
      "  passed down to XGBoost core.  Or some parameters are not used but slip through this\n",
      "  verification. Please open an issue if you find above cases.\n",
      "\n",
      "\u001b[0m\n",
      "\u001b[35m[17:06:14] WARNING: /workspace/src/gbm/gbtree.cc:128: Tree method is automatically selected to be 'approx' for distributed training.\u001b[0m\n",
      "\u001b[34mINFO:RabitTracker:[1]#011train-error:0.18362#011validation-error:0.20667\u001b[0m\n",
      "\u001b[34mINFO:RabitTracker:[2]#011train-error:0.18630#011validation-error:0.20507\u001b[0m\n",
      "\u001b[34mINFO:RabitTracker:[3]#011train-error:0.18550#011validation-error:0.20426\u001b[0m\n",
      "\u001b[34mINFO:RabitTracker:[4]#011train-error:0.18617#011validation-error:0.20547\u001b[0m\n",
      "\u001b[34mINFO:RabitTracker:[5]#011train-error:0.18630#011validation-error:0.20507\u001b[0m\n",
      "\u001b[34mINFO:RabitTracker:[6]#011train-error:0.18550#011validation-error:0.20547\u001b[0m\n",
      "\u001b[34mINFO:RabitTracker:[7]#011train-error:0.18590#011validation-error:0.20547\u001b[0m\n",
      "\u001b[34mINFO:RabitTracker:[8]#011train-error:0.18510#011validation-error:0.20547\u001b[0m\n",
      "\u001b[34mINFO:RabitTracker:[9]#011train-error:0.18536#011validation-error:0.20587\u001b[0m\n",
      "\u001b[34mINFO:RabitTracker:[10]#011train-error:0.18523#011validation-error:0.20466\u001b[0m\n",
      "\u001b[34mINFO:RabitTracker:[11]#011train-error:0.18483#011validation-error:0.20507\u001b[0m\n",
      "\u001b[34mINFO:RabitTracker:[12]#011train-error:0.18456#011validation-error:0.20507\u001b[0m\n",
      "\u001b[34mINFO:RabitTracker:[13]#011train-error:0.18322#011validation-error:0.20587\u001b[0m\n",
      "\u001b[34mINFO:RabitTracker:[14]#011train-error:0.18268#011validation-error:0.20627\u001b[0m\n",
      "\u001b[34mINFO:RabitTracker:[15]#011train-error:0.18161#011validation-error:0.20788\u001b[0m\n",
      "\u001b[34mINFO:RabitTracker:[16]#011train-error:0.17987#011validation-error:0.20949\u001b[0m\n",
      "\u001b[34mINFO:RabitTracker:[17]#011train-error:0.17920#011validation-error:0.20949\u001b[0m\n",
      "\u001b[34mINFO:RabitTracker:[18]#011train-error:0.17853#011validation-error:0.20828\u001b[0m\n",
      "\u001b[34mINFO:RabitTracker:[19]#011train-error:0.17719#011validation-error:0.20909\u001b[0m\n",
      "\u001b[34mINFO:RabitTracker:[20]#011train-error:0.17705#011validation-error:0.21029\u001b[0m\n",
      "\u001b[34mINFO:RabitTracker:[21]#011train-error:0.17612#011validation-error:0.20828\u001b[0m\n",
      "\u001b[34mINFO:RabitTracker:[22]#011train-error:0.17464#011validation-error:0.20909\u001b[0m\n",
      "\u001b[34mINFO:RabitTracker:[23]#011train-error:0.17330#011validation-error:0.20909\u001b[0m\n",
      "\u001b[34mINFO:RabitTracker:[24]#011train-error:0.17317#011validation-error:0.20909\u001b[0m\n",
      "\u001b[34mINFO:RabitTracker:[25]#011train-error:0.17236#011validation-error:0.21029\u001b[0m\n",
      "\u001b[34mINFO:RabitTracker:[26]#011train-error:0.17183#011validation-error:0.21070\u001b[0m\n",
      "\u001b[34mINFO:RabitTracker:[27]#011train-error:0.17156#011validation-error:0.21190\u001b[0m\n",
      "\u001b[34mINFO:RabitTracker:[28]#011train-error:0.17169#011validation-error:0.21150\u001b[0m\n",
      "\u001b[34mINFO:RabitTracker:[29]#011train-error:0.17129#011validation-error:0.21190\u001b[0m\n",
      "\u001b[34mINFO:RabitTracker:[30]#011train-error:0.17102#011validation-error:0.21150\u001b[0m\n",
      "\u001b[34mINFO:RabitTracker:[31]#011train-error:0.16968#011validation-error:0.21190\u001b[0m\n",
      "\u001b[34mINFO:RabitTracker:[32]#011train-error:0.16727#011validation-error:0.21311\u001b[0m\n",
      "\u001b[34mINFO:RabitTracker:[33]#011train-error:0.16526#011validation-error:0.21311\u001b[0m\n",
      "\u001b[34mINFO:RabitTracker:[34]#011train-error:0.16352#011validation-error:0.21190\u001b[0m\n",
      "\u001b[34mINFO:RabitTracker:[35]#011train-error:0.16245#011validation-error:0.21150\u001b[0m\n",
      "\u001b[34mINFO:RabitTracker:[36]#011train-error:0.16137#011validation-error:0.21150\u001b[0m\n",
      "\u001b[34mINFO:RabitTracker:[37]#011train-error:0.16097#011validation-error:0.21190\u001b[0m\n",
      "\u001b[34mINFO:RabitTracker:[38]#011train-error:0.16043#011validation-error:0.21190\u001b[0m\n",
      "\u001b[34mINFO:RabitTracker:[39]#011train-error:0.15963#011validation-error:0.21230\u001b[0m\n",
      "\u001b[34mINFO:RabitTracker:[40]#011train-error:0.15775#011validation-error:0.21311\u001b[0m\n",
      "\u001b[34mINFO:RabitTracker:[41]#011train-error:0.15682#011validation-error:0.21230\u001b[0m\n",
      "\u001b[34mINFO:RabitTracker:[42]#011train-error:0.15588#011validation-error:0.21190\u001b[0m\n",
      "\u001b[34mINFO:RabitTracker:[43]#011train-error:0.15454#011validation-error:0.21431\u001b[0m\n",
      "\u001b[34mINFO:RabitTracker:[44]#011train-error:0.15199#011validation-error:0.21431\u001b[0m\n",
      "\u001b[34mINFO:RabitTracker:[45]#011train-error:0.15105#011validation-error:0.21351\u001b[0m\n",
      "\u001b[34mINFO:RabitTracker:[46]#011train-error:0.14971#011validation-error:0.21311\u001b[0m\n",
      "\u001b[34mINFO:RabitTracker:[47]#011train-error:0.14918#011validation-error:0.21311\u001b[0m\n",
      "\u001b[34mINFO:RabitTracker:[48]#011train-error:0.14810#011validation-error:0.21190\u001b[0m\n",
      "\u001b[34mINFO:RabitTracker:[49]#011train-error:0.14716#011validation-error:0.21190\u001b[0m\n",
      "\u001b[34mINFO:RabitTracker:[50]#011train-error:0.14636#011validation-error:0.21431\u001b[0m\n",
      "\u001b[34mINFO:RabitTracker:[51]#011train-error:0.14556#011validation-error:0.21351\u001b[0m\n",
      "\u001b[34mINFO:RabitTracker:[52]#011train-error:0.14435#011validation-error:0.21351\u001b[0m\n",
      "\u001b[34mINFO:RabitTracker:[53]#011train-error:0.14274#011validation-error:0.21230\u001b[0m\n",
      "\u001b[34mINFO:RabitTracker:[54]#011train-error:0.14180#011validation-error:0.21271\u001b[0m\n",
      "\u001b[34mINFO:RabitTracker:[55]#011train-error:0.14033#011validation-error:0.21311\u001b[0m\n",
      "\u001b[34mINFO:RabitTracker:[56]#011train-error:0.13953#011validation-error:0.21230\u001b[0m\n",
      "\u001b[34mINFO:RabitTracker:[57]#011train-error:0.13845#011validation-error:0.21311\u001b[0m\n",
      "\u001b[34mINFO:RabitTracker:[58]#011train-error:0.13658#011validation-error:0.21472\u001b[0m\n",
      "\u001b[34mINFO:RabitTracker:[59]#011train-error:0.13510#011validation-error:0.21713\u001b[0m\n",
      "\u001b[34mINFO:RabitTracker:[60]#011train-error:0.13363#011validation-error:0.21713\u001b[0m\n",
      "\u001b[34mINFO:RabitTracker:[61]#011train-error:0.13296#011validation-error:0.21793\u001b[0m\n",
      "\u001b[34mINFO:RabitTracker:[62]#011train-error:0.13215#011validation-error:0.21713\u001b[0m\n",
      "\u001b[34mINFO:RabitTracker:[63]#011train-error:0.13202#011validation-error:0.21673\u001b[0m\n",
      "\u001b[34mINFO:RabitTracker:[64]#011train-error:0.12987#011validation-error:0.21592\u001b[0m\n",
      "\u001b[34mINFO:RabitTracker:[65]#011train-error:0.12947#011validation-error:0.21632\u001b[0m\n",
      "\u001b[34mINFO:RabitTracker:[66]#011train-error:0.12827#011validation-error:0.21552\u001b[0m\n",
      "\u001b[34mINFO:RabitTracker:[67]#011train-error:0.12612#011validation-error:0.21592\u001b[0m\n",
      "\u001b[34mINFO:RabitTracker:[68]#011train-error:0.12572#011validation-error:0.21632\u001b[0m\n",
      "\u001b[34mINFO:RabitTracker:[69]#011train-error:0.12492#011validation-error:0.21592\u001b[0m\n",
      "\u001b[34mINFO:RabitTracker:[70]#011train-error:0.12398#011validation-error:0.21632\u001b[0m\n",
      "\u001b[34mINFO:RabitTracker:[71]#011train-error:0.12250#011validation-error:0.21632\u001b[0m\n",
      "\u001b[34mINFO:RabitTracker:[72]#011train-error:0.12157#011validation-error:0.21632\u001b[0m\n",
      "\u001b[34mINFO:RabitTracker:[73]#011train-error:0.12157#011validation-error:0.21713\u001b[0m\n",
      "\u001b[34mINFO:RabitTracker:[74]#011train-error:0.12036#011validation-error:0.21753\u001b[0m\n",
      "\u001b[34mINFO:RabitTracker:[75]#011train-error:0.11889#011validation-error:0.21834\u001b[0m\n",
      "\u001b[34mINFO:RabitTracker:[76]#011train-error:0.11795#011validation-error:0.21954\u001b[0m\n",
      "\u001b[34mINFO:RabitTracker:[77]#011train-error:0.11594#011validation-error:0.21954\u001b[0m\n",
      "\u001b[34mINFO:RabitTracker:[78]#011train-error:0.11446#011validation-error:0.21954\u001b[0m\n",
      "\u001b[34mINFO:RabitTracker:[79]#011train-error:0.11352#011validation-error:0.21994\u001b[0m\n",
      "\u001b[34mINFO:RabitTracker:[80]#011train-error:0.11299#011validation-error:0.21914\u001b[0m\n",
      "\u001b[34mINFO:RabitTracker:[81]#011train-error:0.11205#011validation-error:0.21954\u001b[0m\n",
      "\u001b[34mINFO:RabitTracker:[82]#011train-error:0.11071#011validation-error:0.21954\u001b[0m\n",
      "\u001b[34mINFO:RabitTracker:[83]#011train-error:0.10964#011validation-error:0.21914\u001b[0m\n",
      "\u001b[34mINFO:RabitTracker:[84]#011train-error:0.10870#011validation-error:0.21874\u001b[0m\n",
      "\u001b[34mINFO:RabitTracker:[85]#011train-error:0.10696#011validation-error:0.22035\u001b[0m\n",
      "\u001b[34mINFO:RabitTracker:[86]#011train-error:0.10428#011validation-error:0.22075\u001b[0m\n",
      "\u001b[34mINFO:RabitTracker:[87]#011train-error:0.10414#011validation-error:0.22075\u001b[0m\n",
      "\u001b[34mINFO:RabitTracker:[88]#011train-error:0.10226#011validation-error:0.22155\u001b[0m\n",
      "\u001b[34mINFO:RabitTracker:[89]#011train-error:0.10119#011validation-error:0.22155\u001b[0m\n",
      "\u001b[34mINFO:RabitTracker:[90]#011train-error:0.10052#011validation-error:0.22236\u001b[0m\n",
      "\u001b[34mINFO:RabitTracker:[91]#011train-error:0.09878#011validation-error:0.22316\u001b[0m\n",
      "\u001b[34mINFO:RabitTracker:[92]#011train-error:0.09784#011validation-error:0.22276\u001b[0m\n",
      "\u001b[34mINFO:RabitTracker:[93]#011train-error:0.09690#011validation-error:0.22477\u001b[0m\n",
      "\u001b[34mINFO:RabitTracker:[94]#011train-error:0.09583#011validation-error:0.22477\u001b[0m\n",
      "\u001b[34mINFO:RabitTracker:[95]#011train-error:0.09530#011validation-error:0.22517\u001b[0m\n",
      "\u001b[34mINFO:RabitTracker:[96]#011train-error:0.09503#011validation-error:0.22477\u001b[0m\n",
      "\u001b[34mINFO:RabitTracker:[97]#011train-error:0.09476#011validation-error:0.22356\u001b[0m\n",
      "\u001b[34mINFO:RabitTracker:[98]#011train-error:0.09409#011validation-error:0.22236\u001b[0m\n",
      "\u001b[34mINFO:RabitTracker:[99]#011train-error:0.09248#011validation-error:0.22276\u001b[0m\n",
      "\u001b[34mINFO:RabitTracker:@tracker All nodes finishes job\u001b[0m\n",
      "\u001b[34mINFO:RabitTracker:@tracker 14.880134105682373 secs between node start and job finish\u001b[0m\n",
      "\n",
      "2021-04-01 17:06:43 Uploading - Uploading generated training model\n",
      "2021-04-01 17:06:43 Completed - Training job completed\n",
      "Training seconds: 150\n",
      "Billable seconds: 150\n"
     ]
    }
   ],
   "source": [
    "# Treinamento\n",
    "xgb.fit({'train': dados_treino, 'validation': dados_teste})"
   ]
  },
  {
   "cell_type": "markdown",
   "metadata": {},
   "source": [
    "## Gerando o Endpoint a Partir do Modelo"
   ]
  },
  {
   "cell_type": "code",
   "execution_count": 18,
   "metadata": {},
   "outputs": [
    {
     "name": "stdout",
     "output_type": "stream",
     "text": [
      "-------------!"
     ]
    }
   ],
   "source": [
    "# Deploy do modelo treinado criando o endpoint\n",
    "# https://docs.aws.amazon.com/pt_br/sagemaker/latest/dg/xgboost.html\n",
    "xgb_predictor = xgb.deploy(initial_instance_count = 2, instance_type = 'ml.m5.large')"
   ]
  },
  {
   "cell_type": "markdown",
   "metadata": {},
   "source": [
    "## Previsões a Partir do Endpoint"
   ]
  },
  {
   "cell_type": "code",
   "execution_count": 19,
   "metadata": {},
   "outputs": [],
   "source": [
    "csv_serializer = CSVSerializer()"
   ]
  },
  {
   "cell_type": "code",
   "execution_count": 20,
   "metadata": {},
   "outputs": [],
   "source": [
    "predictor = Predictor(endpoint_name = xgb_predictor.endpoint_name, serializer = csv_serializer)"
   ]
  },
  {
   "cell_type": "code",
   "execution_count": 21,
   "metadata": {},
   "outputs": [],
   "source": [
    "df_teste = pd.read_csv(raiz + 'teste.csv', names = ['class', 'bmi', 'diastolic_bp_change', 'systolic_bp_change', 'respiratory_rate'])"
   ]
  },
  {
   "cell_type": "code",
   "execution_count": 22,
   "metadata": {},
   "outputs": [
    {
     "data": {
      "text/html": [
       "<div>\n",
       "<style scoped>\n",
       "    .dataframe tbody tr th:only-of-type {\n",
       "        vertical-align: middle;\n",
       "    }\n",
       "\n",
       "    .dataframe tbody tr th {\n",
       "        vertical-align: top;\n",
       "    }\n",
       "\n",
       "    .dataframe thead th {\n",
       "        text-align: right;\n",
       "    }\n",
       "</style>\n",
       "<table border=\"1\" class=\"dataframe\">\n",
       "  <thead>\n",
       "    <tr style=\"text-align: right;\">\n",
       "      <th></th>\n",
       "      <th>class</th>\n",
       "      <th>bmi</th>\n",
       "      <th>diastolic_bp_change</th>\n",
       "      <th>systolic_bp_change</th>\n",
       "      <th>respiratory_rate</th>\n",
       "    </tr>\n",
       "  </thead>\n",
       "  <tbody>\n",
       "    <tr>\n",
       "      <th>0</th>\n",
       "      <td>0</td>\n",
       "      <td>-0.940089</td>\n",
       "      <td>-0.403964</td>\n",
       "      <td>-0.279542</td>\n",
       "      <td>-0.817379</td>\n",
       "    </tr>\n",
       "    <tr>\n",
       "      <th>1</th>\n",
       "      <td>0</td>\n",
       "      <td>-0.502614</td>\n",
       "      <td>-0.665582</td>\n",
       "      <td>0.131742</td>\n",
       "      <td>-0.362450</td>\n",
       "    </tr>\n",
       "    <tr>\n",
       "      <th>2</th>\n",
       "      <td>0</td>\n",
       "      <td>1.078473</td>\n",
       "      <td>0.347981</td>\n",
       "      <td>0.228029</td>\n",
       "      <td>-0.817379</td>\n",
       "    </tr>\n",
       "    <tr>\n",
       "      <th>3</th>\n",
       "      <td>1</td>\n",
       "      <td>-0.636164</td>\n",
       "      <td>-0.251491</td>\n",
       "      <td>0.587034</td>\n",
       "      <td>-0.817379</td>\n",
       "    </tr>\n",
       "    <tr>\n",
       "      <th>4</th>\n",
       "      <td>1</td>\n",
       "      <td>-0.528479</td>\n",
       "      <td>2.037253</td>\n",
       "      <td>1.383463</td>\n",
       "      <td>0.185934</td>\n",
       "    </tr>\n",
       "  </tbody>\n",
       "</table>\n",
       "</div>"
      ],
      "text/plain": [
       "   class       bmi  diastolic_bp_change  systolic_bp_change  respiratory_rate\n",
       "0      0 -0.940089            -0.403964           -0.279542         -0.817379\n",
       "1      0 -0.502614            -0.665582            0.131742         -0.362450\n",
       "2      0  1.078473             0.347981            0.228029         -0.817379\n",
       "3      1 -0.636164            -0.251491            0.587034         -0.817379\n",
       "4      1 -0.528479             2.037253            1.383463          0.185934"
      ]
     },
     "execution_count": 22,
     "metadata": {},
     "output_type": "execute_result"
    }
   ],
   "source": [
    "df_teste.head()"
   ]
  },
  {
   "cell_type": "code",
   "execution_count": 23,
   "metadata": {},
   "outputs": [
    {
     "data": {
      "text/html": [
       "<div>\n",
       "<style scoped>\n",
       "    .dataframe tbody tr th:only-of-type {\n",
       "        vertical-align: middle;\n",
       "    }\n",
       "\n",
       "    .dataframe tbody tr th {\n",
       "        vertical-align: top;\n",
       "    }\n",
       "\n",
       "    .dataframe thead th {\n",
       "        text-align: right;\n",
       "    }\n",
       "</style>\n",
       "<table border=\"1\" class=\"dataframe\">\n",
       "  <thead>\n",
       "    <tr style=\"text-align: right;\">\n",
       "      <th></th>\n",
       "      <th>class</th>\n",
       "      <th>bmi</th>\n",
       "      <th>diastolic_bp_change</th>\n",
       "      <th>systolic_bp_change</th>\n",
       "      <th>respiratory_rate</th>\n",
       "    </tr>\n",
       "  </thead>\n",
       "  <tbody>\n",
       "    <tr>\n",
       "      <th>1017</th>\n",
       "      <td>0</td>\n",
       "      <td>-0.022864</td>\n",
       "      <td>-0.496655</td>\n",
       "      <td>2.153753</td>\n",
       "      <td>-0.067314</td>\n",
       "    </tr>\n",
       "  </tbody>\n",
       "</table>\n",
       "</div>"
      ],
      "text/plain": [
       "      class       bmi  diastolic_bp_change  systolic_bp_change  \\\n",
       "1017      0 -0.022864            -0.496655            2.153753   \n",
       "\n",
       "      respiratory_rate  \n",
       "1017         -0.067314  "
      ]
     },
     "execution_count": 23,
     "metadata": {},
     "output_type": "execute_result"
    }
   ],
   "source": [
    "X = df_teste.sample(1)\n",
    "X"
   ]
  },
  {
   "cell_type": "code",
   "execution_count": 24,
   "metadata": {},
   "outputs": [
    {
     "data": {
      "text/plain": [
       "array([-0.02286428, -0.49665455,  2.15375335, -0.06731361])"
      ]
     },
     "execution_count": 24,
     "metadata": {},
     "output_type": "execute_result"
    }
   ],
   "source": [
    "X = X.values[0]\n",
    "X[1:]"
   ]
  },
  {
   "cell_type": "code",
   "execution_count": 25,
   "metadata": {},
   "outputs": [
    {
     "data": {
      "text/plain": [
       "array([-0.02286428, -0.49665455,  2.15375335, -0.06731361])"
      ]
     },
     "execution_count": 25,
     "metadata": {},
     "output_type": "execute_result"
    }
   ],
   "source": [
    "paciente = X[1:]\n",
    "paciente"
   ]
  },
  {
   "cell_type": "code",
   "execution_count": 26,
   "metadata": {},
   "outputs": [
    {
     "name": "stdout",
     "output_type": "stream",
     "text": [
      "Previsão = Não Diabético\n",
      "\n"
     ]
    }
   ],
   "source": [
    "# Faz a previsão de um paciente\n",
    "predicted_class_prob = predictor.predict(paciente).decode('utf-8')\n",
    "if float(predicted_class_prob) < 0.5:\n",
    "    print('Previsão = Não Diabético')\n",
    "else:\n",
    "    print('Previsão = Diabético')\n",
    "print()"
   ]
  },
  {
   "cell_type": "markdown",
   "metadata": {},
   "source": [
    "## Avaliando o Modelo"
   ]
  },
  {
   "cell_type": "code",
   "execution_count": 27,
   "metadata": {},
   "outputs": [],
   "source": [
    "# Previsão de todos os pacientes no dataset de teste\n",
    "predictions = []\n",
    "expected = []\n",
    "correct = 0\n",
    "for row in df_teste.values:\n",
    "    expected_class = row[0]\n",
    "    payload = row[1:]\n",
    "    predicted_class_prob = predictor.predict(payload).decode('utf-8')\n",
    "    predicted_class = 1\n",
    "    if float(predicted_class_prob) < 0.5:\n",
    "        predicted_class = 0  \n",
    "    if predicted_class == expected_class:\n",
    "        correct += 1\n",
    "    predictions.append(predicted_class)\n",
    "    expected.append(expected_class)"
   ]
  },
  {
   "cell_type": "code",
   "execution_count": 28,
   "metadata": {},
   "outputs": [
    {
     "name": "stdout",
     "output_type": "stream",
     "text": [
      "Acurácia = 77.72%\n"
     ]
    }
   ],
   "source": [
    "print('Acurácia = {:.2f}%'.format(correct/len(predictions) * 100))"
   ]
  },
  {
   "cell_type": "markdown",
   "metadata": {},
   "source": [
    "#### Confusion Matrix"
   ]
  },
  {
   "cell_type": "code",
   "execution_count": 29,
   "metadata": {},
   "outputs": [
    {
     "data": {
      "text/html": [
       "<div>\n",
       "<style scoped>\n",
       "    .dataframe tbody tr th:only-of-type {\n",
       "        vertical-align: middle;\n",
       "    }\n",
       "\n",
       "    .dataframe tbody tr th {\n",
       "        vertical-align: top;\n",
       "    }\n",
       "\n",
       "    .dataframe thead th {\n",
       "        text-align: right;\n",
       "    }\n",
       "</style>\n",
       "<table border=\"1\" class=\"dataframe\">\n",
       "  <thead>\n",
       "    <tr style=\"text-align: right;\">\n",
       "      <th>Predicted</th>\n",
       "      <th>0</th>\n",
       "      <th>1</th>\n",
       "      <th>All</th>\n",
       "    </tr>\n",
       "    <tr>\n",
       "      <th>Actual</th>\n",
       "      <th></th>\n",
       "      <th></th>\n",
       "      <th></th>\n",
       "    </tr>\n",
       "  </thead>\n",
       "  <tbody>\n",
       "    <tr>\n",
       "      <th>0.0</th>\n",
       "      <td>1909</td>\n",
       "      <td>71</td>\n",
       "      <td>1980</td>\n",
       "    </tr>\n",
       "    <tr>\n",
       "      <th>1.0</th>\n",
       "      <td>483</td>\n",
       "      <td>24</td>\n",
       "      <td>507</td>\n",
       "    </tr>\n",
       "    <tr>\n",
       "      <th>All</th>\n",
       "      <td>2392</td>\n",
       "      <td>95</td>\n",
       "      <td>2487</td>\n",
       "    </tr>\n",
       "  </tbody>\n",
       "</table>\n",
       "</div>"
      ],
      "text/plain": [
       "Predicted     0   1   All\n",
       "Actual                   \n",
       "0.0        1909  71  1980\n",
       "1.0         483  24   507\n",
       "All        2392  95  2487"
      ]
     },
     "execution_count": 29,
     "metadata": {},
     "output_type": "execute_result"
    }
   ],
   "source": [
    "expected = pd.Series(np.array(expected))\n",
    "predictions = pd.Series(np.array(predictions))\n",
    "pd.crosstab(expected, predictions, rownames = ['Actual'], colnames = ['Predicted'], margins = True)"
   ]
  },
  {
   "cell_type": "markdown",
   "metadata": {},
   "source": [
    "# Fim"
   ]
  }
 ],
 "metadata": {
  "instance_type": "ml.t3.medium",
  "kernelspec": {
   "display_name": "Python 3 (Data Science)",
   "language": "python",
   "name": "python3__SAGEMAKER_INTERNAL__arn:aws:sagemaker:us-east-2:429704687514:image/datascience-1.0"
  },
  "language_info": {
   "codemirror_mode": {
    "name": "ipython",
    "version": 3
   },
   "file_extension": ".py",
   "mimetype": "text/x-python",
   "name": "python",
   "nbconvert_exporter": "python",
   "pygments_lexer": "ipython3",
   "version": "3.7.10"
  }
 },
 "nbformat": 4,
 "nbformat_minor": 4
}
